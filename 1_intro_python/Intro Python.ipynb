{
 "cells": [
  {
   "cell_type": "markdown",
   "metadata": {},
   "source": [
    "## Módulo 2: Introducción a Python"
   ]
  },
  {
   "cell_type": "markdown",
   "metadata": {},
   "source": [
    "En este curso usaremos Python 3.6. Lo obtendremos a través de [Anaconda 3.6](https://www.anaconda.com/download/), esta distribución de Python contiene todos los paquetes para cómputo científico."
   ]
  },
  {
   "cell_type": "markdown",
   "metadata": {},
   "source": [
    "### Introducción a objetos"
   ]
  },
  {
   "cell_type": "markdown",
   "metadata": {},
   "source": [
    "Python es un lenguaje orientado a objetos. Es decir que todas las cosas con las que trabajamos en Python son objetos particulares con características y métodos específicos."
   ]
  },
  {
   "cell_type": "code",
   "execution_count": null,
   "metadata": {
    "ExecuteTime": {
     "end_time": "2018-03-02T01:42:49.455073Z",
     "start_time": "2018-03-02T01:42:49.435751Z"
    },
    "collapsed": true
   },
   "outputs": [],
   "source": [
    "# un número entero\n",
    "type(2)"
   ]
  },
  {
   "cell_type": "code",
   "execution_count": null,
   "metadata": {
    "ExecuteTime": {
     "end_time": "2018-03-02T01:43:40.876317Z",
     "start_time": "2018-03-02T01:43:40.866637Z"
    },
    "collapsed": true
   },
   "outputs": [],
   "source": [
    "# puede multiplicarse\n",
    "2*3"
   ]
  },
  {
   "cell_type": "code",
   "execution_count": null,
   "metadata": {
    "ExecuteTime": {
     "end_time": "2018-03-02T01:43:50.607878Z",
     "start_time": "2018-03-02T01:43:50.601145Z"
    },
    "collapsed": true
   },
   "outputs": [],
   "source": [
    "# una cadena de texto\n",
    "type(\"Hola\")"
   ]
  },
  {
   "cell_type": "code",
   "execution_count": null,
   "metadata": {
    "ExecuteTime": {
     "end_time": "2018-03-02T01:44:29.600707Z",
     "start_time": "2018-03-02T01:44:29.590268Z"
    },
    "collapsed": true
   },
   "outputs": [],
   "source": [
    "# también, pero no significa lo mismo\n",
    "\"Hola\"*3"
   ]
  },
  {
   "cell_type": "code",
   "execution_count": null,
   "metadata": {
    "ExecuteTime": {
     "end_time": "2018-03-02T01:45:40.452924Z",
     "start_time": "2018-03-02T01:45:40.434762Z"
    },
    "collapsed": true
   },
   "outputs": [],
   "source": [
    "print(\"Suma de enteros (2+2): \", 2 + 2)\n",
    "print(\"Suma de cadenas ('2'+'2'): \", \"2\" + \"2\")"
   ]
  },
  {
   "cell_type": "markdown",
   "metadata": {},
   "source": [
    "Las clases pueden tener métodos."
   ]
  },
  {
   "cell_type": "code",
   "execution_count": null,
   "metadata": {
    "ExecuteTime": {
     "end_time": "2018-03-02T01:47:01.803341Z",
     "start_time": "2018-03-02T01:47:01.785782Z"
    },
    "collapsed": true
   },
   "outputs": [],
   "source": [
    "\"Hola, ¿cómo estás?\".find(\"es\")"
   ]
  },
  {
   "cell_type": "code",
   "execution_count": null,
   "metadata": {
    "ExecuteTime": {
     "end_time": "2018-03-02T01:48:01.417899Z",
     "start_time": "2018-03-02T01:48:01.404470Z"
    },
    "collapsed": true
   },
   "outputs": [],
   "source": [
    "\"Hola, ¿cómo estás?\".find(\"adios\")"
   ]
  },
  {
   "cell_type": "markdown",
   "metadata": {
    "ExecuteTime": {
     "end_time": "2017-09-02T03:57:50.691474Z",
     "start_time": "2017-09-02T03:57:50.677560Z"
    }
   },
   "source": [
    "Además de los métodos, que son propios del objeto, existen funciones que reciben objetos específicos."
   ]
  },
  {
   "cell_type": "code",
   "execution_count": null,
   "metadata": {
    "ExecuteTime": {
     "end_time": "2018-03-02T01:48:31.385531Z",
     "start_time": "2018-03-02T01:48:31.373314Z"
    },
    "collapsed": true
   },
   "outputs": [],
   "source": [
    "# El valor absoluto de un número\n",
    "abs(-10)"
   ]
  },
  {
   "cell_type": "code",
   "execution_count": null,
   "metadata": {
    "ExecuteTime": {
     "end_time": "2018-03-02T01:48:48.029424Z",
     "start_time": "2018-03-02T01:48:48.014674Z"
    },
    "collapsed": true
   },
   "outputs": [],
   "source": [
    "# ¿El valor absoluto de una palabra?\n",
    "abs(\"Hola\")"
   ]
  },
  {
   "cell_type": "markdown",
   "metadata": {
    "collapsed": true
   },
   "source": [
    "También existen \"constructores\" de objetos que reciben objetos de otra clase."
   ]
  },
  {
   "cell_type": "code",
   "execution_count": null,
   "metadata": {
    "ExecuteTime": {
     "end_time": "2018-03-02T01:49:59.557225Z",
     "start_time": "2018-03-02T01:49:59.543496Z"
    },
    "collapsed": true
   },
   "outputs": [],
   "source": [
    "str(1)"
   ]
  },
  {
   "cell_type": "code",
   "execution_count": null,
   "metadata": {
    "ExecuteTime": {
     "end_time": "2018-03-02T01:50:20.263671Z",
     "start_time": "2018-03-02T01:50:20.251019Z"
    },
    "collapsed": true
   },
   "outputs": [],
   "source": [
    "str(1)*3"
   ]
  },
  {
   "cell_type": "code",
   "execution_count": null,
   "metadata": {
    "ExecuteTime": {
     "end_time": "2018-03-02T01:50:52.241740Z",
     "start_time": "2018-03-02T01:50:52.231643Z"
    },
    "collapsed": true
   },
   "outputs": [],
   "source": [
    "int(\"1\")"
   ]
  },
  {
   "cell_type": "code",
   "execution_count": null,
   "metadata": {
    "ExecuteTime": {
     "end_time": "2018-03-02T01:51:01.743137Z",
     "start_time": "2018-03-02T01:51:01.730356Z"
    },
    "collapsed": true
   },
   "outputs": [],
   "source": [
    "int(\"1\")*3"
   ]
  },
  {
   "cell_type": "markdown",
   "metadata": {},
   "source": [
    "Pero no siempre es legal."
   ]
  },
  {
   "cell_type": "code",
   "execution_count": null,
   "metadata": {
    "ExecuteTime": {
     "end_time": "2018-03-02T01:51:12.171679Z",
     "start_time": "2018-03-02T01:51:12.151481Z"
    },
    "collapsed": true
   },
   "outputs": [],
   "source": [
    "int(\"Hola\")"
   ]
  },
  {
   "cell_type": "markdown",
   "metadata": {
    "solution2": "shown",
    "solution2_first": true
   },
   "source": [
    "**Ejercicio**: Imprime un gúgol (un 1 seguido por 100 ceros)."
   ]
  },
  {
   "cell_type": "code",
   "execution_count": null,
   "metadata": {
    "ExecuteTime": {
     "end_time": "2018-03-02T01:54:28.270814Z",
     "start_time": "2018-03-02T01:54:28.260256Z"
    },
    "collapsed": true,
    "solution2": "shown"
   },
   "outputs": [],
   "source": [
    "\"1\" + \"0\"*100"
   ]
  },
  {
   "cell_type": "markdown",
   "metadata": {},
   "source": [
    "## Listas"
   ]
  },
  {
   "cell_type": "markdown",
   "metadata": {},
   "source": [
    "Una lista es un objeto que contiene objetos. Se define con corchetes: [ ]"
   ]
  },
  {
   "cell_type": "code",
   "execution_count": null,
   "metadata": {
    "ExecuteTime": {
     "end_time": "2018-03-02T01:57:26.047067Z",
     "start_time": "2018-03-02T01:57:26.043631Z"
    },
    "collapsed": true
   },
   "outputs": [],
   "source": [
    "type([])"
   ]
  },
  {
   "cell_type": "markdown",
   "metadata": {},
   "source": [
    "Las listas pueden contener cualquier tipo de objeto."
   ]
  },
  {
   "cell_type": "code",
   "execution_count": null,
   "metadata": {
    "ExecuteTime": {
     "end_time": "2018-03-02T01:57:49.477947Z",
     "start_time": "2018-03-02T01:57:49.465750Z"
    },
    "collapsed": true
   },
   "outputs": [],
   "source": [
    "[1, 2, 3, \"Hola\", \",\", \"¿cómo estás?\", 16]"
   ]
  },
  {
   "cell_type": "markdown",
   "metadata": {},
   "source": [
    "Vamos a asignarla a una variable."
   ]
  },
  {
   "cell_type": "code",
   "execution_count": null,
   "metadata": {
    "ExecuteTime": {
     "end_time": "2018-03-02T01:58:38.934868Z",
     "start_time": "2018-03-02T01:58:38.922396Z"
    },
    "collapsed": true
   },
   "outputs": [],
   "source": [
    "lista_magica = [1, 2, 3, \"Hola\", \",\", \"¿cómo estás?\", 16]\n",
    "print(lista_magica)"
   ]
  },
  {
   "cell_type": "markdown",
   "metadata": {},
   "source": [
    "Podemos acceder a sus elementos a través de corchetes."
   ]
  },
  {
   "cell_type": "code",
   "execution_count": null,
   "metadata": {
    "ExecuteTime": {
     "end_time": "2018-03-02T01:59:26.728888Z",
     "start_time": "2018-03-02T01:59:26.716725Z"
    },
    "collapsed": true
   },
   "outputs": [],
   "source": [
    "lista_magica[3]"
   ]
  },
  {
   "cell_type": "markdown",
   "metadata": {},
   "source": [
    "Una vez que accedemos al elemento, ya no tenemos una lista sino el objeto que estaba en esa posición."
   ]
  },
  {
   "cell_type": "code",
   "execution_count": null,
   "metadata": {
    "ExecuteTime": {
     "end_time": "2018-03-02T01:59:47.219446Z",
     "start_time": "2018-03-02T01:59:47.204446Z"
    },
    "collapsed": true
   },
   "outputs": [],
   "source": [
    "type(lista_magica[3])"
   ]
  },
  {
   "cell_type": "markdown",
   "metadata": {},
   "source": [
    "El primer elemento es el 0."
   ]
  },
  {
   "cell_type": "code",
   "execution_count": null,
   "metadata": {
    "ExecuteTime": {
     "end_time": "2018-03-02T01:59:58.440102Z",
     "start_time": "2018-03-02T01:59:58.425397Z"
    },
    "collapsed": true
   },
   "outputs": [],
   "source": [
    "lista_magica[0]"
   ]
  },
  {
   "cell_type": "code",
   "execution_count": null,
   "metadata": {
    "ExecuteTime": {
     "end_time": "2018-03-02T02:02:26.312493Z",
     "start_time": "2018-03-02T02:02:26.296739Z"
    },
    "collapsed": true
   },
   "outputs": [],
   "source": [
    "[1, 2, 3, 4][0]"
   ]
  },
  {
   "cell_type": "markdown",
   "metadata": {},
   "source": [
    "Si nos pasamos Python nos lo hará saber amablemente."
   ]
  },
  {
   "cell_type": "code",
   "execution_count": null,
   "metadata": {
    "ExecuteTime": {
     "end_time": "2018-03-02T02:02:23.077863Z",
     "start_time": "2018-03-02T02:02:23.066323Z"
    },
    "collapsed": true
   },
   "outputs": [],
   "source": [
    "lista_magica[10]"
   ]
  },
  {
   "cell_type": "code",
   "execution_count": null,
   "metadata": {
    "ExecuteTime": {
     "end_time": "2018-03-02T02:02:40.515209Z",
     "start_time": "2018-03-02T02:02:40.502803Z"
    },
    "collapsed": true
   },
   "outputs": [],
   "source": [
    "len(lista_magica)"
   ]
  },
  {
   "cell_type": "markdown",
   "metadata": {
    "ExecuteTime": {
     "end_time": "2017-09-02T04:33:26.430224Z",
     "start_time": "2017-09-02T04:33:26.414283Z"
    }
   },
   "source": [
    "También podemos acceder a un rango de una lista (*slice*)."
   ]
  },
  {
   "cell_type": "code",
   "execution_count": null,
   "metadata": {
    "ExecuteTime": {
     "end_time": "2018-03-02T02:02:58.476348Z",
     "start_time": "2018-03-02T02:02:58.463400Z"
    },
    "collapsed": true
   },
   "outputs": [],
   "source": [
    "lista_magica[1:5]"
   ]
  },
  {
   "cell_type": "code",
   "execution_count": null,
   "metadata": {
    "ExecuteTime": {
     "end_time": "2018-03-02T02:03:55.716944Z",
     "start_time": "2018-03-02T02:03:55.704678Z"
    },
    "collapsed": true
   },
   "outputs": [],
   "source": [
    "lista_magica[4:]"
   ]
  },
  {
   "cell_type": "code",
   "execution_count": null,
   "metadata": {
    "ExecuteTime": {
     "end_time": "2018-03-02T02:04:01.625674Z",
     "start_time": "2018-03-02T02:04:01.614150Z"
    },
    "collapsed": true
   },
   "outputs": [],
   "source": [
    "lista_magica[:4]"
   ]
  },
  {
   "cell_type": "markdown",
   "metadata": {},
   "source": [
    "El tamaño de la lista se obtiene con la función `len`."
   ]
  },
  {
   "cell_type": "code",
   "execution_count": null,
   "metadata": {
    "ExecuteTime": {
     "end_time": "2018-03-02T02:04:10.837364Z",
     "start_time": "2018-03-02T02:04:10.825057Z"
    },
    "collapsed": true
   },
   "outputs": [],
   "source": [
    "len(lista_magica)"
   ]
  },
  {
   "cell_type": "markdown",
   "metadata": {},
   "source": [
    "Para agregar un elemento a la lista, se usa el método `append`."
   ]
  },
  {
   "cell_type": "code",
   "execution_count": null,
   "metadata": {
    "ExecuteTime": {
     "end_time": "2018-03-02T02:04:37.480161Z",
     "start_time": "2018-03-02T02:04:37.469006Z"
    },
    "collapsed": true
   },
   "outputs": [],
   "source": [
    "lista_magica.append(\"nuevo elemento\")\n",
    "print(lista_magica)"
   ]
  },
  {
   "cell_type": "markdown",
   "metadata": {},
   "source": [
    "También se pueden sumar listas, con lo que se obtiene una nueva lista con los elementos de las 2."
   ]
  },
  {
   "cell_type": "code",
   "execution_count": null,
   "metadata": {
    "ExecuteTime": {
     "end_time": "2018-03-02T02:05:44.032312Z",
     "start_time": "2018-03-02T02:05:44.017913Z"
    },
    "collapsed": true
   },
   "outputs": [],
   "source": [
    "print(lista_magica + lista_magica)"
   ]
  },
  {
   "cell_type": "markdown",
   "metadata": {
    "ExecuteTime": {
     "end_time": "2017-09-02T06:10:57.693479Z",
     "start_time": "2017-09-02T06:10:57.681912Z"
    }
   },
   "source": [
    "Para obtener los valores únicos de una lista, usamos `set`."
   ]
  },
  {
   "cell_type": "code",
   "execution_count": null,
   "metadata": {
    "ExecuteTime": {
     "end_time": "2018-03-02T02:07:28.638704Z",
     "start_time": "2018-03-02T02:07:28.627228Z"
    },
    "collapsed": true,
    "scrolled": true
   },
   "outputs": [],
   "source": [
    "set(lista_magica + lista_magica)"
   ]
  },
  {
   "cell_type": "code",
   "execution_count": null,
   "metadata": {
    "ExecuteTime": {
     "end_time": "2018-03-02T02:07:35.030874Z",
     "start_time": "2018-03-02T02:07:35.018145Z"
    },
    "collapsed": true
   },
   "outputs": [],
   "source": [
    "type(set(lista_magica + lista_magica))"
   ]
  },
  {
   "cell_type": "markdown",
   "metadata": {
    "ExecuteTime": {
     "end_time": "2017-09-02T06:11:46.185835Z",
     "start_time": "2017-09-02T06:11:46.172715Z"
    }
   },
   "source": [
    "Para regresarlo a lista, usamos el constructor `list`."
   ]
  },
  {
   "cell_type": "code",
   "execution_count": null,
   "metadata": {
    "ExecuteTime": {
     "end_time": "2018-03-02T02:07:51.107334Z",
     "start_time": "2018-03-02T02:07:51.091323Z"
    },
    "collapsed": true
   },
   "outputs": [],
   "source": [
    "list(set(lista_magica + lista_magica))"
   ]
  },
  {
   "cell_type": "markdown",
   "metadata": {},
   "source": [
    "Si la lista tiene puros números, podemos sumar sus elementos."
   ]
  },
  {
   "cell_type": "code",
   "execution_count": null,
   "metadata": {
    "ExecuteTime": {
     "end_time": "2018-03-02T02:08:23.554765Z",
     "start_time": "2018-03-02T02:08:23.548637Z"
    },
    "collapsed": true
   },
   "outputs": [],
   "source": [
    "sum([1.2,2.5,3.2])"
   ]
  },
  {
   "cell_type": "markdown",
   "metadata": {},
   "source": [
    "Una cadena de caracteres también puede usarse como una lista."
   ]
  },
  {
   "cell_type": "code",
   "execution_count": null,
   "metadata": {
    "ExecuteTime": {
     "end_time": "2018-03-02T02:09:45.850979Z",
     "start_time": "2018-03-02T02:09:45.836537Z"
    },
    "collapsed": true
   },
   "outputs": [],
   "source": [
    "print('Hola'[1])\n",
    "print('Hola'[0:2])"
   ]
  },
  {
   "cell_type": "markdown",
   "metadata": {},
   "source": [
    "## Condicionales"
   ]
  },
  {
   "cell_type": "markdown",
   "metadata": {},
   "source": [
    "Los condicionales regresan *booleanos*, es decir Verdadero o Falso si se cumple una cierta condición. Dependiendo de la pregunta que se quiera hacer, existen diversos operadores."
   ]
  },
  {
   "cell_type": "markdown",
   "metadata": {},
   "source": [
    "### Comparación"
   ]
  },
  {
   "cell_type": "code",
   "execution_count": null,
   "metadata": {
    "ExecuteTime": {
     "end_time": "2018-03-02T02:11:05.108106Z",
     "start_time": "2018-03-02T02:11:05.090151Z"
    },
    "collapsed": true
   },
   "outputs": [],
   "source": [
    "# Igualdad\n",
    "print(\"1 == 1: \", 1 == 1)\n",
    "print(\"1 == 2: \", 1 == 2)\n",
    "print(\"1 != 1: \", 1 != 1)\n",
    "print(\"1 != 2: \", 1 != 2)\n",
    "# Desigualdad\n",
    "print(\"1 <= 2: \", 1 <= 2)\n",
    "print(\"1 >= 2: \", 1 >= 2)\n",
    "print(\"1 < 2: \", 1 < 2)\n",
    "print(\"1 > 2: \", 1 > 2)"
   ]
  },
  {
   "cell_type": "code",
   "execution_count": null,
   "metadata": {
    "ExecuteTime": {
     "end_time": "2018-03-02T02:12:01.542193Z",
     "start_time": "2018-03-02T02:12:01.532284Z"
    },
    "collapsed": true
   },
   "outputs": [],
   "source": [
    "lista_magica == lista_magica"
   ]
  },
  {
   "cell_type": "code",
   "execution_count": null,
   "metadata": {
    "ExecuteTime": {
     "end_time": "2018-03-02T02:12:19.717402Z",
     "start_time": "2018-03-02T02:12:19.700401Z"
    },
    "collapsed": true
   },
   "outputs": [],
   "source": [
    "# Igualdad\n",
    "print(\"'hola' == 'hola': \", \"hola\" == \"hola\")\n",
    "print(\"'hola' == 'adios': \", \"hola\" == \"adios\")\n",
    "print(\"'hola' != 'hola': \", \"hola\" != \"hola\")\n",
    "print(\"'hola' != 'adios': \", \"hola\" != \"adios\")"
   ]
  },
  {
   "cell_type": "code",
   "execution_count": null,
   "metadata": {
    "ExecuteTime": {
     "end_time": "2018-03-02T02:12:38.476653Z",
     "start_time": "2018-03-02T02:12:38.461404Z"
    },
    "collapsed": true
   },
   "outputs": [],
   "source": [
    "\"hola\" == \"hola\""
   ]
  },
  {
   "cell_type": "code",
   "execution_count": null,
   "metadata": {
    "ExecuteTime": {
     "end_time": "2018-03-02T02:12:55.494647Z",
     "start_time": "2018-03-02T02:12:55.477813Z"
    },
    "collapsed": true
   },
   "outputs": [],
   "source": [
    "# Contención\n",
    "\"hola\" in \"hola, ¿cómo estás?\""
   ]
  },
  {
   "cell_type": "code",
   "execution_count": null,
   "metadata": {
    "ExecuteTime": {
     "end_time": "2018-03-02T02:12:58.783506Z",
     "start_time": "2018-03-02T02:12:58.767723Z"
    },
    "collapsed": true
   },
   "outputs": [],
   "source": [
    "\"adios\" in \"hola, ¿cómo estás?\""
   ]
  },
  {
   "cell_type": "code",
   "execution_count": null,
   "metadata": {
    "ExecuteTime": {
     "end_time": "2018-03-02T02:13:18.404019Z",
     "start_time": "2018-03-02T02:13:18.390701Z"
    },
    "collapsed": true
   },
   "outputs": [],
   "source": [
    "\"hola\" not in \"hola, ¿cómo estás?\""
   ]
  },
  {
   "cell_type": "markdown",
   "metadata": {},
   "source": [
    "Podemos usar comparaciones de igualdad y de contención en otros objetos."
   ]
  },
  {
   "cell_type": "code",
   "execution_count": null,
   "metadata": {
    "ExecuteTime": {
     "end_time": "2018-03-02T02:13:41.149711Z",
     "start_time": "2018-03-02T02:13:41.136079Z"
    },
    "collapsed": true
   },
   "outputs": [],
   "source": [
    "'Hola' in lista_magica"
   ]
  },
  {
   "cell_type": "code",
   "execution_count": null,
   "metadata": {
    "ExecuteTime": {
     "end_time": "2018-03-02T02:13:48.430081Z",
     "start_time": "2018-03-02T02:13:48.416788Z"
    },
    "collapsed": true
   },
   "outputs": [],
   "source": [
    "'Adios' in lista_magica"
   ]
  },
  {
   "cell_type": "code",
   "execution_count": null,
   "metadata": {
    "ExecuteTime": {
     "end_time": "2018-03-02T02:20:42.459575Z",
     "start_time": "2018-03-02T02:20:42.445028Z"
    },
    "collapsed": true
   },
   "outputs": [],
   "source": [
    "lista_magica[-1]"
   ]
  },
  {
   "cell_type": "markdown",
   "metadata": {
    "solution2": "shown",
    "solution2_first": true
   },
   "source": [
    "**Ejercicio**: Dado un número entero `n`, revisa si es un gúgol."
   ]
  },
  {
   "cell_type": "code",
   "execution_count": null,
   "metadata": {
    "ExecuteTime": {
     "end_time": "2018-03-02T02:17:24.011464Z",
     "start_time": "2018-03-02T02:17:23.996929Z"
    },
    "collapsed": true,
    "solution2": "shown"
   },
   "outputs": [],
   "source": [
    "n = 100\n",
    "print(n == int(\"1\" + \"0\"*100))\n",
    "\n",
    "n = 10000000000000000000000000000000000000000000000000000000000000000000000000000000000000000000000000000\n",
    "print(n == int(\"1\" + \"0\"*100))"
   ]
  },
  {
   "cell_type": "markdown",
   "metadata": {},
   "source": [
    "### AND OR"
   ]
  },
  {
   "cell_type": "markdown",
   "metadata": {},
   "source": [
    "Mezclar condicionales"
   ]
  },
  {
   "cell_type": "code",
   "execution_count": null,
   "metadata": {
    "ExecuteTime": {
     "end_time": "2018-03-02T02:18:03.097828Z",
     "start_time": "2018-03-02T02:18:03.088557Z"
    },
    "collapsed": true
   },
   "outputs": [],
   "source": [
    "True & True"
   ]
  },
  {
   "cell_type": "code",
   "execution_count": null,
   "metadata": {
    "ExecuteTime": {
     "end_time": "2018-03-02T02:18:05.095668Z",
     "start_time": "2018-03-02T02:18:05.092284Z"
    },
    "collapsed": true
   },
   "outputs": [],
   "source": [
    "True & False"
   ]
  },
  {
   "cell_type": "code",
   "execution_count": null,
   "metadata": {
    "ExecuteTime": {
     "end_time": "2018-03-02T02:18:07.923341Z",
     "start_time": "2018-03-02T02:18:07.908411Z"
    },
    "collapsed": true
   },
   "outputs": [],
   "source": [
    "False & False"
   ]
  },
  {
   "cell_type": "code",
   "execution_count": null,
   "metadata": {
    "ExecuteTime": {
     "end_time": "2018-03-02T02:18:12.251850Z",
     "start_time": "2018-03-02T02:18:12.238999Z"
    },
    "collapsed": true
   },
   "outputs": [],
   "source": [
    "True | True"
   ]
  },
  {
   "cell_type": "code",
   "execution_count": null,
   "metadata": {
    "ExecuteTime": {
     "end_time": "2018-03-02T02:18:13.896372Z",
     "start_time": "2018-03-02T02:18:13.883005Z"
    },
    "collapsed": true
   },
   "outputs": [],
   "source": [
    "True | False"
   ]
  },
  {
   "cell_type": "code",
   "execution_count": null,
   "metadata": {
    "ExecuteTime": {
     "end_time": "2018-03-02T02:18:29.063545Z",
     "start_time": "2018-03-02T02:18:29.051806Z"
    },
    "collapsed": true
   },
   "outputs": [],
   "source": [
    "False | False"
   ]
  },
  {
   "cell_type": "markdown",
   "metadata": {},
   "source": [
    "### IF ELSE"
   ]
  },
  {
   "cell_type": "markdown",
   "metadata": {},
   "source": [
    "Nos permite realizar una acción si se cumple alguna condicional. ¡En Python los espacios/tabulaciones importan!"
   ]
  },
  {
   "cell_type": "code",
   "execution_count": null,
   "metadata": {
    "ExecuteTime": {
     "end_time": "2018-03-02T02:20:20.786705Z",
     "start_time": "2018-03-02T02:20:20.769761Z"
    },
    "collapsed": true
   },
   "outputs": [],
   "source": [
    "if 1 == 1:\n",
    "    print(\"eso es una tautología\")\n",
    "else:\n",
    "    print(\"eso es una contradicción\")"
   ]
  },
  {
   "cell_type": "code",
   "execution_count": null,
   "metadata": {
    "ExecuteTime": {
     "end_time": "2018-03-02T02:21:58.547321Z",
     "start_time": "2018-03-02T02:21:58.541878Z"
    },
    "collapsed": true
   },
   "outputs": [],
   "source": [
    "if 1 == 1:\n",
    "    print(\"eso es una tautología\")\n",
    "else:\n",
    "    print(\"eso es una contradicción\")"
   ]
  },
  {
   "cell_type": "markdown",
   "metadata": {},
   "source": [
    "Podemos usar cualquier cosa que regrese Verdadero o Falso."
   ]
  },
  {
   "cell_type": "code",
   "execution_count": null,
   "metadata": {
    "ExecuteTime": {
     "end_time": "2018-03-02T02:21:33.425502Z",
     "start_time": "2018-03-02T02:21:33.413017Z"
    },
    "collapsed": true
   },
   "outputs": [],
   "source": [
    "if \"Hola\" in lista_magica:\n",
    "    print(\"sí está\")"
   ]
  },
  {
   "cell_type": "code",
   "execution_count": null,
   "metadata": {
    "ExecuteTime": {
     "end_time": "2018-03-02T02:23:10.051193Z",
     "start_time": "2018-03-02T02:23:10.038173Z"
    },
    "collapsed": true
   },
   "outputs": [],
   "source": [
    "if \"Hola\" in lista_magica:\n",
    "    if 1 in lista_magica:\n",
    "        print(\"están los dos\")"
   ]
  },
  {
   "cell_type": "code",
   "execution_count": null,
   "metadata": {
    "ExecuteTime": {
     "end_time": "2018-03-02T02:32:21.932343Z",
     "start_time": "2018-03-02T02:32:21.921373Z"
    },
    "collapsed": true
   },
   "outputs": [],
   "source": [
    "if (\"Hola\" in lista_magica) & (10 in lista_magica):\n",
    "    print(\"están los dos\")"
   ]
  },
  {
   "cell_type": "markdown",
   "metadata": {
    "solution2": "shown",
    "solution2_first": true
   },
   "source": [
    "**Ejercicio**: Escribe código para, dado un número entero `n`, si es un gúgol imprima \"éxito\" y si no imprima \"fracaso\"."
   ]
  },
  {
   "cell_type": "code",
   "execution_count": null,
   "metadata": {
    "ExecuteTime": {
     "end_time": "2018-03-02T02:33:11.592954Z",
     "start_time": "2018-03-02T02:33:11.579234Z"
    },
    "collapsed": true,
    "solution2": "shown"
   },
   "outputs": [],
   "source": [
    "n = 10000000000000000000000000000000000000000000000000000000000000000000000000000000000000000000000000000\n",
    "if n == int(\"1\" + \"0\"*100):\n",
    "    print(\"Éxito\")\n",
    "else:\n",
    "    print(\"Fracaso\")"
   ]
  },
  {
   "cell_type": "markdown",
   "metadata": {},
   "source": [
    "## Ciclos"
   ]
  },
  {
   "cell_type": "markdown",
   "metadata": {},
   "source": [
    "Los ciclos nos permiten repetir una acción muchas veces.\n",
    "* `for`: nos permite iterar sobre un objeto\n",
    "* `while`: nos permite repetir una acción hasta que una condición se cumpla.\n",
    "\n",
    "Un ejemplo de objeto iterable es obtenida con la función `range`"
   ]
  },
  {
   "cell_type": "code",
   "execution_count": null,
   "metadata": {
    "ExecuteTime": {
     "end_time": "2018-03-02T02:34:47.153638Z",
     "start_time": "2018-03-02T02:34:47.143393Z"
    },
    "collapsed": true
   },
   "outputs": [],
   "source": [
    "range(0,10)"
   ]
  },
  {
   "cell_type": "code",
   "execution_count": null,
   "metadata": {
    "ExecuteTime": {
     "end_time": "2018-03-02T02:34:58.790229Z",
     "start_time": "2018-03-02T02:34:58.782116Z"
    },
    "collapsed": true
   },
   "outputs": [],
   "source": [
    "type(range(0,10))"
   ]
  },
  {
   "cell_type": "code",
   "execution_count": null,
   "metadata": {
    "ExecuteTime": {
     "end_time": "2018-03-02T02:36:39.242500Z",
     "start_time": "2018-03-02T02:36:39.231824Z"
    },
    "collapsed": true
   },
   "outputs": [],
   "source": [
    "for i in range(0, 5):\n",
    "    print(i)"
   ]
  },
  {
   "cell_type": "markdown",
   "metadata": {},
   "source": [
    "Una lista también es un objeto iterable."
   ]
  },
  {
   "cell_type": "code",
   "execution_count": null,
   "metadata": {
    "ExecuteTime": {
     "end_time": "2018-03-02T02:40:42.479905Z",
     "start_time": "2018-03-02T02:40:42.464479Z"
    },
    "collapsed": true
   },
   "outputs": [],
   "source": [
    "for a in lista_magica:\n",
    "    print(a)"
   ]
  },
  {
   "cell_type": "markdown",
   "metadata": {},
   "source": [
    "Para usar `while`, necesitamos una condición."
   ]
  },
  {
   "cell_type": "code",
   "execution_count": null,
   "metadata": {
    "ExecuteTime": {
     "end_time": "2018-03-02T02:41:07.819603Z",
     "start_time": "2018-03-02T02:41:07.804276Z"
    },
    "collapsed": true
   },
   "outputs": [],
   "source": [
    "n = 0\n",
    "while n < 5:\n",
    "    print(n)\n",
    "    n = n + 1"
   ]
  },
  {
   "cell_type": "code",
   "execution_count": null,
   "metadata": {
    "ExecuteTime": {
     "end_time": "2018-03-02T02:41:53.988974Z",
     "start_time": "2018-03-02T02:41:53.978673Z"
    },
    "collapsed": true
   },
   "outputs": [],
   "source": [
    "n"
   ]
  },
  {
   "cell_type": "markdown",
   "metadata": {
    "solution2": "shown",
    "solution2_first": true
   },
   "source": [
    "**Ejercicio**: \n",
    "\n",
    "1) Crea un ciclo que, a partir de una variable entera `n = \"1\"`, le agregue ceros hasta llegar a un gúgol.\n",
    "\n",
    "2) Usa tu condición anterior para ver si lo lograste"
   ]
  },
  {
   "cell_type": "code",
   "execution_count": null,
   "metadata": {
    "ExecuteTime": {
     "end_time": "2018-03-02T03:08:16.294114Z",
     "start_time": "2018-03-02T03:08:16.274648Z"
    },
    "collapsed": true,
    "solution2": "shown"
   },
   "outputs": [],
   "source": [
    "n = \"1\"\n",
    "\n",
    "while n != \"1\" + \"0\"*100:\n",
    "    n += '0'\n",
    "    \n",
    "\n",
    "\n",
    "# for\n",
    "n = \"1\"\n",
    "for i in range(100):\n",
    "    n += '0'\n",
    "    \n",
    "\n",
    "if n == \"1\" + \"0\"*100:\n",
    "    print(\"Éxito\")\n",
    "else:\n",
    "    print(\"Fracaso\")"
   ]
  },
  {
   "cell_type": "code",
   "execution_count": null,
   "metadata": {
    "ExecuteTime": {
     "end_time": "2018-03-02T03:09:59.286815Z",
     "start_time": "2018-03-02T03:09:59.272733Z"
    },
    "collapsed": true
   },
   "outputs": [],
   "source": [
    "lista_numeros = []\n",
    "\n",
    "for i in range(0,10):\n",
    "    lista_numeros.append(i)\n",
    "    \n",
    "print(lista_numeros)"
   ]
  },
  {
   "cell_type": "code",
   "execution_count": null,
   "metadata": {
    "ExecuteTime": {
     "end_time": "2018-03-02T03:12:10.703042Z",
     "start_time": "2018-03-02T03:12:10.682959Z"
    },
    "collapsed": true
   },
   "outputs": [],
   "source": [
    "auxiliar = [1,2,3,4]\n",
    "lista_numeros = []\n",
    "\n",
    "for i in auxiliar:\n",
    "    lista_numeros.append(i)\n",
    "    \n",
    "print(lista_numeros)"
   ]
  },
  {
   "cell_type": "markdown",
   "metadata": {},
   "source": [
    "También podemos crear listas directamente con un ciclo de la siguiente manera."
   ]
  },
  {
   "cell_type": "code",
   "execution_count": null,
   "metadata": {
    "ExecuteTime": {
     "end_time": "2018-03-02T03:12:52.060308Z",
     "start_time": "2018-03-02T03:12:52.047378Z"
    },
    "collapsed": true
   },
   "outputs": [],
   "source": [
    "[i for i in range(0,10)]"
   ]
  },
  {
   "cell_type": "code",
   "execution_count": null,
   "metadata": {
    "ExecuteTime": {
     "end_time": "2018-03-02T03:13:00.744458Z",
     "start_time": "2018-03-02T03:13:00.728810Z"
    },
    "collapsed": true
   },
   "outputs": [],
   "source": [
    "[i*2 for i in range(0,10)]"
   ]
  },
  {
   "cell_type": "code",
   "execution_count": null,
   "metadata": {
    "ExecuteTime": {
     "end_time": "2018-03-02T03:14:28.666594Z",
     "start_time": "2018-03-02T03:14:28.654301Z"
    },
    "collapsed": true
   },
   "outputs": [],
   "source": [
    "[x for x in lista_magica]"
   ]
  },
  {
   "cell_type": "markdown",
   "metadata": {
    "ExecuteTime": {
     "end_time": "2017-09-02T05:46:26.188173Z",
     "start_time": "2017-09-02T05:46:26.176221Z"
    }
   },
   "source": [
    "## Funciones"
   ]
  },
  {
   "cell_type": "code",
   "execution_count": null,
   "metadata": {
    "ExecuteTime": {
     "end_time": "2018-03-02T03:19:49.620145Z",
     "start_time": "2018-03-02T03:19:49.608705Z"
    },
    "collapsed": true
   },
   "outputs": [],
   "source": [
    "def ponle_ceros(n, numero_ceros):\n",
    "    n_obj = str(n)\n",
    "    \n",
    "    while (n_obj != str(n) + \"0\"*numero_ceros):\n",
    "        n_obj += '0'\n",
    "    return int(n_obj)"
   ]
  },
  {
   "cell_type": "code",
   "execution_count": null,
   "metadata": {
    "ExecuteTime": {
     "end_time": "2018-03-02T03:17:01.173925Z",
     "start_time": "2018-03-02T03:17:01.164106Z"
    },
    "collapsed": true
   },
   "outputs": [],
   "source": [
    "print(ponle_ceros)"
   ]
  },
  {
   "cell_type": "code",
   "execution_count": null,
   "metadata": {
    "ExecuteTime": {
     "end_time": "2018-03-02T03:20:22.076917Z",
     "start_time": "2018-03-02T03:20:22.066018Z"
    },
    "collapsed": true
   },
   "outputs": [],
   "source": [
    "ponle_ceros(1, 100)"
   ]
  },
  {
   "cell_type": "code",
   "execution_count": null,
   "metadata": {
    "ExecuteTime": {
     "end_time": "2018-03-02T03:20:26.973893Z",
     "start_time": "2018-03-02T03:20:26.962181Z"
    },
    "collapsed": true
   },
   "outputs": [],
   "source": [
    "ponle_ceros(2,10)"
   ]
  },
  {
   "cell_type": "markdown",
   "metadata": {
    "solution2": "shown",
    "solution2_first": true
   },
   "source": [
    "**Ejercicio**: Crea una función que reciba una lista e imprima todos los elementos de la lista."
   ]
  },
  {
   "cell_type": "code",
   "execution_count": null,
   "metadata": {
    "ExecuteTime": {
     "end_time": "2018-03-02T03:35:07.162541Z",
     "start_time": "2018-03-02T03:35:07.152271Z"
    },
    "collapsed": true,
    "solution2": "shown"
   },
   "outputs": [],
   "source": [
    "def imprime_lista(lista):\n",
    "    for i in lista:\n",
    "        print(i)"
   ]
  },
  {
   "cell_type": "code",
   "execution_count": null,
   "metadata": {
    "ExecuteTime": {
     "end_time": "2018-03-02T03:35:09.434959Z",
     "start_time": "2018-03-02T03:35:09.416648Z"
    },
    "collapsed": true
   },
   "outputs": [],
   "source": [
    "imprime_lista(lista_magica)"
   ]
  },
  {
   "cell_type": "markdown",
   "metadata": {
    "solution2": "shown",
    "solution2_first": true
   },
   "source": [
    "**Ejercicio**: \n",
    "1. Crea una lista con los nombres de tus compañeros.\n",
    "2. Crea una función que, dada una lista de nombres, imprima por cada una de las iniciales cuántas personas comparten esa inicial."
   ]
  },
  {
   "cell_type": "code",
   "execution_count": null,
   "metadata": {
    "ExecuteTime": {
     "end_time": "2018-03-06T01:27:09.668189Z",
     "start_time": "2018-03-06T01:27:09.642628Z"
    },
    "collapsed": true,
    "solution2": "shown"
   },
   "outputs": [],
   "source": [
    "lista_nombres = [\n",
    "    'Carlos',\n",
    "    'Erick',\n",
    "    'Irving',\n",
    "    'Cynthia',\n",
    "    'Estefania',\n",
    "    'Armando'\n",
    "]\n",
    "\n",
    "\n",
    "def cuenta_ini(lista):\n",
    "    lista_iniciales = [x[0] for x in lista]\n",
    "    lista_unica = list(set(lista_iniciales))\n",
    "    for inicial in lista_unica:\n",
    "        n = 0\n",
    "        for nombre in lista:\n",
    "            if nombre[0] == inicial:\n",
    "                n += 1\n",
    "        print(n,\" nombres comienzan con la letra \", inicial)\n",
    "\n",
    "\n",
    "# def iniciales_únicas(lista):\n",
    "#     lista_iniciales = [x[0] for x in lista]\n",
    "#     return list(set(lista_iniciales))\n",
    "\n",
    "# def cuenta_inicial(inicial, lista):\n",
    "#     n = 0\n",
    "#     for nombre in lista:\n",
    "#         if nombre[0] == inicial:\n",
    "#             n += 1\n",
    "#     print(n,\" nombres comienzan con la letra \", inicial)\n",
    "\n",
    "\n",
    "# def imprime_cuenta(lista_unica, lista_repetida):\n",
    "#     for inicial in lista_unica:\n",
    "#         cuenta_inicial(inicial, lista_repetida)\n",
    "        \n",
    "\n",
    "# def cuenta_iniciales(lista_nombres):\n",
    "#     lista_iniciales_unica = iniciales_únicas(lista_nombres)\n",
    "#     imprime_cuenta(lista_iniciales_unica, lista_nombres)\n",
    "        \n",
    "# cuenta_iniciales(lista_nombres)"
   ]
  },
  {
   "cell_type": "code",
   "execution_count": null,
   "metadata": {
    "ExecuteTime": {
     "end_time": "2018-03-06T01:27:12.528992Z",
     "start_time": "2018-03-06T01:27:12.521059Z"
    },
    "collapsed": true
   },
   "outputs": [],
   "source": [
    "iniciales_únicas(lista_nombres)"
   ]
  },
  {
   "cell_type": "code",
   "execution_count": null,
   "metadata": {
    "ExecuteTime": {
     "end_time": "2018-03-06T01:32:05.484475Z",
     "start_time": "2018-03-06T01:32:05.473267Z"
    },
    "collapsed": true
   },
   "outputs": [],
   "source": [
    "cuenta_ini(lista_nombres)"
   ]
  },
  {
   "cell_type": "markdown",
   "metadata": {},
   "source": [
    "## Diccionarios"
   ]
  },
  {
   "cell_type": "code",
   "execution_count": null,
   "metadata": {
    "ExecuteTime": {
     "end_time": "2018-03-06T01:35:00.852664Z",
     "start_time": "2018-03-06T01:35:00.840339Z"
    },
    "collapsed": true
   },
   "outputs": [],
   "source": [
    "{}"
   ]
  },
  {
   "cell_type": "code",
   "execution_count": null,
   "metadata": {
    "ExecuteTime": {
     "end_time": "2018-03-06T01:35:05.401976Z",
     "start_time": "2018-03-06T01:35:05.390344Z"
    },
    "collapsed": true
   },
   "outputs": [],
   "source": [
    "type({})"
   ]
  },
  {
   "cell_type": "code",
   "execution_count": null,
   "metadata": {
    "ExecuteTime": {
     "end_time": "2018-03-06T01:35:37.734418Z",
     "start_time": "2018-03-06T01:35:37.726234Z"
    },
    "collapsed": true
   },
   "outputs": [],
   "source": [
    "dicc = {'llave': 'algún valor'}"
   ]
  },
  {
   "cell_type": "code",
   "execution_count": null,
   "metadata": {
    "ExecuteTime": {
     "end_time": "2018-03-06T01:35:41.547203Z",
     "start_time": "2018-03-06T01:35:41.536621Z"
    },
    "collapsed": true
   },
   "outputs": [],
   "source": [
    "dicc"
   ]
  },
  {
   "cell_type": "code",
   "execution_count": null,
   "metadata": {
    "ExecuteTime": {
     "end_time": "2018-03-06T01:36:28.115098Z",
     "start_time": "2018-03-06T01:36:28.111936Z"
    },
    "collapsed": true
   },
   "outputs": [],
   "source": [
    "dicc['llave']"
   ]
  },
  {
   "cell_type": "code",
   "execution_count": null,
   "metadata": {
    "ExecuteTime": {
     "end_time": "2018-03-06T01:36:37.800053Z",
     "start_time": "2018-03-06T01:36:37.797174Z"
    },
    "collapsed": true
   },
   "outputs": [],
   "source": [
    "calificaciones = {\n",
    "    'fulanito': 7,\n",
    "    'perenganita': 9,\n",
    "    'Juan': 7,\n",
    "    'Gaby': 9,\n",
    "    'Irving': None\n",
    "}"
   ]
  },
  {
   "cell_type": "code",
   "execution_count": null,
   "metadata": {
    "ExecuteTime": {
     "end_time": "2018-03-06T01:36:50.507283Z",
     "start_time": "2018-03-06T01:36:50.497646Z"
    },
    "collapsed": true
   },
   "outputs": [],
   "source": [
    "calificaciones['fulanito']"
   ]
  },
  {
   "cell_type": "markdown",
   "metadata": {},
   "source": [
    "Los diccionarios tienen dos listas principales: llaves y valores."
   ]
  },
  {
   "cell_type": "code",
   "execution_count": null,
   "metadata": {
    "ExecuteTime": {
     "end_time": "2018-03-06T01:37:13.893929Z",
     "start_time": "2018-03-06T01:37:13.877767Z"
    },
    "collapsed": true
   },
   "outputs": [],
   "source": [
    "calificaciones.keys()"
   ]
  },
  {
   "cell_type": "code",
   "execution_count": null,
   "metadata": {
    "ExecuteTime": {
     "end_time": "2018-03-06T01:37:24.792041Z",
     "start_time": "2018-03-06T01:37:24.779323Z"
    },
    "collapsed": true
   },
   "outputs": [],
   "source": [
    "calificaciones.values()"
   ]
  },
  {
   "cell_type": "markdown",
   "metadata": {},
   "source": [
    "Podemos iterar por las llaves para encontrar los valores."
   ]
  },
  {
   "cell_type": "code",
   "execution_count": null,
   "metadata": {
    "ExecuteTime": {
     "end_time": "2018-03-06T01:38:59.570238Z",
     "start_time": "2018-03-06T01:38:59.553330Z"
    },
    "collapsed": true
   },
   "outputs": [],
   "source": [
    "for k in calificaciones.keys():\n",
    "#     print(k)\n",
    "    print(\"La calificación de\", k, \"es\", calificaciones[k])"
   ]
  },
  {
   "cell_type": "code",
   "execution_count": null,
   "metadata": {
    "ExecuteTime": {
     "end_time": "2018-03-06T01:51:33.468849Z",
     "start_time": "2018-03-06T01:51:33.460319Z"
    },
    "collapsed": true
   },
   "outputs": [],
   "source": [
    "def cuenta_ini_dicc(lista):\n",
    "    dicc_ini = {}\n",
    "    lista_iniciales = [x[0] for x in lista]\n",
    "    lista_unica = list(set(lista_iniciales))\n",
    "    for inicial in lista_unica:\n",
    "        n = 0\n",
    "        for nombre in lista:\n",
    "            if nombre[0] == inicial:\n",
    "                n += 1\n",
    "        dicc_ini[inicial] = n\n",
    "    return dicc_ini\n",
    "#         print(n,\" nombres comienzan con la letra \", inicial)"
   ]
  },
  {
   "cell_type": "code",
   "execution_count": null,
   "metadata": {
    "ExecuteTime": {
     "end_time": "2018-03-06T01:51:47.940356Z",
     "start_time": "2018-03-06T01:51:47.936349Z"
    },
    "collapsed": true
   },
   "outputs": [],
   "source": [
    "cuenta_ini_dicc(lista_nombres)"
   ]
  },
  {
   "cell_type": "markdown",
   "metadata": {},
   "source": [
    "## Archivos"
   ]
  },
  {
   "cell_type": "markdown",
   "metadata": {},
   "source": [
    "### Lectura"
   ]
  },
  {
   "cell_type": "markdown",
   "metadata": {},
   "source": [
    "En Python, para leer un archivo debemos abrirlo. Existen varias opciones según no que queramos hacer al momento de abrir el archivo.\n",
    "* r.- read. Sólo para leer\n",
    "* a.- append. Agrega las líneas a un archivo\n",
    "* w.- write. Escribir"
   ]
  },
  {
   "cell_type": "code",
   "execution_count": 2,
   "metadata": {
    "ExecuteTime": {
     "end_time": "2018-03-06T01:57:27.848053Z",
     "start_time": "2018-03-06T01:57:27.836844Z"
    },
    "collapsed": true
   },
   "outputs": [],
   "source": [
    "archivo = open('datos/nombres.txt')"
   ]
  },
  {
   "cell_type": "code",
   "execution_count": 3,
   "metadata": {
    "ExecuteTime": {
     "end_time": "2018-03-06T01:57:32.930889Z",
     "start_time": "2018-03-06T01:57:32.904600Z"
    }
   },
   "outputs": [
    {
     "data": {
      "text/plain": [
       "_io.TextIOWrapper"
      ]
     },
     "execution_count": 3,
     "metadata": {},
     "output_type": "execute_result"
    }
   ],
   "source": [
    "type(archivo)"
   ]
  },
  {
   "cell_type": "code",
   "execution_count": 6,
   "metadata": {
    "ExecuteTime": {
     "end_time": "2018-03-06T02:00:11.915366Z",
     "start_time": "2018-03-06T02:00:11.901864Z"
    },
    "collapsed": true
   },
   "outputs": [],
   "source": [
    "archivo = open('datos/nombres.txt')\n",
    "nombres = archivo.read()\n",
    "archivo.close()"
   ]
  },
  {
   "cell_type": "markdown",
   "metadata": {},
   "source": [
    "Los saltos de línea son codificados como \"\\n\"."
   ]
  },
  {
   "cell_type": "code",
   "execution_count": 7,
   "metadata": {
    "ExecuteTime": {
     "end_time": "2018-03-06T02:00:13.436495Z",
     "start_time": "2018-03-06T02:00:13.420345Z"
    }
   },
   "outputs": [
    {
     "data": {
      "text/plain": [
       "'Carlos\\nErick\\nIrving\\nCynthia\\nEstefania\\nArmando'"
      ]
     },
     "execution_count": 7,
     "metadata": {},
     "output_type": "execute_result"
    }
   ],
   "source": [
    "nombres"
   ]
  },
  {
   "cell_type": "code",
   "execution_count": 8,
   "metadata": {
    "ExecuteTime": {
     "end_time": "2018-03-06T02:00:49.358943Z",
     "start_time": "2018-03-06T02:00:49.346670Z"
    }
   },
   "outputs": [
    {
     "name": "stdout",
     "output_type": "stream",
     "text": [
      "Carlos\n",
      "Erick\n",
      "Irving\n",
      "Cynthia\n",
      "Estefania\n",
      "Armando\n"
     ]
    }
   ],
   "source": [
    "print(nombres)"
   ]
  },
  {
   "cell_type": "markdown",
   "metadata": {},
   "source": [
    "Podemos tomar ese string y dividirlo usando `split`."
   ]
  },
  {
   "cell_type": "code",
   "execution_count": 9,
   "metadata": {
    "ExecuteTime": {
     "end_time": "2018-03-06T02:01:16.457909Z",
     "start_time": "2018-03-06T02:01:16.445839Z"
    }
   },
   "outputs": [
    {
     "data": {
      "text/plain": [
       "['Carlos', 'Erick', 'Irving', 'Cynthia', 'Estefania', 'Armando']"
      ]
     },
     "execution_count": 9,
     "metadata": {},
     "output_type": "execute_result"
    }
   ],
   "source": [
    "nombres.split('\\n')"
   ]
  },
  {
   "cell_type": "markdown",
   "metadata": {},
   "source": [
    "Para leer individualmente desde el principio podemos usar `readlines`."
   ]
  },
  {
   "cell_type": "code",
   "execution_count": 13,
   "metadata": {
    "ExecuteTime": {
     "end_time": "2018-03-06T02:02:14.285754Z",
     "start_time": "2018-03-06T02:02:14.272503Z"
    },
    "collapsed": true
   },
   "outputs": [],
   "source": [
    "archivo = open('datos/nombres.txt')\n",
    "nombres = archivo.readlines()\n",
    "archivo.close()"
   ]
  },
  {
   "cell_type": "code",
   "execution_count": 14,
   "metadata": {
    "ExecuteTime": {
     "end_time": "2018-03-06T02:02:15.799377Z",
     "start_time": "2018-03-06T02:02:15.782809Z"
    }
   },
   "outputs": [
    {
     "name": "stdout",
     "output_type": "stream",
     "text": [
      "['Carlos\\n', 'Erick\\n', 'Irving\\n', 'Cynthia\\n', 'Estefania\\n', 'Armando']\n"
     ]
    }
   ],
   "source": [
    "print(nombres)"
   ]
  },
  {
   "cell_type": "markdown",
   "metadata": {},
   "source": [
    "Para no estar manejando archivos abiertos, podemos usar `with`"
   ]
  },
  {
   "cell_type": "code",
   "execution_count": 15,
   "metadata": {
    "ExecuteTime": {
     "end_time": "2018-03-06T02:03:20.023712Z",
     "start_time": "2018-03-06T02:03:20.014687Z"
    }
   },
   "outputs": [
    {
     "name": "stdout",
     "output_type": "stream",
     "text": [
      "['Carlos\\n', 'Erick\\n', 'Irving\\n', 'Cynthia\\n', 'Estefania\\n', 'Armando']\n"
     ]
    }
   ],
   "source": [
    "with open('datos/nombres.txt') as f:\n",
    "    nombres = f.readlines()\n",
    "    \n",
    "print(nombres)"
   ]
  },
  {
   "cell_type": "markdown",
   "metadata": {},
   "source": [
    "### Escritura"
   ]
  },
  {
   "cell_type": "markdown",
   "metadata": {},
   "source": [
    "Para escribir, usamos el método `write`. "
   ]
  },
  {
   "cell_type": "code",
   "execution_count": 16,
   "metadata": {
    "ExecuteTime": {
     "end_time": "2018-03-06T02:03:39.505127Z",
     "start_time": "2018-03-06T02:03:39.486757Z"
    }
   },
   "outputs": [
    {
     "ename": "UnsupportedOperation",
     "evalue": "not writable",
     "output_type": "error",
     "traceback": [
      "\u001b[0;31m---------------------------------------------------------------------------\u001b[0m",
      "\u001b[0;31mUnsupportedOperation\u001b[0m                      Traceback (most recent call last)",
      "\u001b[0;32m<ipython-input-16-73a2ade2804b>\u001b[0m in \u001b[0;36m<module>\u001b[0;34m()\u001b[0m\n\u001b[1;32m      1\u001b[0m \u001b[0;32mwith\u001b[0m \u001b[0mopen\u001b[0m\u001b[0;34m(\u001b[0m\u001b[0;34m'datos/resultado.txt'\u001b[0m\u001b[0;34m)\u001b[0m \u001b[0;32mas\u001b[0m \u001b[0mf\u001b[0m\u001b[0;34m:\u001b[0m\u001b[0;34m\u001b[0m\u001b[0m\n\u001b[0;32m----> 2\u001b[0;31m     \u001b[0mf\u001b[0m\u001b[0;34m.\u001b[0m\u001b[0mwrite\u001b[0m\u001b[0;34m(\u001b[0m\u001b[0;34m'Hola'\u001b[0m\u001b[0;34m)\u001b[0m\u001b[0;34m\u001b[0m\u001b[0m\n\u001b[0m",
      "\u001b[0;31mUnsupportedOperation\u001b[0m: not writable"
     ]
    }
   ],
   "source": [
    "with open('datos/resultado.txt') as f:\n",
    "    f.write('Hola')"
   ]
  },
  {
   "cell_type": "markdown",
   "metadata": {},
   "source": [
    "El archivo no existe, tenemos que poner la opción para escribir."
   ]
  },
  {
   "cell_type": "code",
   "execution_count": 21,
   "metadata": {
    "ExecuteTime": {
     "end_time": "2018-03-06T02:05:42.420416Z",
     "start_time": "2018-03-06T02:05:42.415946Z"
    },
    "collapsed": true
   },
   "outputs": [],
   "source": [
    "with open('datos/resultado.txt', 'w') as f:\n",
    "    f.write('Hola')"
   ]
  },
  {
   "cell_type": "code",
   "execution_count": 22,
   "metadata": {
    "ExecuteTime": {
     "end_time": "2018-03-06T02:05:49.662792Z",
     "start_time": "2018-03-06T02:05:49.653055Z"
    },
    "collapsed": true
   },
   "outputs": [],
   "source": [
    "with open('datos/resultado.txt', 'a') as f:\n",
    "    f.write('Adios')"
   ]
  },
  {
   "cell_type": "code",
   "execution_count": 20,
   "metadata": {
    "ExecuteTime": {
     "end_time": "2018-03-06T02:05:00.163625Z",
     "start_time": "2018-03-06T02:05:00.152361Z"
    },
    "collapsed": true
   },
   "outputs": [],
   "source": [
    "with open('datos/resultado.txt', 'w') as f:\n",
    "    f.write('Adios')"
   ]
  },
  {
   "cell_type": "markdown",
   "metadata": {},
   "source": [
    "Para escribir en líneas separadas hay que escribirlas explícitamente"
   ]
  },
  {
   "cell_type": "code",
   "execution_count": 23,
   "metadata": {
    "ExecuteTime": {
     "end_time": "2018-03-06T02:06:07.952207Z",
     "start_time": "2018-03-06T02:06:07.941870Z"
    },
    "collapsed": true
   },
   "outputs": [],
   "source": [
    "with open('datos/resultado.txt', 'w') as f:\n",
    "    f.write('Hola\\n')\n",
    "    f.write('Adios')"
   ]
  },
  {
   "cell_type": "markdown",
   "metadata": {
    "solution2": "hidden",
    "solution2_first": true
   },
   "source": [
    "**Ejercicio**: Usando el diccionario `calificaciones`. Escribir un archivo que por cada persona en el diccionario escriba una línea que diga: \"La calificación de `nombre` es `calificación`\"."
   ]
  },
  {
   "cell_type": "code",
   "execution_count": null,
   "metadata": {
    "ExecuteTime": {
     "end_time": "2017-09-09T15:11:41.481054Z",
     "start_time": "2017-09-09T15:11:41.469377Z"
    },
    "collapsed": true,
    "solution2": "hidden"
   },
   "outputs": [],
   "source": [
    "with open('datos/califs.txt', 'w') as f:\n",
    "    for k in calificaciones.keys():\n",
    "        f.write(\"La calificación de \" + k + \" es \" + str(calificaciones[k]) + '\\n')"
   ]
  },
  {
   "cell_type": "markdown",
   "metadata": {},
   "source": [
    "**Ejercicio (Tarea)**: \n",
    "\n",
    "* ¿Cuántas palabras tiene la Ilíada?\n",
    "* ¿Cuántas de ellas son únicas?\n",
    "* ¿Cuáles son las 20 palabras más usadas?"
   ]
  }
 ],
 "metadata": {
  "kernelspec": {
   "display_name": "Python 3",
   "language": "python",
   "name": "python3"
  },
  "language_info": {
   "codemirror_mode": {
    "name": "ipython",
    "version": 3
   },
   "file_extension": ".py",
   "mimetype": "text/x-python",
   "name": "python",
   "nbconvert_exporter": "python",
   "pygments_lexer": "ipython3",
   "version": "3.6.1"
  }
 },
 "nbformat": 4,
 "nbformat_minor": 2
}
