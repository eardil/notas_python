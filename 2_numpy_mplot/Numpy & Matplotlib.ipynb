{
 "cells": [
  {
   "cell_type": "code",
   "execution_count": 54,
   "metadata": {
    "ExecuteTime": {
     "end_time": "2018-03-13T01:10:19.851360Z",
     "start_time": "2018-03-13T01:10:19.838879Z"
    },
    "collapsed": true
   },
   "outputs": [],
   "source": [
    "# import numpy\n",
    "import numpy as np\n",
    "# from numpy import exp\n",
    "# from numpy import *"
   ]
  },
  {
   "cell_type": "markdown",
   "metadata": {},
   "source": [
    "* La clase `array`\n",
    "* Funciones de álgebra lineal (operaciones matriciales)\n",
    "* Funciones analíticas (exponencial, logarítmica, etc.)\n",
    "* Generadores aleatorios\n",
    "* ..."
   ]
  },
  {
   "cell_type": "code",
   "execution_count": 55,
   "metadata": {
    "ExecuteTime": {
     "end_time": "2018-03-13T01:11:38.924488Z",
     "start_time": "2018-03-13T01:11:38.919847Z"
    }
   },
   "outputs": [
    {
     "data": {
      "text/plain": [
       "array([1, 2, 3, 4])"
      ]
     },
     "execution_count": 55,
     "metadata": {},
     "output_type": "execute_result"
    }
   ],
   "source": [
    "np.array([1,2,3,4])"
   ]
  },
  {
   "cell_type": "code",
   "execution_count": 62,
   "metadata": {
    "ExecuteTime": {
     "end_time": "2018-03-13T01:13:41.502157Z",
     "start_time": "2018-03-13T01:13:41.487310Z"
    }
   },
   "outputs": [
    {
     "data": {
      "text/plain": [
       "array([0.12156912, 0.67074908, 0.82585276, 0.13670659, 0.57509333])"
      ]
     },
     "execution_count": 62,
     "metadata": {},
     "output_type": "execute_result"
    }
   ],
   "source": [
    "np.random.rand(5)"
   ]
  },
  {
   "cell_type": "code",
   "execution_count": 4,
   "metadata": {
    "ExecuteTime": {
     "end_time": "2018-03-13T00:46:08.877087Z",
     "start_time": "2018-03-13T00:46:08.724775Z"
    }
   },
   "outputs": [
    {
     "data": {
      "text/plain": [
       "array([0., 0., 0., 0., 0.])"
      ]
     },
     "execution_count": 4,
     "metadata": {},
     "output_type": "execute_result"
    }
   ],
   "source": [
    "np.zeros(5)"
   ]
  },
  {
   "cell_type": "code",
   "execution_count": 5,
   "metadata": {
    "ExecuteTime": {
     "end_time": "2018-03-13T00:46:08.965304Z",
     "start_time": "2018-03-13T00:46:08.879511Z"
    }
   },
   "outputs": [
    {
     "data": {
      "text/plain": [
       "array([1., 1., 1., 1., 1.])"
      ]
     },
     "execution_count": 5,
     "metadata": {},
     "output_type": "execute_result"
    }
   ],
   "source": [
    "np.ones(5)"
   ]
  },
  {
   "cell_type": "code",
   "execution_count": 63,
   "metadata": {
    "ExecuteTime": {
     "end_time": "2018-03-13T01:16:37.665632Z",
     "start_time": "2018-03-13T01:16:37.653613Z"
    }
   },
   "outputs": [
    {
     "data": {
      "text/plain": [
       "array([[0., 0., 0., 0., 0.],\n",
       "       [0., 0., 0., 0., 0.],\n",
       "       [0., 0., 0., 0., 0.],\n",
       "       [0., 0., 0., 0., 0.],\n",
       "       [0., 0., 0., 0., 0.]])"
      ]
     },
     "execution_count": 63,
     "metadata": {},
     "output_type": "execute_result"
    }
   ],
   "source": [
    "np.zeros([5,5])"
   ]
  },
  {
   "cell_type": "code",
   "execution_count": 64,
   "metadata": {
    "ExecuteTime": {
     "end_time": "2018-03-13T01:16:47.596203Z",
     "start_time": "2018-03-13T01:16:47.583702Z"
    }
   },
   "outputs": [
    {
     "data": {
      "text/plain": [
       "array([[[0., 0., 0.],\n",
       "        [0., 0., 0.],\n",
       "        [0., 0., 0.]],\n",
       "\n",
       "       [[0., 0., 0.],\n",
       "        [0., 0., 0.],\n",
       "        [0., 0., 0.]],\n",
       "\n",
       "       [[0., 0., 0.],\n",
       "        [0., 0., 0.],\n",
       "        [0., 0., 0.]]])"
      ]
     },
     "execution_count": 64,
     "metadata": {},
     "output_type": "execute_result"
    }
   ],
   "source": [
    "np.zeros([3,3,3])"
   ]
  },
  {
   "cell_type": "code",
   "execution_count": 8,
   "metadata": {
    "ExecuteTime": {
     "end_time": "2018-03-13T00:46:09.334332Z",
     "start_time": "2018-03-13T00:46:09.200692Z"
    }
   },
   "outputs": [
    {
     "data": {
      "text/plain": [
       "array([[10., 10.],\n",
       "       [10., 10.]])"
      ]
     },
     "execution_count": 8,
     "metadata": {},
     "output_type": "execute_result"
    }
   ],
   "source": [
    "10*np.ones([2,2])"
   ]
  },
  {
   "cell_type": "markdown",
   "metadata": {},
   "source": [
    "Aplican multiplicaciones matriciales."
   ]
  },
  {
   "cell_type": "code",
   "execution_count": 65,
   "metadata": {
    "ExecuteTime": {
     "end_time": "2018-03-13T01:17:15.503195Z",
     "start_time": "2018-03-13T01:17:15.485344Z"
    }
   },
   "outputs": [
    {
     "name": "stdout",
     "output_type": "stream",
     "text": [
      "[[2 1]\n",
      " [3 4]]\n"
     ]
    }
   ],
   "source": [
    "A = np.array([[2,1],[3,4]])\n",
    "print(A)"
   ]
  },
  {
   "cell_type": "code",
   "execution_count": 66,
   "metadata": {
    "ExecuteTime": {
     "end_time": "2018-03-13T01:17:17.375696Z",
     "start_time": "2018-03-13T01:17:17.356104Z"
    }
   },
   "outputs": [
    {
     "name": "stdout",
     "output_type": "stream",
     "text": [
      "[10  5]\n"
     ]
    }
   ],
   "source": [
    "b = np.transpose(np.array([10,5]))\n",
    "print(b)"
   ]
  },
  {
   "cell_type": "code",
   "execution_count": 67,
   "metadata": {
    "ExecuteTime": {
     "end_time": "2018-03-13T01:17:26.529835Z",
     "start_time": "2018-03-13T01:17:26.513389Z"
    }
   },
   "outputs": [
    {
     "data": {
      "text/plain": [
       "array([25, 50])"
      ]
     },
     "execution_count": 67,
     "metadata": {},
     "output_type": "execute_result"
    }
   ],
   "source": [
    "A.dot(b)"
   ]
  },
  {
   "cell_type": "code",
   "execution_count": 69,
   "metadata": {
    "ExecuteTime": {
     "end_time": "2018-03-13T01:21:15.123671Z",
     "start_time": "2018-03-13T01:21:15.110907Z"
    },
    "collapsed": true
   },
   "outputs": [],
   "source": [
    "aaa = [\n",
    "    [1, 2, 3, 4],\n",
    "    [5, 6, 7, 8],\n",
    "    [9, 10, 11, 12]\n",
    "]"
   ]
  },
  {
   "cell_type": "markdown",
   "metadata": {},
   "source": [
    "## Manipulación de arrays"
   ]
  },
  {
   "cell_type": "code",
   "execution_count": 73,
   "metadata": {
    "ExecuteTime": {
     "end_time": "2018-03-13T01:24:46.694003Z",
     "start_time": "2018-03-13T01:24:46.679226Z"
    }
   },
   "outputs": [
    {
     "name": "stdout",
     "output_type": "stream",
     "text": [
      "[ 0  1  2  3  4  5  6  7  8  9 10 11 12 13 14 15 16 17 18 19 20 21 22 23\n",
      " 24 25 26 27 28 29]\n"
     ]
    }
   ],
   "source": [
    "A = np.array(range(0,30))\n",
    "print(A)"
   ]
  },
  {
   "cell_type": "code",
   "execution_count": 74,
   "metadata": {
    "ExecuteTime": {
     "end_time": "2018-03-13T01:24:51.062983Z",
     "start_time": "2018-03-13T01:24:51.054445Z"
    }
   },
   "outputs": [
    {
     "data": {
      "text/plain": [
       "(30,)"
      ]
     },
     "execution_count": 74,
     "metadata": {},
     "output_type": "execute_result"
    }
   ],
   "source": [
    "A.shape"
   ]
  },
  {
   "cell_type": "code",
   "execution_count": 77,
   "metadata": {
    "ExecuteTime": {
     "end_time": "2018-03-13T01:25:41.398424Z",
     "start_time": "2018-03-13T01:25:41.386058Z"
    }
   },
   "outputs": [
    {
     "name": "stdout",
     "output_type": "stream",
     "text": [
      "[[ 0  1  2  3  4]\n",
      " [ 5  6  7  8  9]\n",
      " [10 11 12 13 14]\n",
      " [15 16 17 18 19]\n",
      " [20 21 22 23 24]\n",
      " [25 26 27 28 29]]\n"
     ]
    }
   ],
   "source": [
    "B = A.reshape([6,5])\n",
    "print(B)"
   ]
  },
  {
   "cell_type": "code",
   "execution_count": 78,
   "metadata": {
    "ExecuteTime": {
     "end_time": "2018-03-13T01:25:53.909244Z",
     "start_time": "2018-03-13T01:25:53.897008Z"
    }
   },
   "outputs": [
    {
     "data": {
      "text/plain": [
       "(6, 5)"
      ]
     },
     "execution_count": 78,
     "metadata": {},
     "output_type": "execute_result"
    }
   ],
   "source": [
    "B.shape"
   ]
  },
  {
   "cell_type": "code",
   "execution_count": 79,
   "metadata": {
    "ExecuteTime": {
     "end_time": "2018-03-13T01:26:14.845592Z",
     "start_time": "2018-03-13T01:26:14.831173Z"
    }
   },
   "outputs": [
    {
     "data": {
      "text/plain": [
       "array([[ 0,  5, 10, 15, 20, 25],\n",
       "       [ 1,  6, 11, 16, 21, 26],\n",
       "       [ 2,  7, 12, 17, 22, 27],\n",
       "       [ 3,  8, 13, 18, 23, 28],\n",
       "       [ 4,  9, 14, 19, 24, 29]])"
      ]
     },
     "execution_count": 79,
     "metadata": {},
     "output_type": "execute_result"
    }
   ],
   "source": [
    "B.transpose()"
   ]
  },
  {
   "cell_type": "code",
   "execution_count": 80,
   "metadata": {
    "ExecuteTime": {
     "end_time": "2018-03-13T01:26:19.541455Z",
     "start_time": "2018-03-13T01:26:19.532325Z"
    }
   },
   "outputs": [
    {
     "data": {
      "text/plain": [
       "array([[ 0,  1,  2,  3,  4],\n",
       "       [ 5,  6,  7,  8,  9],\n",
       "       [10, 11, 12, 13, 14],\n",
       "       [15, 16, 17, 18, 19],\n",
       "       [20, 21, 22, 23, 24],\n",
       "       [25, 26, 27, 28, 29]])"
      ]
     },
     "execution_count": 80,
     "metadata": {},
     "output_type": "execute_result"
    }
   ],
   "source": [
    "B"
   ]
  },
  {
   "cell_type": "markdown",
   "metadata": {},
   "source": [
    "Accediendo"
   ]
  },
  {
   "cell_type": "code",
   "execution_count": 81,
   "metadata": {
    "ExecuteTime": {
     "end_time": "2018-03-13T01:27:11.675836Z",
     "start_time": "2018-03-13T01:27:11.662291Z"
    }
   },
   "outputs": [
    {
     "data": {
      "text/plain": [
       "array([5, 6, 7, 8, 9])"
      ]
     },
     "execution_count": 81,
     "metadata": {},
     "output_type": "execute_result"
    }
   ],
   "source": [
    "B[1,:]"
   ]
  },
  {
   "cell_type": "code",
   "execution_count": 82,
   "metadata": {
    "ExecuteTime": {
     "end_time": "2018-03-13T01:27:24.969217Z",
     "start_time": "2018-03-13T01:27:24.955769Z"
    }
   },
   "outputs": [
    {
     "data": {
      "text/plain": [
       "array([ 0,  5, 10, 15, 20, 25])"
      ]
     },
     "execution_count": 82,
     "metadata": {},
     "output_type": "execute_result"
    }
   ],
   "source": [
    "B[:,0]"
   ]
  },
  {
   "cell_type": "code",
   "execution_count": 92,
   "metadata": {
    "ExecuteTime": {
     "end_time": "2018-03-13T01:33:11.143167Z",
     "start_time": "2018-03-13T01:33:11.125406Z"
    }
   },
   "outputs": [
    {
     "data": {
      "text/plain": [
       "array([[  2,   3],\n",
       "       [  7,   8],\n",
       "       [100,  13]])"
      ]
     },
     "execution_count": 92,
     "metadata": {},
     "output_type": "execute_result"
    }
   ],
   "source": [
    "B[0:3,2:4]"
   ]
  },
  {
   "cell_type": "code",
   "execution_count": 84,
   "metadata": {
    "ExecuteTime": {
     "end_time": "2018-03-13T01:27:47.307730Z",
     "start_time": "2018-03-13T01:27:47.300023Z"
    }
   },
   "outputs": [
    {
     "name": "stdout",
     "output_type": "stream",
     "text": [
      "[[  0   1   2   3   4]\n",
      " [  5   6   7   8   9]\n",
      " [ 10  11 100  13  14]\n",
      " [ 15  16  17  18  19]\n",
      " [ 20  21  22  23  24]\n",
      " [ 25  26  27  28  29]]\n"
     ]
    }
   ],
   "source": [
    "B[2,2] = 100\n",
    "print(B)"
   ]
  },
  {
   "cell_type": "markdown",
   "metadata": {},
   "source": [
    "Operaciones."
   ]
  },
  {
   "cell_type": "code",
   "execution_count": 85,
   "metadata": {
    "ExecuteTime": {
     "end_time": "2018-03-13T01:28:10.219648Z",
     "start_time": "2018-03-13T01:28:10.207351Z"
    }
   },
   "outputs": [
    {
     "data": {
      "text/plain": [
       "array([ 75,  81, 175,  93,  99])"
      ]
     },
     "execution_count": 85,
     "metadata": {},
     "output_type": "execute_result"
    }
   ],
   "source": [
    "B.sum(axis = 0)"
   ]
  },
  {
   "cell_type": "code",
   "execution_count": 88,
   "metadata": {
    "ExecuteTime": {
     "end_time": "2018-03-13T01:29:08.903130Z",
     "start_time": "2018-03-13T01:29:08.897393Z"
    }
   },
   "outputs": [
    {
     "data": {
      "text/plain": [
       "array([ 10,  35, 148,  85, 110, 135])"
      ]
     },
     "execution_count": 88,
     "metadata": {},
     "output_type": "execute_result"
    }
   ],
   "source": [
    "B.sum(axis = 1)"
   ]
  },
  {
   "cell_type": "code",
   "execution_count": 93,
   "metadata": {
    "ExecuteTime": {
     "end_time": "2018-03-13T01:36:20.723476Z",
     "start_time": "2018-03-13T01:36:20.708802Z"
    }
   },
   "outputs": [
    {
     "data": {
      "text/plain": [
       "array([12.5       , 13.5       , 29.16666667, 15.5       , 16.5       ])"
      ]
     },
     "execution_count": 93,
     "metadata": {},
     "output_type": "execute_result"
    }
   ],
   "source": [
    "B.mean(axis = 0)"
   ]
  },
  {
   "cell_type": "code",
   "execution_count": 94,
   "metadata": {
    "ExecuteTime": {
     "end_time": "2018-03-13T01:36:22.350725Z",
     "start_time": "2018-03-13T01:36:22.336500Z"
    }
   },
   "outputs": [
    {
     "data": {
      "text/plain": [
       "array([ 25,  26, 100,  28,  29])"
      ]
     },
     "execution_count": 94,
     "metadata": {},
     "output_type": "execute_result"
    }
   ],
   "source": [
    "B.max(axis = 0)"
   ]
  },
  {
   "cell_type": "code",
   "execution_count": 95,
   "metadata": {
    "ExecuteTime": {
     "end_time": "2018-03-13T01:36:25.629496Z",
     "start_time": "2018-03-13T01:36:25.616129Z"
    }
   },
   "outputs": [
    {
     "data": {
      "text/plain": [
       "array([5, 5, 2, 5, 5])"
      ]
     },
     "execution_count": 95,
     "metadata": {},
     "output_type": "execute_result"
    }
   ],
   "source": [
    "B.argmax(axis = 0)"
   ]
  },
  {
   "cell_type": "code",
   "execution_count": 96,
   "metadata": {
    "ExecuteTime": {
     "end_time": "2018-03-13T01:36:46.745878Z",
     "start_time": "2018-03-13T01:36:46.728625Z"
    }
   },
   "outputs": [
    {
     "data": {
      "text/plain": [
       "array([ 8.53912564,  8.53912564, 32.78931059,  8.53912564,  8.53912564])"
      ]
     },
     "execution_count": 96,
     "metadata": {},
     "output_type": "execute_result"
    }
   ],
   "source": [
    "B.std(axis = 0)"
   ]
  },
  {
   "cell_type": "code",
   "execution_count": 97,
   "metadata": {
    "ExecuteTime": {
     "end_time": "2018-03-13T01:36:50.142358Z",
     "start_time": "2018-03-13T01:36:50.125324Z"
    }
   },
   "outputs": [
    {
     "data": {
      "text/plain": [
       "array([  0,   6, 100,  18,  24])"
      ]
     },
     "execution_count": 97,
     "metadata": {},
     "output_type": "execute_result"
    }
   ],
   "source": [
    "B.diagonal()"
   ]
  },
  {
   "cell_type": "code",
   "execution_count": 29,
   "metadata": {
    "ExecuteTime": {
     "end_time": "2018-03-13T00:46:12.564703Z",
     "start_time": "2018-03-13T00:46:12.422742Z"
    },
    "collapsed": true
   },
   "outputs": [],
   "source": [
    "def tu_funcion(tu_lista):\n",
    "    \n",
    "    return"
   ]
  },
  {
   "cell_type": "code",
   "execution_count": 30,
   "metadata": {
    "ExecuteTime": {
     "end_time": "2018-03-13T00:46:12.707548Z",
     "start_time": "2018-03-13T00:46:12.568203Z"
    },
    "collapsed": true
   },
   "outputs": [],
   "source": [
    "aaa=[[1,2],[1,2],[1,2],[1,2]] "
   ]
  },
  {
   "cell_type": "markdown",
   "metadata": {},
   "source": [
    "Más funciones en la documentación de [array](https://docs.scipy.org/doc/numpy/reference/arrays.ndarray.html)"
   ]
  },
  {
   "cell_type": "markdown",
   "metadata": {
    "solution2": "hidden",
    "solution2_first": true
   },
   "source": [
    "**Ejercicio**: Crea una función que implemente la suma de las columnas de una matriz de tamaño (n,2) si la recibieras como una lista\n",
    "\n",
    "[[1,2],[1,2],[1,2],[1,2]] --> [4,8]"
   ]
  },
  {
   "cell_type": "code",
   "execution_count": 31,
   "metadata": {
    "ExecuteTime": {
     "end_time": "2018-03-13T00:46:12.852171Z",
     "start_time": "2018-03-13T00:46:12.708810Z"
    },
    "solution2": "hidden"
   },
   "outputs": [
    {
     "data": {
      "text/plain": [
       "[4, 8]"
      ]
     },
     "execution_count": 31,
     "metadata": {},
     "output_type": "execute_result"
    }
   ],
   "source": [
    "def suma_col(lista):\n",
    "    suma_col1 = 0\n",
    "    suma_col2 = 0\n",
    "    for ren in lista:\n",
    "        suma_col1 += ren[0]\n",
    "        suma_col2 += ren[1]\n",
    "    return [suma_col1, suma_col2]\n",
    "\n",
    "suma_col([[1,2],[1,2],[1,2],[1,2]])"
   ]
  },
  {
   "cell_type": "code",
   "execution_count": 32,
   "metadata": {
    "ExecuteTime": {
     "end_time": "2018-03-13T00:46:13.948773Z",
     "start_time": "2018-03-13T00:46:12.858289Z"
    }
   },
   "outputs": [
    {
     "data": {
      "text/plain": [
       "1.0005948543548584"
      ]
     },
     "execution_count": 32,
     "metadata": {},
     "output_type": "execute_result"
    }
   ],
   "source": [
    "import time\n",
    "\n",
    "inicio = time.time()\n",
    "time.sleep(1)\n",
    "time.time() - inicio"
   ]
  },
  {
   "cell_type": "code",
   "execution_count": 33,
   "metadata": {
    "ExecuteTime": {
     "end_time": "2018-03-13T00:46:13.956212Z",
     "start_time": "2018-03-13T00:46:13.950954Z"
    }
   },
   "outputs": [
    {
     "data": {
      "text/plain": [
       "[[1, 2],\n",
       " [1, 2],\n",
       " [1, 2],\n",
       " [1, 2],\n",
       " [1, 2],\n",
       " [1, 2],\n",
       " [1, 2],\n",
       " [1, 2],\n",
       " [1, 2],\n",
       " [1, 2]]"
      ]
     },
     "execution_count": 33,
     "metadata": {},
     "output_type": "execute_result"
    }
   ],
   "source": [
    "[[1,2] for x in range(0,10)]"
   ]
  },
  {
   "cell_type": "code",
   "execution_count": 34,
   "metadata": {
    "ExecuteTime": {
     "end_time": "2018-03-13T00:46:14.801964Z",
     "start_time": "2018-03-13T00:46:13.957817Z"
    },
    "collapsed": true
   },
   "outputs": [],
   "source": [
    "lista_larga = [[1,2] for x in range(0,1000000)]\n",
    "arreglo_largo = np.array(lista_larga)"
   ]
  },
  {
   "cell_type": "code",
   "execution_count": 35,
   "metadata": {
    "ExecuteTime": {
     "end_time": "2018-03-13T00:46:14.807050Z",
     "start_time": "2018-03-13T00:46:14.803313Z"
    }
   },
   "outputs": [
    {
     "data": {
      "text/plain": [
       "1000000"
      ]
     },
     "execution_count": 35,
     "metadata": {},
     "output_type": "execute_result"
    }
   ],
   "source": [
    "len(lista_larga)"
   ]
  },
  {
   "cell_type": "code",
   "execution_count": 36,
   "metadata": {
    "ExecuteTime": {
     "end_time": "2018-03-13T00:46:15.904516Z",
     "start_time": "2018-03-13T00:46:14.808749Z"
    }
   },
   "outputs": [
    {
     "data": {
      "text/plain": [
       "(1000000, 2)"
      ]
     },
     "execution_count": 36,
     "metadata": {},
     "output_type": "execute_result"
    }
   ],
   "source": [
    "arreglo_largo.shape"
   ]
  },
  {
   "cell_type": "code",
   "execution_count": 37,
   "metadata": {
    "ExecuteTime": {
     "end_time": "2018-03-13T00:46:16.083526Z",
     "start_time": "2018-03-13T00:46:15.910356Z"
    }
   },
   "outputs": [
    {
     "name": "stdout",
     "output_type": "stream",
     "text": [
      "[1000000, 2000000]\n"
     ]
    },
    {
     "data": {
      "text/plain": [
       "0.10793399810791016"
      ]
     },
     "execution_count": 37,
     "metadata": {},
     "output_type": "execute_result"
    }
   ],
   "source": [
    "inicio = time.time()\n",
    "print(suma_col(lista_larga))\n",
    "time.time() - inicio"
   ]
  },
  {
   "cell_type": "code",
   "execution_count": 38,
   "metadata": {
    "ExecuteTime": {
     "end_time": "2018-03-13T00:46:16.123376Z",
     "start_time": "2018-03-13T00:46:16.085294Z"
    }
   },
   "outputs": [
    {
     "name": "stdout",
     "output_type": "stream",
     "text": [
      "[1000000 2000000]\n"
     ]
    },
    {
     "data": {
      "text/plain": [
       "0.010091304779052734"
      ]
     },
     "execution_count": 38,
     "metadata": {},
     "output_type": "execute_result"
    }
   ],
   "source": [
    "inicio = time.time()\n",
    "print(arreglo_largo.sum(axis = 0))\n",
    "time.time() - inicio"
   ]
  },
  {
   "cell_type": "markdown",
   "metadata": {
    "solution2": "shown",
    "solution2_first": true
   },
   "source": [
    "**Ejercicio**: Obtén los tiempos que se tarda cada forma de obtener la suma de las columnas variando el número de renglones de 10 en 10 desde 1 hasta 10000 en 2 listas `tiempo_lista` y `tiempo_array`."
   ]
  },
  {
   "cell_type": "code",
   "execution_count": 39,
   "metadata": {
    "ExecuteTime": {
     "end_time": "2018-03-13T00:46:19.703121Z",
     "start_time": "2018-03-13T00:46:16.127583Z"
    },
    "collapsed": true,
    "solution2": "shown"
   },
   "outputs": [],
   "source": [
    "tiempo_lista = []\n",
    "tiempo_array = []\n",
    "\n",
    "for i in [x*10 for x in range(1,1000)]:\n",
    "    # Se crean la lista y el arreglo\n",
    "    lista = [[1,2] for x in range(0,i)]\n",
    "    arreglo = np.array(lista)\n",
    "    \n",
    "    # Tiempo de la lista\n",
    "    inicio = time.time()\n",
    "    suma_col(lista)\n",
    "    tiempo_lista.append(time.time() - inicio)\n",
    "    \n",
    "    # Tiempo del arreglo\n",
    "    inicio = time.time()\n",
    "    arreglo.sum(axis = 0)\n",
    "    tiempo_array.append(time.time() - inicio)"
   ]
  },
  {
   "cell_type": "code",
   "execution_count": 40,
   "metadata": {
    "ExecuteTime": {
     "end_time": "2018-03-13T00:46:19.708774Z",
     "start_time": "2018-03-13T00:46:19.704443Z"
    }
   },
   "outputs": [
    {
     "data": {
      "text/plain": [
       "[2.6226043701171875e-06,\n",
       " 2.1457672119140625e-06,\n",
       " 2.384185791015625e-06,\n",
       " 3.337860107421875e-06,\n",
       " 3.814697265625e-06,\n",
       " 4.76837158203125e-06,\n",
       " 5.0067901611328125e-06,\n",
       " 5.9604644775390625e-06,\n",
       " 6.4373016357421875e-06,\n",
       " 6.9141387939453125e-06]"
      ]
     },
     "execution_count": 40,
     "metadata": {},
     "output_type": "execute_result"
    }
   ],
   "source": [
    "tiempo_lista[0:10]"
   ]
  },
  {
   "cell_type": "markdown",
   "metadata": {
    "ExecuteTime": {
     "end_time": "2017-09-09T05:06:25.241185Z",
     "start_time": "2017-09-09T05:06:25.199126Z"
    }
   },
   "source": [
    "## Pyplot"
   ]
  },
  {
   "cell_type": "markdown",
   "metadata": {},
   "source": [
    "La librería para graficar en python es matplotlib. De aquí usaremos pyplot."
   ]
  },
  {
   "cell_type": "code",
   "execution_count": 98,
   "metadata": {
    "ExecuteTime": {
     "end_time": "2018-03-13T01:41:28.533347Z",
     "start_time": "2018-03-13T01:41:28.521997Z"
    },
    "collapsed": true
   },
   "outputs": [],
   "source": [
    "import matplotlib.pyplot as plt"
   ]
  },
  {
   "cell_type": "code",
   "execution_count": 104,
   "metadata": {
    "ExecuteTime": {
     "end_time": "2018-03-13T01:44:05.752005Z",
     "start_time": "2018-03-13T01:44:05.685765Z"
    }
   },
   "outputs": [
    {
     "data": {
      "text/plain": [
       "[<matplotlib.lines.Line2D at 0x7fd8b78c9390>]"
      ]
     },
     "execution_count": 104,
     "metadata": {},
     "output_type": "execute_result"
    }
   ],
   "source": [
    "plt.plot(tiempo_lista)"
   ]
  },
  {
   "cell_type": "code",
   "execution_count": 105,
   "metadata": {
    "ExecuteTime": {
     "end_time": "2018-03-13T01:44:07.365819Z",
     "start_time": "2018-03-13T01:44:07.234536Z"
    }
   },
   "outputs": [
    {
     "data": {
      "image/png": "[encoded data removed]",
      "text/plain": [
       "<matplotlib.figure.Figure at 0x7fd8b7a3d9b0>"
      ]
     },
     "metadata": {},
     "output_type": "display_data"
    }
   ],
   "source": [
    "plt.show()"
   ]
  },
  {
   "cell_type": "code",
   "execution_count": 107,
   "metadata": {
    "ExecuteTime": {
     "end_time": "2018-03-13T01:44:44.192061Z",
     "start_time": "2018-03-13T01:44:44.184245Z"
    },
    "collapsed": true
   },
   "outputs": [],
   "source": [
    "plt.show()"
   ]
  },
  {
   "cell_type": "markdown",
   "metadata": {},
   "source": [
    "¡La lista se vuelve muy cara! El array es más eficiente."
   ]
  },
  {
   "cell_type": "code",
   "execution_count": 45,
   "metadata": {
    "ExecuteTime": {
     "end_time": "2018-03-13T00:46:20.783021Z",
     "start_time": "2018-03-13T00:46:20.439949Z"
    }
   },
   "outputs": [
    {
     "data": {
      "image/png": "[encoded data removed]",
      "text/plain": [
       "<matplotlib.figure.Figure at 0x7fd8b7e73a58>"
      ]
     },
     "metadata": {},
     "output_type": "display_data"
    }
   ],
   "source": [
    "plt.plot(tiempo_array, 'b')\n",
    "plt.plot(tiempo_lista, 'r')\n",
    "plt.show()"
   ]
  },
  {
   "cell_type": "markdown",
   "metadata": {},
   "source": [
    "### Opciones para graficar"
   ]
  },
  {
   "cell_type": "code",
   "execution_count": 111,
   "metadata": {
    "ExecuteTime": {
     "end_time": "2018-03-13T01:48:46.784871Z",
     "start_time": "2018-03-13T01:48:46.774138Z"
    }
   },
   "outputs": [
    {
     "data": {
      "text/plain": [
       "array([0. , 0.1, 0.2, 0.3, 0.4, 0.5, 0.6, 0.7, 0.8, 0.9, 1. ])"
      ]
     },
     "execution_count": 111,
     "metadata": {},
     "output_type": "execute_result"
    }
   ],
   "source": [
    "np.linspace(0, 1, 11)"
   ]
  },
  {
   "cell_type": "code",
   "execution_count": 112,
   "metadata": {
    "ExecuteTime": {
     "end_time": "2018-03-13T01:49:11.437641Z",
     "start_time": "2018-03-13T01:49:11.422544Z"
    }
   },
   "outputs": [
    {
     "name": "stdout",
     "output_type": "stream",
     "text": [
      "[0.         0.06346652 0.12693304 0.19039955 0.25386607 0.31733259\n",
      " 0.38079911 0.44426563 0.50773215 0.57119866 0.63466518 0.6981317\n",
      " 0.76159822 0.82506474 0.88853126 0.95199777 1.01546429 1.07893081\n",
      " 1.14239733 1.20586385 1.26933037 1.33279688 1.3962634  1.45972992\n",
      " 1.52319644 1.58666296 1.65012947 1.71359599 1.77706251 1.84052903\n",
      " 1.90399555 1.96746207 2.03092858 2.0943951  2.15786162 2.22132814\n",
      " 2.28479466 2.34826118 2.41172769 2.47519421 2.53866073 2.60212725\n",
      " 2.66559377 2.72906028 2.7925268  2.85599332 2.91945984 2.98292636\n",
      " 3.04639288 3.10985939 3.17332591 3.23679243 3.30025895 3.36372547\n",
      " 3.42719199 3.4906585  3.55412502 3.61759154 3.68105806 3.74452458\n",
      " 3.8079911  3.87145761 3.93492413 3.99839065 4.06185717 4.12532369\n",
      " 4.1887902  4.25225672 4.31572324 4.37918976 4.44265628 4.5061228\n",
      " 4.56958931 4.63305583 4.69652235 4.75998887 4.82345539 4.88692191\n",
      " 4.95038842 5.01385494 5.07732146 5.14078798 5.2042545  5.26772102\n",
      " 5.33118753 5.39465405 5.45812057 5.52158709 5.58505361 5.64852012\n",
      " 5.71198664 5.77545316 5.83891968 5.9023862  5.96585272 6.02931923\n",
      " 6.09278575 6.15625227 6.21971879 6.28318531]\n"
     ]
    }
   ],
   "source": [
    "x = np.linspace(0, np.pi * 2, 100)\n",
    "print(x)"
   ]
  },
  {
   "cell_type": "code",
   "execution_count": 113,
   "metadata": {
    "ExecuteTime": {
     "end_time": "2018-03-13T01:49:33.268023Z",
     "start_time": "2018-03-13T01:49:33.263413Z"
    },
    "run_control": {
     "marked": false
    }
   },
   "outputs": [
    {
     "name": "stdout",
     "output_type": "stream",
     "text": [
      "[ 0.00000000e+00  6.34239197e-02  1.26592454e-01  1.89251244e-01\n",
      "  2.51147987e-01  3.12033446e-01  3.71662456e-01  4.29794912e-01\n",
      "  4.86196736e-01  5.40640817e-01  5.92907929e-01  6.42787610e-01\n",
      "  6.90079011e-01  7.34591709e-01  7.76146464e-01  8.14575952e-01\n",
      "  8.49725430e-01  8.81453363e-01  9.09631995e-01  9.34147860e-01\n",
      "  9.54902241e-01  9.71811568e-01  9.84807753e-01  9.93838464e-01\n",
      "  9.98867339e-01  9.99874128e-01  9.96854776e-01  9.89821442e-01\n",
      "  9.78802446e-01  9.63842159e-01  9.45000819e-01  9.22354294e-01\n",
      "  8.95993774e-01  8.66025404e-01  8.32569855e-01  7.95761841e-01\n",
      "  7.55749574e-01  7.12694171e-01  6.66769001e-01  6.18158986e-01\n",
      "  5.67059864e-01  5.13677392e-01  4.58226522e-01  4.00930535e-01\n",
      "  3.42020143e-01  2.81732557e-01  2.20310533e-01  1.58001396e-01\n",
      "  9.50560433e-02  3.17279335e-02 -3.17279335e-02 -9.50560433e-02\n",
      " -1.58001396e-01 -2.20310533e-01 -2.81732557e-01 -3.42020143e-01\n",
      " -4.00930535e-01 -4.58226522e-01 -5.13677392e-01 -5.67059864e-01\n",
      " -6.18158986e-01 -6.66769001e-01 -7.12694171e-01 -7.55749574e-01\n",
      " -7.95761841e-01 -8.32569855e-01 -8.66025404e-01 -8.95993774e-01\n",
      " -9.22354294e-01 -9.45000819e-01 -9.63842159e-01 -9.78802446e-01\n",
      " -9.89821442e-01 -9.96854776e-01 -9.99874128e-01 -9.98867339e-01\n",
      " -9.93838464e-01 -9.84807753e-01 -9.71811568e-01 -9.54902241e-01\n",
      " -9.34147860e-01 -9.09631995e-01 -8.81453363e-01 -8.49725430e-01\n",
      " -8.14575952e-01 -7.76146464e-01 -7.34591709e-01 -6.90079011e-01\n",
      " -6.42787610e-01 -5.92907929e-01 -5.40640817e-01 -4.86196736e-01\n",
      " -4.29794912e-01 -3.71662456e-01 -3.12033446e-01 -2.51147987e-01\n",
      " -1.89251244e-01 -1.26592454e-01 -6.34239197e-02 -2.44929360e-16]\n"
     ]
    }
   ],
   "source": [
    "y = np.sin(x)\n",
    "print(y)"
   ]
  },
  {
   "cell_type": "code",
   "execution_count": 114,
   "metadata": {
    "ExecuteTime": {
     "end_time": "2018-03-13T01:49:53.294259Z",
     "start_time": "2018-03-13T01:49:53.107802Z"
    }
   },
   "outputs": [
    {
     "data": {
      "image/png": "[encoded data removed]",
      "text/plain": [
       "<matplotlib.figure.Figure at 0x7fd8b790f208>"
      ]
     },
     "metadata": {},
     "output_type": "display_data"
    }
   ],
   "source": [
    "plt.plot(x, y)\n",
    "plt.show()"
   ]
  },
  {
   "cell_type": "code",
   "execution_count": 115,
   "metadata": {
    "ExecuteTime": {
     "end_time": "2018-03-13T01:50:11.806004Z",
     "start_time": "2018-03-13T01:50:11.629418Z"
    }
   },
   "outputs": [
    {
     "data": {
      "image/png": "[encoded data removed]",
      "text/plain": [
       "<matplotlib.figure.Figure at 0x7fd8b79cf518>"
      ]
     },
     "metadata": {},
     "output_type": "display_data"
    }
   ],
   "source": [
    "plt.plot(x, y, 'r')\n",
    "plt.show()"
   ]
  },
  {
   "cell_type": "code",
   "execution_count": 116,
   "metadata": {
    "ExecuteTime": {
     "end_time": "2018-03-13T01:50:25.431289Z",
     "start_time": "2018-03-13T01:50:25.255310Z"
    }
   },
   "outputs": [
    {
     "data": {
      "image/png": "[encoded data removed]",
      "text/plain": [
       "<matplotlib.figure.Figure at 0x7fd8b773da58>"
      ]
     },
     "metadata": {},
     "output_type": "display_data"
    }
   ],
   "source": [
    "plt.plot(x, y, 'r.')\n",
    "plt.show()"
   ]
  },
  {
   "cell_type": "code",
   "execution_count": 117,
   "metadata": {
    "ExecuteTime": {
     "end_time": "2018-03-13T01:50:59.003026Z",
     "start_time": "2018-03-13T01:50:58.807085Z"
    }
   },
   "outputs": [
    {
     "data": {
      "image/png": "[encoded data removed]",
      "text/plain": [
       "<matplotlib.figure.Figure at 0x7fd8b76c9a90>"
      ]
     },
     "metadata": {},
     "output_type": "display_data"
    }
   ],
   "source": [
    "plt.plot(x, y, 'r.')\n",
    "plt.plot(x, np.cos(x), 'b-')\n",
    "plt.show()"
   ]
  },
  {
   "cell_type": "markdown",
   "metadata": {
    "solution2": "hidden",
    "solution2_first": true
   },
   "source": [
    "**Ejercicio**: Grafica la función exponencial y logaritmo entre 0 y 2."
   ]
  },
  {
   "cell_type": "code",
   "execution_count": 53,
   "metadata": {
    "ExecuteTime": {
     "end_time": "2018-03-13T00:46:21.969051Z",
     "start_time": "2018-03-13T00:46:21.800430Z"
    },
    "solution2": "hidden"
   },
   "outputs": [
    {
     "name": "stderr",
     "output_type": "stream",
     "text": [
      "/home/eardil/.pyenv/versions/3.6.1/lib/python3.6/site-packages/ipykernel_launcher.py:2: RuntimeWarning: divide by zero encountered in log\n",
      "  \n"
     ]
    },
    {
     "data": {
      "image/png": "[encoded data removed]",
      "text/plain": [
       "<matplotlib.figure.Figure at 0x7fd8b7f18eb8>"
      ]
     },
     "metadata": {},
     "output_type": "display_data"
    }
   ],
   "source": [
    "x = np.linspace(0,2,100)\n",
    "plt.plot(x, np.log(x), 'r-')\n",
    "plt.plot(x, np.exp(x), 'b-')\n",
    "plt.show()"
   ]
  },
  {
   "cell_type": "markdown",
   "metadata": {},
   "source": [
    "### Algo más interesante"
   ]
  },
  {
   "cell_type": "markdown",
   "metadata": {},
   "source": [
    "Datos de [delitos en Canada](https://raw.githubusercontent.com/vincentarelbundock/Rdatasets/master/csv/car/Hartnagel.csv) en https://vincentarelbundock.github.io/Rdatasets/datasets.html"
   ]
  },
  {
   "cell_type": "code",
   "execution_count": 126,
   "metadata": {
    "ExecuteTime": {
     "end_time": "2018-03-13T02:01:17.736996Z",
     "start_time": "2018-03-13T02:01:17.716642Z"
    }
   },
   "outputs": [
    {
     "data": {
      "text/plain": [
       "['\"\",\"year\",\"tfr\",\"partic\",\"degrees\",\"fconvict\",\"ftheft\",\"mconvict\",\"mtheft\"\\n',\n",
       " '\"1\",1931,3200,234,12.4,77.1,NA,778.7,NA\\n',\n",
       " '\"2\",1932,3084,234,12.9,92.9,NA,745.7,NA\\n',\n",
       " '\"3\",1933,2864,235,13.9,98.3,NA,768.3,NA\\n',\n",
       " '\"4\",1934,2803,237,13.6,88.1,NA,733.6,NA\\n',\n",
       " '\"5\",1935,2755,238,13.2,79.4,20.4,765.7,247.1\\n',\n",
       " '\"6\",1936,2696,240,13.2,91,22.1,816.5,254.9\\n',\n",
       " '\"7\",1937,2646,241,12.2,100.4,22.4,821.8,272.4\\n',\n",
       " '\"8\",1938,2701,242,12.6,108.9,21.8,956.8,285.8\\n',\n",
       " '\"9\",1939,2654,244,12.3,123.6,21.1,1035.7,292.2\\n',\n",
       " '\"10\",1940,2766,245,12,157.3,21.4,951.6,256\\n',\n",
       " '\"11\",1941,2832,246,11.7,154.3,25.3,850.9,205.8\\n',\n",
       " '\"12\",1942,2964,268,11.2,143.9,27.1,769.7,188\\n',\n",
       " '\"13\",1943,3041,333,11.5,147.5,29,811.2,205.8\\n',\n",
       " '\"14\",1944,3010,335,11.1,97.3,24.2,865.4,207.9\\n',\n",
       " '\"15\",1945,3018,331,12.5,76.6,24.7,866.8,197.8\\n',\n",
       " '\"16\",1946,3374,253,15,72.8,20.5,968,195.9\\n',\n",
       " '\"17\",1947,3545,243,17.6,68.9,20.7,894,198.9\\n',\n",
       " '\"18\",1948,3441,241,21.2,66.7,22.8,830.8,198.6\\n',\n",
       " '\"19\",1949,3456,242,22.7,55,18.5,811.2,216.1\\n',\n",
       " '\"20\",1950,3455,237,21.4,55,19.3,775.4,212\\n',\n",
       " '\"21\",1951,3503,242,20.7,55,20,739.8,208\\n',\n",
       " '\"22\",1952,3641,240,19.5,54.7,19.4,740.3,199.3\\n',\n",
       " '\"23\",1953,3721,233,36.6,47.9,16.1,725.1,176.4\\n',\n",
       " '\"24\",1954,3828,232,18.1,49,16.5,739.9,166.8\\n',\n",
       " '\"25\",1955,3831,236,17.7,44.4,15.2,663.8,179.7\\n',\n",
       " '\"26\",1956,3858,245,18.7,40.2,15.3,633.7,198.8\\n',\n",
       " '\"27\",1957,3925,256,20.8,43.8,17.1,716.5,262.5\\n',\n",
       " '\"28\",1958,3880,261,22.7,49.5,21.2,761,263.4\\n',\n",
       " '\"29\",1959,3935,265,24.6,50.4,22.3,665.3,253.6\\n',\n",
       " '\"30\",1960,3895,278,28.5,59.6,28.5,742.6,280.9\\n',\n",
       " '\"31\",1961,3840,291,31.3,72.4,34.4,789.8,290.9\\n',\n",
       " '\"32\",1962,3756,290,38,70.6,36,776.8,274.7\\n',\n",
       " '\"33\",1963,3669,290,42,82,43.8,842.2,296.9\\n',\n",
       " '\"34\",1964,3502,307,48.5,89.5,49.7,799.1,281.3\\n',\n",
       " '\"35\",1965,3145,313,59.2,101.3,58.6,763,264.2\\n',\n",
       " '\"36\",1966,2812,325,69.7,116.7,71.4,804.6,286.6\\n',\n",
       " '\"37\",1967,2586,339,80.4,115.2,70.6,781.1,272\\n',\n",
       " '\"38\",1968,2441,338,90.4,122.9,73,849.7,274.7']"
      ]
     },
     "execution_count": 126,
     "metadata": {},
     "output_type": "execute_result"
    }
   ],
   "source": [
    "with open('datos/Hartnagel.csv') as f:\n",
    "    delitos = f.readlines()\n",
    "    \n",
    "delitos"
   ]
  },
  {
   "cell_type": "code",
   "execution_count": 127,
   "metadata": {
    "ExecuteTime": {
     "end_time": "2018-03-13T02:01:45.573771Z",
     "start_time": "2018-03-13T02:01:45.561293Z"
    }
   },
   "outputs": [
    {
     "data": {
      "text/plain": [
       "'\"\",\"year\",\"tfr\",\"partic\",\"degrees\",\"fconvict\",\"ftheft\",\"mconvict\",\"mtheft\"\\n'"
      ]
     },
     "execution_count": 127,
     "metadata": {},
     "output_type": "execute_result"
    }
   ],
   "source": [
    "delitos[0]"
   ]
  },
  {
   "cell_type": "code",
   "execution_count": 128,
   "metadata": {
    "ExecuteTime": {
     "end_time": "2018-03-13T02:02:07.564776Z",
     "start_time": "2018-03-13T02:02:07.549941Z"
    },
    "scrolled": true
   },
   "outputs": [
    {
     "data": {
      "text/plain": [
       "['\"\"',\n",
       " '\"year\"',\n",
       " '\"tfr\"',\n",
       " '\"partic\"',\n",
       " '\"degrees\"',\n",
       " '\"fconvict\"',\n",
       " '\"ftheft\"',\n",
       " '\"mconvict\"',\n",
       " '\"mtheft\"\\n']"
      ]
     },
     "execution_count": 128,
     "metadata": {},
     "output_type": "execute_result"
    }
   ],
   "source": [
    "delitos[0].split(',')"
   ]
  },
  {
   "cell_type": "code",
   "execution_count": 129,
   "metadata": {
    "ExecuteTime": {
     "end_time": "2018-03-13T02:03:09.365328Z",
     "start_time": "2018-03-13T02:03:09.352405Z"
    }
   },
   "outputs": [
    {
     "data": {
      "text/plain": [
       "'1931'"
      ]
     },
     "execution_count": 129,
     "metadata": {},
     "output_type": "execute_result"
    }
   ],
   "source": [
    "delitos[1].split(',')[1]"
   ]
  },
  {
   "cell_type": "code",
   "execution_count": 130,
   "metadata": {
    "ExecuteTime": {
     "end_time": "2018-03-13T02:03:27.393951Z",
     "start_time": "2018-03-13T02:03:27.381893Z"
    }
   },
   "outputs": [
    {
     "data": {
      "text/plain": [
       "'778.7'"
      ]
     },
     "execution_count": 130,
     "metadata": {},
     "output_type": "execute_result"
    }
   ],
   "source": [
    "delitos[1].split(',')[7]"
   ]
  },
  {
   "cell_type": "code",
   "execution_count": 131,
   "metadata": {
    "ExecuteTime": {
     "end_time": "2018-03-13T02:04:00.886025Z",
     "start_time": "2018-03-13T02:04:00.873124Z"
    }
   },
   "outputs": [
    {
     "data": {
      "text/plain": [
       "39"
      ]
     },
     "execution_count": 131,
     "metadata": {},
     "output_type": "execute_result"
    }
   ],
   "source": [
    "len(delitos)"
   ]
  },
  {
   "cell_type": "code",
   "execution_count": 139,
   "metadata": {
    "ExecuteTime": {
     "end_time": "2018-03-13T02:07:16.833922Z",
     "start_time": "2018-03-13T02:07:16.821237Z"
    },
    "collapsed": true
   },
   "outputs": [],
   "source": [
    "anio = []\n",
    "mconvict = []\n",
    "fconvict = []\n",
    "for i in range(1, len(delitos)):\n",
    "    anio.append(delitos[i].split(',')[1])\n",
    "    mconvict.append(delitos[i].split(',')[7])\n",
    "    fconvict.append(delitos[i].split(',')[5])"
   ]
  },
  {
   "cell_type": "code",
   "execution_count": 140,
   "metadata": {
    "ExecuteTime": {
     "end_time": "2018-03-13T02:07:18.358769Z",
     "start_time": "2018-03-13T02:07:18.344067Z"
    }
   },
   "outputs": [
    {
     "data": {
      "text/plain": [
       "['1931',\n",
       " '1932',\n",
       " '1933',\n",
       " '1934',\n",
       " '1935',\n",
       " '1936',\n",
       " '1937',\n",
       " '1938',\n",
       " '1939',\n",
       " '1940',\n",
       " '1941',\n",
       " '1942',\n",
       " '1943',\n",
       " '1944',\n",
       " '1945',\n",
       " '1946',\n",
       " '1947',\n",
       " '1948',\n",
       " '1949',\n",
       " '1950',\n",
       " '1951',\n",
       " '1952',\n",
       " '1953',\n",
       " '1954',\n",
       " '1955',\n",
       " '1956',\n",
       " '1957',\n",
       " '1958',\n",
       " '1959',\n",
       " '1960',\n",
       " '1961',\n",
       " '1962',\n",
       " '1963',\n",
       " '1964',\n",
       " '1965',\n",
       " '1966',\n",
       " '1967',\n",
       " '1968']"
      ]
     },
     "execution_count": 140,
     "metadata": {},
     "output_type": "execute_result"
    }
   ],
   "source": [
    "anio"
   ]
  },
  {
   "cell_type": "code",
   "execution_count": 141,
   "metadata": {
    "ExecuteTime": {
     "end_time": "2018-03-13T02:08:59.396542Z",
     "start_time": "2018-03-13T02:08:59.382403Z"
    }
   },
   "outputs": [
    {
     "data": {
      "text/plain": [
       "array([1931, 1932, 1933, 1934, 1935, 1936, 1937, 1938, 1939, 1940, 1941,\n",
       "       1942, 1943, 1944, 1945, 1946, 1947, 1948, 1949, 1950, 1951, 1952,\n",
       "       1953, 1954, 1955, 1956, 1957, 1958, 1959, 1960, 1961, 1962, 1963,\n",
       "       1964, 1965, 1966, 1967, 1968])"
      ]
     },
     "execution_count": 141,
     "metadata": {},
     "output_type": "execute_result"
    }
   ],
   "source": [
    "np.array(anio, dtype=int)"
   ]
  },
  {
   "cell_type": "code",
   "execution_count": 142,
   "metadata": {
    "ExecuteTime": {
     "end_time": "2018-03-13T02:09:10.082086Z",
     "start_time": "2018-03-13T02:09:10.065280Z"
    }
   },
   "outputs": [
    {
     "data": {
      "text/plain": [
       "array(['778.7', '745.7', '768.3', '733.6', '765.7', '816.5', '821.8',\n",
       "       '956.8', '1035.7', '951.6', '850.9', '769.7', '811.2', '865.4',\n",
       "       '866.8', '968', '894', '830.8', '811.2', '775.4', '739.8', '740.3',\n",
       "       '725.1', '739.9', '663.8', '633.7', '716.5', '761', '665.3',\n",
       "       '742.6', '789.8', '776.8', '842.2', '799.1', '763', '804.6',\n",
       "       '781.1', '849.7'], dtype='<U6')"
      ]
     },
     "execution_count": 142,
     "metadata": {},
     "output_type": "execute_result"
    }
   ],
   "source": [
    "np.array(mconvict)"
   ]
  },
  {
   "cell_type": "code",
   "execution_count": 143,
   "metadata": {
    "ExecuteTime": {
     "end_time": "2018-03-13T02:09:31.529751Z",
     "start_time": "2018-03-13T02:09:31.519849Z"
    }
   },
   "outputs": [
    {
     "data": {
      "text/plain": [
       "array([ 778.7,  745.7,  768.3,  733.6,  765.7,  816.5,  821.8,  956.8,\n",
       "       1035.7,  951.6,  850.9,  769.7,  811.2,  865.4,  866.8,  968. ,\n",
       "        894. ,  830.8,  811.2,  775.4,  739.8,  740.3,  725.1,  739.9,\n",
       "        663.8,  633.7,  716.5,  761. ,  665.3,  742.6,  789.8,  776.8,\n",
       "        842.2,  799.1,  763. ,  804.6,  781.1,  849.7])"
      ]
     },
     "execution_count": 143,
     "metadata": {},
     "output_type": "execute_result"
    }
   ],
   "source": [
    "np.array(mconvict, dtype=np.double)"
   ]
  },
  {
   "cell_type": "code",
   "execution_count": 144,
   "metadata": {
    "ExecuteTime": {
     "end_time": "2018-03-13T02:09:51.999277Z",
     "start_time": "2018-03-13T02:09:51.986577Z"
    },
    "collapsed": true
   },
   "outputs": [],
   "source": [
    "anio = np.array(anio, dtype=int)\n",
    "mconvict = np.array(mconvict, dtype=np.double)\n",
    "fconvict = np.array(fconvict, dtype=np.double)"
   ]
  },
  {
   "cell_type": "code",
   "execution_count": 145,
   "metadata": {
    "ExecuteTime": {
     "end_time": "2018-03-13T02:09:54.100149Z",
     "start_time": "2018-03-13T02:09:54.092161Z"
    }
   },
   "outputs": [
    {
     "data": {
      "text/plain": [
       "array([1931, 1932, 1933, 1934, 1935, 1936, 1937, 1938, 1939, 1940, 1941,\n",
       "       1942, 1943, 1944, 1945, 1946, 1947, 1948, 1949, 1950, 1951, 1952,\n",
       "       1953, 1954, 1955, 1956, 1957, 1958, 1959, 1960, 1961, 1962, 1963,\n",
       "       1964, 1965, 1966, 1967, 1968])"
      ]
     },
     "execution_count": 145,
     "metadata": {},
     "output_type": "execute_result"
    }
   ],
   "source": [
    "anio"
   ]
  },
  {
   "cell_type": "code",
   "execution_count": 147,
   "metadata": {
    "ExecuteTime": {
     "end_time": "2018-03-13T02:12:35.683413Z",
     "start_time": "2018-03-13T02:12:35.471428Z"
    }
   },
   "outputs": [
    {
     "data": {
      "image/png": "[encoded data removed]",
      "text/plain": [
       "<matplotlib.figure.Figure at 0x7fd8b76803c8>"
      ]
     },
     "metadata": {},
     "output_type": "display_data"
    }
   ],
   "source": [
    "import matplotlib.pyplot as plt\n",
    "plt.plot(anio, mconvict, 'r')\n",
    "plt.show()"
   ]
  },
  {
   "cell_type": "code",
   "execution_count": 150,
   "metadata": {
    "ExecuteTime": {
     "end_time": "2018-03-13T02:13:27.068921Z",
     "start_time": "2018-03-13T02:13:26.898983Z"
    }
   },
   "outputs": [
    {
     "data": {
      "image/png": "[encoded data removed]",
      "text/plain": [
       "<matplotlib.figure.Figure at 0x7fd8b7402a90>"
      ]
     },
     "metadata": {},
     "output_type": "display_data"
    }
   ],
   "source": [
    "plt.plot(anio, mconvict, 'r.-')\n",
    "plt.show()"
   ]
  },
  {
   "cell_type": "code",
   "execution_count": 151,
   "metadata": {
    "ExecuteTime": {
     "end_time": "2018-03-13T02:13:42.292972Z",
     "start_time": "2018-03-13T02:13:42.097454Z"
    }
   },
   "outputs": [
    {
     "data": {
      "image/png": "[encoded data removed]",
      "text/plain": [
       "<matplotlib.figure.Figure at 0x7fd8b71e41d0>"
      ]
     },
     "metadata": {},
     "output_type": "display_data"
    }
   ],
   "source": [
    "plt.plot(anio, mconvict, 'r.-')\n",
    "plt.plot(anio, fconvict, 'b.-')\n",
    "plt.show()"
   ]
  },
  {
   "cell_type": "code",
   "execution_count": 152,
   "metadata": {
    "ExecuteTime": {
     "end_time": "2018-03-13T02:13:55.551144Z",
     "start_time": "2018-03-13T02:13:55.379343Z"
    }
   },
   "outputs": [
    {
     "data": {
      "image/png": "[encoded data removed]",
      "text/plain": [
       "<matplotlib.figure.Figure at 0x7fd8b71da160>"
      ]
     },
     "metadata": {},
     "output_type": "display_data"
    }
   ],
   "source": [
    "plt.plot(anio, mconvict, 'r.-', label = 'Male convictions')\n",
    "plt.plot(anio, fconvict, 'b.-', label = 'Female convictions')\n",
    "plt.show()"
   ]
  },
  {
   "cell_type": "code",
   "execution_count": 153,
   "metadata": {
    "ExecuteTime": {
     "end_time": "2018-03-13T02:14:22.603066Z",
     "start_time": "2018-03-13T02:14:22.294032Z"
    }
   },
   "outputs": [
    {
     "data": {
      "image/png": "[encoded data removed]",
      "text/plain": [
       "<matplotlib.figure.Figure at 0x7fd8b7372978>"
      ]
     },
     "metadata": {},
     "output_type": "display_data"
    }
   ],
   "source": [
    "plt.plot(anio, mconvict, 'r.-', label = 'Male convictions')\n",
    "plt.plot(anio, fconvict, 'b.-', label = 'Female convictions')\n",
    "plt.legend()\n",
    "plt.show()"
   ]
  },
  {
   "cell_type": "code",
   "execution_count": 157,
   "metadata": {
    "ExecuteTime": {
     "end_time": "2018-03-13T02:16:13.973409Z",
     "start_time": "2018-03-13T02:16:13.732772Z"
    }
   },
   "outputs": [
    {
     "data": {
      "image/png": "[encoded data removed]",
      "text/plain": [
       "<matplotlib.figure.Figure at 0x7fd8b75f6860>"
      ]
     },
     "metadata": {},
     "output_type": "display_data"
    }
   ],
   "source": [
    "plt.plot(anio, mconvict, 'r.-', label = 'Male convictions')\n",
    "plt.plot(anio, fconvict, 'b.-', label = 'Female convictions')\n",
    "plt.legend()\n",
    "plt.title('Condenas en Canadá por año')\n",
    "plt.show()"
   ]
  },
  {
   "cell_type": "code",
   "execution_count": 158,
   "metadata": {
    "ExecuteTime": {
     "end_time": "2018-03-13T02:16:33.422325Z",
     "start_time": "2018-03-13T02:16:33.223872Z"
    }
   },
   "outputs": [
    {
     "data": {
      "image/png": "[encoded data removed]",
      "text/plain": [
       "<matplotlib.figure.Figure at 0x7fd8b7a2bdd8>"
      ]
     },
     "metadata": {},
     "output_type": "display_data"
    }
   ],
   "source": [
    "plt.plot(anio, np.log(mconvict), 'r.-', label = 'Male convictions')\n",
    "plt.plot(anio, np.log(fconvict), 'b.-', label = 'Female convictions')\n",
    "plt.legend()\n",
    "plt.title('Convicciones en Canadá por año (escala logarítmica)')\n",
    "plt.show()"
   ]
  },
  {
   "cell_type": "code",
   "execution_count": 165,
   "metadata": {
    "ExecuteTime": {
     "end_time": "2018-03-13T02:19:19.175005Z",
     "start_time": "2018-03-13T02:19:18.913335Z"
    }
   },
   "outputs": [
    {
     "data": {
      "image/png": "[encoded data removed]",
      "text/plain": [
       "<matplotlib.figure.Figure at 0x7fd8b6fc8b70>"
      ]
     },
     "metadata": {},
     "output_type": "display_data"
    }
   ],
   "source": [
    "plt.subplot(1,2,1)\n",
    "plt.plot(anio, mconvict, 'r.-')\n",
    "plt.title('Male conv')\n",
    "plt.xlabel('Año')\n",
    "\n",
    "plt.subplot(1,2,2)\n",
    "plt.plot(anio, fconvict, 'b.-')\n",
    "plt.title('Female conv')\n",
    "plt.xlabel('Año')\n",
    "\n",
    "plt.show()"
   ]
  },
  {
   "cell_type": "code",
   "execution_count": 166,
   "metadata": {
    "ExecuteTime": {
     "end_time": "2018-03-13T02:19:42.315108Z",
     "start_time": "2018-03-13T02:19:42.088390Z"
    }
   },
   "outputs": [
    {
     "data": {
      "image/png": "[encoded data removed]",
      "text/plain": [
       "<matplotlib.figure.Figure at 0x7fd8b6e8ff98>"
      ]
     },
     "metadata": {},
     "output_type": "display_data"
    }
   ],
   "source": [
    "plt.plot(anio, np.log(mconvict), 'r.-', label = 'Male convictions')\n",
    "plt.plot(anio, np.log(fconvict), 'b.-', label = 'Female convictions')\n",
    "plt.legend()\n",
    "plt.xlabel('Año')\n",
    "plt.ylabel('Condenas (log)')\n",
    "plt.title('Condenas en Canadá por año (escala logarítmica)')\n",
    "plt.show()"
   ]
  },
  {
   "cell_type": "code",
   "execution_count": 167,
   "metadata": {
    "ExecuteTime": {
     "end_time": "2018-03-13T02:20:44.698018Z",
     "start_time": "2018-03-13T02:20:44.387536Z"
    }
   },
   "outputs": [
    {
     "data": {
      "image/png": "[encoded data removed]",
      "text/plain": [
       "<matplotlib.figure.Figure at 0x7fd8b6e1ae10>"
      ]
     },
     "metadata": {},
     "output_type": "display_data"
    }
   ],
   "source": [
    "plt.subplot(1,2,1)\n",
    "plt.plot(anio, np.log(mconvict), 'r.-')\n",
    "plt.title('Male conv')\n",
    "plt.xlabel('Año')\n",
    "plt.ylim([3, 7])\n",
    "\n",
    "plt.subplot(1,2,2)\n",
    "plt.plot(anio, np.log(fconvict), 'r.-')\n",
    "plt.title('Female conv')\n",
    "plt.ylim([3, 7])\n",
    "\n",
    "plt.show()"
   ]
  },
  {
   "cell_type": "code",
   "execution_count": 168,
   "metadata": {
    "ExecuteTime": {
     "end_time": "2018-03-13T02:22:54.206462Z",
     "start_time": "2018-03-13T02:22:54.200273Z"
    },
    "collapsed": true
   },
   "outputs": [],
   "source": [
    "x = np.linspace(0,2,100)"
   ]
  },
  {
   "cell_type": "code",
   "execution_count": 169,
   "metadata": {
    "ExecuteTime": {
     "end_time": "2018-03-13T02:22:56.622197Z",
     "start_time": "2018-03-13T02:22:56.206742Z"
    }
   },
   "outputs": [
    {
     "name": "stderr",
     "output_type": "stream",
     "text": [
      "/home/eardil/.pyenv/versions/3.6.1/lib/python3.6/site-packages/ipykernel_launcher.py:2: RuntimeWarning: divide by zero encountered in log\n",
      "  \n"
     ]
    },
    {
     "data": {
      "image/png": "[encoded data removed]",
      "text/plain": [
       "<matplotlib.figure.Figure at 0x7fd8b6ca6f98>"
      ]
     },
     "metadata": {},
     "output_type": "display_data"
    }
   ],
   "source": [
    "plt.subplot(2, 2, 1)\n",
    "plt.plot(x, np.log(x))\n",
    "plt.title('logaritmo')\n",
    "\n",
    "plt.subplot(2, 2, 2)\n",
    "plt.plot(x, np.exp(x))\n",
    "plt.title('exponencial')\n",
    "\n",
    "plt.subplot(2, 2, 3)\n",
    "plt.plot(x, np.cos(x))\n",
    "plt.title('coseno')\n",
    "\n",
    "plt.subplot(2, 2, 4)\n",
    "plt.plot(x, np.sin(x))\n",
    "plt.title('seno')\n",
    "\n",
    "plt.show()"
   ]
  },
  {
   "cell_type": "code",
   "execution_count": 170,
   "metadata": {
    "ExecuteTime": {
     "end_time": "2018-03-13T02:23:49.514070Z",
     "start_time": "2018-03-13T02:23:49.493058Z"
    },
    "collapsed": true
   },
   "outputs": [],
   "source": [
    "with open('datos/Hartnagel.csv') as f:\n",
    "    delitos = f.readlines()\n",
    "    \n",
    "anio = []\n",
    "mconvict = []\n",
    "fconvict = []\n",
    "for i in range(1, len(delitos)):\n",
    "    anio.append(delitos[i].split(',')[1])\n",
    "    mconvict.append(delitos[i].split(',')[7])\n",
    "    fconvict.append(delitos[i].split(',')[5])\n",
    "\n",
    "anio = np.array(anio, dtype=int)\n",
    "mconvict = np.array(mconvict, dtype=np.double)\n",
    "fconvict = np.array(fconvict, dtype=np.double)"
   ]
  }
 ],
 "metadata": {
  "kernelspec": {
   "display_name": "Python 3",
   "language": "python",
   "name": "python3"
  },
  "language_info": {
   "codemirror_mode": {
    "name": "ipython",
    "version": 3
   },
   "file_extension": ".py",
   "mimetype": "text/x-python",
   "name": "python",
   "nbconvert_exporter": "python",
   "pygments_lexer": "ipython3",
   "version": "3.6.1"
  }
 },
 "nbformat": 4,
 "nbformat_minor": 2
}
