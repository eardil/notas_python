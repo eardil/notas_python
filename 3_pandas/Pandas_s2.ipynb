{
 "cells": [
  {
   "cell_type": "markdown",
   "metadata": {
    "toc": "true"
   },
   "source": [
    "# Table of Contents\n",
    " <p><div class=\"lev1 toc-item\"><a href=\"#Data-Wrangling\" data-toc-modified-id=\"Data-Wrangling-1\"><span class=\"toc-item-num\">1&nbsp;&nbsp;</span>Data Wrangling</a></div><div class=\"lev2 toc-item\"><a href=\"#Dataframes\" data-toc-modified-id=\"Dataframes-11\"><span class=\"toc-item-num\">1.1&nbsp;&nbsp;</span>Dataframes</a></div><div class=\"lev3 toc-item\"><a href=\"#Indices\" data-toc-modified-id=\"Indices-111\"><span class=\"toc-item-num\">1.1.1&nbsp;&nbsp;</span>Indices</a></div><div class=\"lev3 toc-item\"><a href=\"#Group-by,-aggregate\" data-toc-modified-id=\"Group-by,-aggregate-112\"><span class=\"toc-item-num\">1.1.2&nbsp;&nbsp;</span>Group by, aggregate</a></div><div class=\"lev3 toc-item\"><a href=\"#Ordenar\" data-toc-modified-id=\"Ordenar-113\"><span class=\"toc-item-num\">1.1.3&nbsp;&nbsp;</span>Ordenar</a></div><div class=\"lev3 toc-item\"><a href=\"#Merge\" data-toc-modified-id=\"Merge-114\"><span class=\"toc-item-num\">1.1.4&nbsp;&nbsp;</span>Merge</a></div><div class=\"lev4 toc-item\"><a href=\"#Tablas-relacionales\" data-toc-modified-id=\"Tablas-relacionales-1141\"><span class=\"toc-item-num\">1.1.4.1&nbsp;&nbsp;</span>Tablas relacionales</a></div><div class=\"lev3 toc-item\"><a href=\"#Split-apply-combine\" data-toc-modified-id=\"Split-apply-combine-115\"><span class=\"toc-item-num\">1.1.5&nbsp;&nbsp;</span>Split-apply-combine</a></div><div class=\"lev3 toc-item\"><a href=\"#Pivot\" data-toc-modified-id=\"Pivot-116\"><span class=\"toc-item-num\">1.1.6&nbsp;&nbsp;</span>Pivot</a></div><div class=\"lev3 toc-item\"><a href=\"#Graficar-con-pandas\" data-toc-modified-id=\"Graficar-con-pandas-117\"><span class=\"toc-item-num\">1.1.7&nbsp;&nbsp;</span>Graficar con pandas</a></div><div class=\"lev3 toc-item\"><a href=\"#query\" data-toc-modified-id=\"query-118\"><span class=\"toc-item-num\">1.1.8&nbsp;&nbsp;</span>query</a></div><div class=\"lev3 toc-item\"><a href=\"#Assign\" data-toc-modified-id=\"Assign-119\"><span class=\"toc-item-num\">1.1.9&nbsp;&nbsp;</span>Assign</a></div><div class=\"lev2 toc-item\"><a href=\"#Iterar-sobre-dataframe\" data-toc-modified-id=\"Iterar-sobre-dataframe-12\"><span class=\"toc-item-num\">1.2&nbsp;&nbsp;</span>Iterar sobre dataframe</a></div><div class=\"lev3 toc-item\"><a href=\"#Apply\" data-toc-modified-id=\"Apply-121\"><span class=\"toc-item-num\">1.2.1&nbsp;&nbsp;</span>Apply</a></div><div class=\"lev2 toc-item\"><a href=\"#Wrap-up\" data-toc-modified-id=\"Wrap-up-13\"><span class=\"toc-item-num\">1.3&nbsp;&nbsp;</span>Wrap-up</a></div>"
   ]
  },
  {
   "cell_type": "code",
   "execution_count": 1,
   "metadata": {
    "ExecuteTime": {
     "end_time": "2018-03-16T01:06:03.823630Z",
     "start_time": "2018-03-16T01:06:03.413118Z"
    },
    "collapsed": true
   },
   "outputs": [],
   "source": [
    "import numpy as np\n",
    "import pandas as pd\n",
    "import matplotlib.pyplot as plt"
   ]
  },
  {
   "cell_type": "markdown",
   "metadata": {},
   "source": [
    "# Data Wrangling\n",
    "\n",
    "Usaremos datos publicados en [datos.gob.mx](datos.gob.mx):\n",
    "* [Estadística de Pasajeros de los Aeropuertos de la Red ASA](https://datos.gob.mx/busca/dataset/estadistica-de-pasajeros-de-los-aeropuertos-de-la-red-asa)\n",
    "* [Estadística de Operaciones de los Aeropuertos de la Red ASA](https://datos.gob.mx/busca/dataset/estadistica-de-operaciones-de-los-aeropuertos-de-la-red-asa)\n",
    "\n",
    "Primero los leemos a data frame."
   ]
  },
  {
   "cell_type": "code",
   "execution_count": 2,
   "metadata": {
    "ExecuteTime": {
     "end_time": "2018-03-16T01:06:05.551708Z",
     "start_time": "2018-03-16T01:06:05.193519Z"
    },
    "collapsed": true
   },
   "outputs": [],
   "source": [
    "pas = (pd.read_csv(\n",
    "           'http://www.asa.gob.mx/work/models/ASA/Resource/2008/1/images/ASA_estadisticasPasajeros(22).csv'\n",
    "       ))"
   ]
  },
  {
   "cell_type": "code",
   "execution_count": null,
   "metadata": {
    "ExecuteTime": {
     "end_time": "2018-03-16T00:42:50.113308Z",
     "start_time": "2018-03-16T00:42:50.030513Z"
    },
    "collapsed": true
   },
   "outputs": [],
   "source": [
    "pas.head(5)"
   ]
  },
  {
   "cell_type": "code",
   "execution_count": 3,
   "metadata": {
    "ExecuteTime": {
     "end_time": "2018-03-16T01:06:07.289707Z",
     "start_time": "2018-03-16T01:06:07.040926Z"
    },
    "collapsed": true
   },
   "outputs": [],
   "source": [
    "ops = (pd.read_csv(\n",
    "           'http://www.asa.gob.mx/work/models/ASA/Resource/2008/1/images/ASA_estadisticasOperaciones(22).csv'\n",
    "       ))"
   ]
  },
  {
   "cell_type": "code",
   "execution_count": null,
   "metadata": {
    "ExecuteTime": {
     "end_time": "2018-03-16T00:42:56.318648Z",
     "start_time": "2018-03-16T00:42:56.304245Z"
    },
    "collapsed": true
   },
   "outputs": [],
   "source": [
    "ops.head(5)"
   ]
  },
  {
   "cell_type": "markdown",
   "metadata": {},
   "source": [
    "## Dataframes\n",
    "\n",
    "Los dataframes están constituidos de columnas, que son objetos [Series](https://pandas.pydata.org/pandas-docs/stable/generated/pandas.Series.html). Contienen al menos un índice (por default numérico).\n",
    "\n",
    "En este caso, el índice se leyó como la primera columna (Anio mes)."
   ]
  },
  {
   "cell_type": "code",
   "execution_count": null,
   "metadata": {
    "ExecuteTime": {
     "end_time": "2018-03-14T01:26:30.773089Z",
     "start_time": "2018-03-14T01:26:30.764722Z"
    },
    "collapsed": true
   },
   "outputs": [],
   "source": [
    "pas.index"
   ]
  },
  {
   "cell_type": "code",
   "execution_count": null,
   "metadata": {
    "ExecuteTime": {
     "end_time": "2018-03-14T01:27:52.679952Z",
     "start_time": "2018-03-14T01:27:52.659056Z"
    },
    "collapsed": true
   },
   "outputs": [],
   "source": [
    "pas.reset_index().head(5)"
   ]
  },
  {
   "cell_type": "markdown",
   "metadata": {},
   "source": [
    "Acceder a nombres de columnas."
   ]
  },
  {
   "cell_type": "code",
   "execution_count": null,
   "metadata": {
    "ExecuteTime": {
     "end_time": "2018-03-14T01:26:37.027987Z",
     "start_time": "2018-03-14T01:26:37.013705Z"
    },
    "collapsed": true
   },
   "outputs": [],
   "source": [
    "pas.columns"
   ]
  },
  {
   "cell_type": "markdown",
   "metadata": {},
   "source": [
    "Tanto los índices como las columnas son iterables."
   ]
  },
  {
   "cell_type": "code",
   "execution_count": null,
   "metadata": {
    "ExecuteTime": {
     "end_time": "2018-03-14T01:28:06.166184Z",
     "start_time": "2018-03-14T01:28:06.161001Z"
    },
    "collapsed": true
   },
   "outputs": [],
   "source": [
    "for col in pas.columns:\n",
    "    print(col)"
   ]
  },
  {
   "cell_type": "markdown",
   "metadata": {},
   "source": [
    "### Indices\n",
    "\n",
    "Usemos dataframes cuyos índices sean numéricos sobre la posición."
   ]
  },
  {
   "cell_type": "code",
   "execution_count": null,
   "metadata": {
    "ExecuteTime": {
     "end_time": "2018-03-14T00:00:53.781054Z",
     "start_time": "2018-03-14T00:00:53.671491Z"
    },
    "collapsed": true
   },
   "outputs": [],
   "source": [
    "# pas = pas.reset_index()\n",
    "# ops = ops.reset_index()"
   ]
  },
  {
   "cell_type": "code",
   "execution_count": null,
   "metadata": {
    "ExecuteTime": {
     "end_time": "2018-03-14T01:28:35.342371Z",
     "start_time": "2018-03-14T01:28:35.298872Z"
    },
    "collapsed": true
   },
   "outputs": [],
   "source": [
    "pas[['Codigo IATA', 'Estado']].head(5)"
   ]
  },
  {
   "cell_type": "code",
   "execution_count": null,
   "metadata": {
    "ExecuteTime": {
     "end_time": "2018-03-14T00:00:53.979323Z",
     "start_time": "2018-03-14T00:00:53.931257Z"
    },
    "collapsed": true
   },
   "outputs": [],
   "source": [
    "pas.head(5)"
   ]
  },
  {
   "cell_type": "markdown",
   "metadata": {},
   "source": [
    "El método `loc` nos ayuda a acceder a renglones y columnas a través de las etiquetas correspondientes."
   ]
  },
  {
   "cell_type": "code",
   "execution_count": null,
   "metadata": {
    "ExecuteTime": {
     "end_time": "2018-03-14T01:29:14.353722Z",
     "start_time": "2018-03-14T01:29:14.319058Z"
    },
    "collapsed": true
   },
   "outputs": [],
   "source": [
    "pas.loc[0:10, 'Codigo IATA']"
   ]
  },
  {
   "cell_type": "code",
   "execution_count": null,
   "metadata": {
    "ExecuteTime": {
     "end_time": "2018-03-14T01:29:32.385131Z",
     "start_time": "2018-03-14T01:29:32.335322Z"
    },
    "collapsed": true
   },
   "outputs": [],
   "source": [
    "pas.loc[0:10, :]"
   ]
  },
  {
   "cell_type": "markdown",
   "metadata": {},
   "source": [
    "No podemos acceder por posición."
   ]
  },
  {
   "cell_type": "code",
   "execution_count": null,
   "metadata": {
    "ExecuteTime": {
     "end_time": "2018-03-14T01:29:56.771328Z",
     "start_time": "2018-03-14T01:29:56.636033Z"
    },
    "collapsed": true
   },
   "outputs": [],
   "source": [
    "pas.loc[0:10, 0:3]"
   ]
  },
  {
   "cell_type": "markdown",
   "metadata": {},
   "source": [
    "Para acceder por posición se usa `iloc`."
   ]
  },
  {
   "cell_type": "code",
   "execution_count": null,
   "metadata": {
    "ExecuteTime": {
     "end_time": "2018-03-14T01:30:27.820753Z",
     "start_time": "2018-03-14T01:30:27.792325Z"
    },
    "collapsed": true
   },
   "outputs": [],
   "source": [
    "pas.iloc[0:10, 0:3]"
   ]
  },
  {
   "cell_type": "markdown",
   "metadata": {},
   "source": [
    "Un ejemplo donde esto hace la diferencia es cuando hemos filtrado un dataframe. Los índices ya no empiezan en cero, porque el cero se filtró."
   ]
  },
  {
   "cell_type": "code",
   "execution_count": null,
   "metadata": {
    "ExecuteTime": {
     "end_time": "2018-03-14T01:30:40.877244Z",
     "start_time": "2018-03-14T01:30:40.854459Z"
    },
    "collapsed": true
   },
   "outputs": [],
   "source": [
    "pas['Codigo IATA'] == 'MAM'"
   ]
  },
  {
   "cell_type": "code",
   "execution_count": null,
   "metadata": {
    "ExecuteTime": {
     "end_time": "2018-03-14T01:31:32.025568Z",
     "start_time": "2018-03-14T01:31:31.985385Z"
    },
    "collapsed": true
   },
   "outputs": [],
   "source": [
    "pas_mam = pas[pas['Codigo IATA'] == 'MAM']\n",
    "pas_mam.head(5)"
   ]
  },
  {
   "cell_type": "code",
   "execution_count": null,
   "metadata": {
    "ExecuteTime": {
     "end_time": "2018-03-14T01:38:11.596067Z",
     "start_time": "2018-03-14T01:38:11.569322Z"
    },
    "collapsed": true
   },
   "outputs": [],
   "source": [
    "pas_mam.iloc[0:5, :]"
   ]
  },
  {
   "cell_type": "code",
   "execution_count": null,
   "metadata": {
    "ExecuteTime": {
     "end_time": "2018-03-14T01:32:03.117993Z",
     "start_time": "2018-03-14T01:32:03.084912Z"
    },
    "collapsed": true
   },
   "outputs": [],
   "source": [
    "pas_mam.loc[0, :]"
   ]
  },
  {
   "cell_type": "code",
   "execution_count": null,
   "metadata": {
    "ExecuteTime": {
     "end_time": "2018-03-14T01:36:17.246143Z",
     "start_time": "2018-03-14T01:36:17.233029Z"
    },
    "collapsed": true
   },
   "outputs": [],
   "source": [
    "pas.head(5)"
   ]
  },
  {
   "cell_type": "code",
   "execution_count": null,
   "metadata": {
    "ExecuteTime": {
     "end_time": "2018-03-14T01:44:29.551188Z",
     "start_time": "2018-03-14T01:44:29.547730Z"
    },
    "collapsed": true
   },
   "outputs": [],
   "source": [
    "pas_aux = pas.head(5)"
   ]
  },
  {
   "cell_type": "markdown",
   "metadata": {},
   "source": [
    "El índice pueden ser otras cosas."
   ]
  },
  {
   "cell_type": "code",
   "execution_count": null,
   "metadata": {
    "ExecuteTime": {
     "end_time": "2018-03-14T01:44:57.818827Z",
     "start_time": "2018-03-14T01:44:57.815078Z"
    },
    "collapsed": true
   },
   "outputs": [],
   "source": [
    "pas_aux.index = pas_aux['Anio mes']"
   ]
  },
  {
   "cell_type": "code",
   "execution_count": null,
   "metadata": {
    "ExecuteTime": {
     "end_time": "2018-03-14T01:45:34.996375Z",
     "start_time": "2018-03-14T01:45:34.974292Z"
    },
    "collapsed": true
   },
   "outputs": [],
   "source": [
    "pas_aux.loc[201501,:]"
   ]
  },
  {
   "cell_type": "markdown",
   "metadata": {
    "solution2": "shown",
    "solution2_first": true
   },
   "source": [
    "**Ejercicio**: Filtra los datos del estado de Sonora e imprime 10 datos a partir del segundo renglón."
   ]
  },
  {
   "cell_type": "code",
   "execution_count": null,
   "metadata": {
    "ExecuteTime": {
     "end_time": "2018-03-14T01:46:38.715302Z",
     "start_time": "2018-03-14T01:46:38.691093Z"
    },
    "collapsed": true,
    "solution2": "shown"
   },
   "outputs": [],
   "source": [
    "pas[pas.Estado == 'Sonora'].iloc[1:11,:]"
   ]
  },
  {
   "cell_type": "markdown",
   "metadata": {},
   "source": [
    "### Group by, aggregate"
   ]
  },
  {
   "cell_type": "code",
   "execution_count": null,
   "metadata": {
    "ExecuteTime": {
     "end_time": "2018-03-14T01:46:51.585160Z",
     "start_time": "2018-03-14T01:46:51.575218Z"
    },
    "collapsed": true
   },
   "outputs": [],
   "source": [
    "pas.columns"
   ]
  },
  {
   "cell_type": "code",
   "execution_count": null,
   "metadata": {
    "ExecuteTime": {
     "end_time": "2018-03-14T01:46:58.695679Z",
     "start_time": "2018-03-14T01:46:58.684261Z"
    },
    "collapsed": true
   },
   "outputs": [],
   "source": [
    "pas.groupby('Estado')"
   ]
  },
  {
   "cell_type": "code",
   "execution_count": null,
   "metadata": {
    "ExecuteTime": {
     "end_time": "2018-03-14T00:01:53.853630Z",
     "start_time": "2018-03-14T00:01:53.767201Z"
    },
    "collapsed": true
   },
   "outputs": [],
   "source": [
    "print(min(pas['Anio mes']), max(pas['Anio mes']))"
   ]
  },
  {
   "cell_type": "code",
   "execution_count": null,
   "metadata": {
    "ExecuteTime": {
     "end_time": "2018-03-14T00:01:53.969613Z",
     "start_time": "2018-03-14T00:01:53.857078Z"
    },
    "collapsed": true
   },
   "outputs": [],
   "source": [
    "pas.head(5)"
   ]
  },
  {
   "cell_type": "code",
   "execution_count": null,
   "metadata": {
    "ExecuteTime": {
     "end_time": "2018-03-14T01:48:06.530696Z",
     "start_time": "2018-03-14T01:48:06.514402Z"
    },
    "collapsed": true
   },
   "outputs": [],
   "source": [
    "pas.groupby('Estado')['Pasajeros nacionales']"
   ]
  },
  {
   "cell_type": "code",
   "execution_count": null,
   "metadata": {
    "ExecuteTime": {
     "end_time": "2018-03-14T01:48:52.659711Z",
     "start_time": "2018-03-14T01:48:52.639859Z"
    },
    "collapsed": true
   },
   "outputs": [],
   "source": [
    "pas.groupby('Estado')['Pasajeros nacionales'].sum()"
   ]
  },
  {
   "cell_type": "code",
   "execution_count": null,
   "metadata": {
    "ExecuteTime": {
     "end_time": "2018-03-14T01:49:20.651001Z",
     "start_time": "2018-03-14T01:49:20.626071Z"
    },
    "collapsed": true
   },
   "outputs": [],
   "source": [
    "pas.groupby('Anio mes')['Pasajeros nacionales'].count()"
   ]
  },
  {
   "cell_type": "code",
   "execution_count": null,
   "metadata": {
    "ExecuteTime": {
     "end_time": "2018-03-14T01:49:26.591423Z",
     "start_time": "2018-03-14T01:49:26.565066Z"
    },
    "collapsed": true
   },
   "outputs": [],
   "source": [
    "pas.groupby('Estado').head(1)"
   ]
  },
  {
   "cell_type": "code",
   "execution_count": null,
   "metadata": {
    "ExecuteTime": {
     "end_time": "2018-03-14T01:50:03.341407Z",
     "start_time": "2018-03-14T01:50:03.312858Z"
    },
    "collapsed": true
   },
   "outputs": [],
   "source": [
    "pas.groupby('Estado').aggregate(np.sum)"
   ]
  },
  {
   "cell_type": "code",
   "execution_count": null,
   "metadata": {
    "ExecuteTime": {
     "end_time": "2018-03-14T01:51:13.895047Z",
     "start_time": "2018-03-14T01:51:13.856092Z"
    },
    "collapsed": true
   },
   "outputs": [],
   "source": [
    "aggr = pas.groupby('Estado').aggregate([np.sum, np.std]).head(3)\n",
    "aggr"
   ]
  },
  {
   "cell_type": "code",
   "execution_count": null,
   "metadata": {
    "ExecuteTime": {
     "end_time": "2018-03-14T01:50:50.575203Z",
     "start_time": "2018-03-14T01:50:50.557122Z"
    },
    "collapsed": true
   },
   "outputs": [],
   "source": [
    "aggr.columns"
   ]
  },
  {
   "cell_type": "markdown",
   "metadata": {
    "solution2": "shown",
    "solution2_first": true
   },
   "source": [
    "**Ejercicio**: Imprime las primeras 3 IATAs por año."
   ]
  },
  {
   "cell_type": "code",
   "execution_count": null,
   "metadata": {
    "ExecuteTime": {
     "end_time": "2018-03-14T02:12:57.501628Z",
     "start_time": "2018-03-14T02:12:57.474877Z"
    },
    "collapsed": true,
    "solution2": "shown"
   },
   "outputs": [],
   "source": [
    "pas['anio'] = (pas['Anio mes']/100).astype(int)\n",
    "pas.groupby('anio')[['anio', 'Codigo IATA']].head(3)"
   ]
  },
  {
   "cell_type": "markdown",
   "metadata": {},
   "source": [
    "### Ordenar\n",
    "Para ordenar el data frame según una columna, usamos `sort_values`."
   ]
  },
  {
   "cell_type": "code",
   "execution_count": null,
   "metadata": {
    "ExecuteTime": {
     "end_time": "2018-03-14T02:13:48.277679Z",
     "start_time": "2018-03-14T02:13:48.259947Z"
    },
    "collapsed": true
   },
   "outputs": [],
   "source": [
    "pas.sort_values(by = 'Estado').head(5)"
   ]
  },
  {
   "cell_type": "code",
   "execution_count": null,
   "metadata": {
    "ExecuteTime": {
     "end_time": "2018-03-14T02:13:52.329013Z",
     "start_time": "2018-03-14T02:13:52.271024Z"
    },
    "collapsed": true
   },
   "outputs": [],
   "source": [
    "pas.sort_values(by = ['Estado', 'Pasajeros nacionales']).head(10)"
   ]
  },
  {
   "cell_type": "code",
   "execution_count": null,
   "metadata": {
    "ExecuteTime": {
     "end_time": "2018-03-14T02:14:11.552435Z",
     "start_time": "2018-03-14T02:14:11.544373Z"
    },
    "collapsed": true
   },
   "outputs": [],
   "source": [
    "pas.Estado.unique()"
   ]
  },
  {
   "cell_type": "code",
   "execution_count": null,
   "metadata": {
    "ExecuteTime": {
     "end_time": "2018-03-14T02:15:24.580236Z",
     "start_time": "2018-03-14T02:15:24.561319Z"
    },
    "collapsed": true
   },
   "outputs": [],
   "source": [
    "pas.sort_values(by = ['Estado', 'Pasajeros nacionales'],\n",
    "               ascending = [True, False]).head(5)"
   ]
  },
  {
   "cell_type": "markdown",
   "metadata": {
    "solution2": "shown",
    "solution2_first": true
   },
   "source": [
    "**Ejercicio**: Encuentra las 5 IATAs con mayor número de pasajeros internacionales."
   ]
  },
  {
   "cell_type": "code",
   "execution_count": null,
   "metadata": {
    "ExecuteTime": {
     "end_time": "2018-03-14T00:01:55.185783Z",
     "start_time": "2018-03-14T00:01:55.124945Z"
    },
    "collapsed": true,
    "solution2": "shown"
   },
   "outputs": [],
   "source": [
    "(\n",
    "     pas.\n",
    "     groupby('Codigo IATA')['Pasajeros internacionales'].\n",
    "     sum().\n",
    "     reset_index().\n",
    "     sort_values(by = 'Pasajeros internacionales',\n",
    "                ascending = False).\n",
    "     head(5)\n",
    ")"
   ]
  },
  {
   "cell_type": "code",
   "execution_count": null,
   "metadata": {
    "ExecuteTime": {
     "end_time": "2018-03-14T00:01:55.269563Z",
     "start_time": "2018-03-14T00:01:55.187229Z"
    },
    "collapsed": true
   },
   "outputs": [],
   "source": [
    "(pas.\n",
    " groupby('Codigo IATA')['Pasajeros internacionales'].\n",
    " sum().\n",
    " sort_values(ascending=False).\n",
    " head(5)\n",
    ")"
   ]
  },
  {
   "cell_type": "code",
   "execution_count": null,
   "metadata": {
    "ExecuteTime": {
     "end_time": "2018-03-14T02:34:57.213594Z",
     "start_time": "2018-03-14T02:34:57.198072Z"
    },
    "collapsed": true
   },
   "outputs": [],
   "source": [
    "(\n",
    "    pas\n",
    "    .groupby('Codigo IATA')['Pasajeros internacionales']\n",
    "    .sum()\n",
    "    .sort_values(ascending = False)\n",
    "    .head(5)\n",
    ")"
   ]
  },
  {
   "cell_type": "code",
   "execution_count": null,
   "metadata": {
    "ExecuteTime": {
     "end_time": "2018-03-14T03:09:09.990000Z",
     "start_time": "2018-03-14T03:09:09.948102Z"
    },
    "collapsed": true
   },
   "outputs": [],
   "source": [
    "(\n",
    "    pas\n",
    "    .groupby(['anio', 'Codigo IATA'])['Pasajeros nacionales']\n",
    "    .sum()\n",
    "    .sort_values(ascending = False)\n",
    "    .reset_index()\n",
    "    .groupby('anio')\n",
    "    .head(3)\n",
    "    .sort_values(by = ['anio', 'Pasajeros nacionales'], ascending = [True, False])\n",
    ")"
   ]
  },
  {
   "cell_type": "markdown",
   "metadata": {},
   "source": [
    "### Merge"
   ]
  },
  {
   "cell_type": "markdown",
   "metadata": {},
   "source": [
    "Usando el método `merge` podemos juntar dos dataframes."
   ]
  },
  {
   "cell_type": "code",
   "execution_count": 4,
   "metadata": {
    "ExecuteTime": {
     "end_time": "2018-03-16T01:06:59.584883Z",
     "start_time": "2018-03-16T01:06:59.571939Z"
    }
   },
   "outputs": [
    {
     "data": {
      "text/html": [
       "<div>\n",
       "<style scoped>\n",
       "    .dataframe tbody tr th:only-of-type {\n",
       "        vertical-align: middle;\n",
       "    }\n",
       "\n",
       "    .dataframe tbody tr th {\n",
       "        vertical-align: top;\n",
       "    }\n",
       "\n",
       "    .dataframe thead th {\n",
       "        text-align: right;\n",
       "    }\n",
       "</style>\n",
       "<table border=\"1\" class=\"dataframe\">\n",
       "  <thead>\n",
       "    <tr style=\"text-align: right;\">\n",
       "      <th></th>\n",
       "      <th>Anio mes</th>\n",
       "      <th>Codigo IATA</th>\n",
       "      <th>Descripcion</th>\n",
       "      <th>Estado</th>\n",
       "      <th>Pasajeros nacionales</th>\n",
       "      <th>Pasajeros internacionales</th>\n",
       "    </tr>\n",
       "  </thead>\n",
       "  <tbody>\n",
       "    <tr>\n",
       "      <th>0</th>\n",
       "      <td>201501</td>\n",
       "      <td>CEN</td>\n",
       "      <td>Ciudad Obregon</td>\n",
       "      <td>Sonora</td>\n",
       "      <td>17149</td>\n",
       "      <td>721</td>\n",
       "    </tr>\n",
       "    <tr>\n",
       "      <th>1</th>\n",
       "      <td>201501</td>\n",
       "      <td>CLQ</td>\n",
       "      <td>Colima</td>\n",
       "      <td>Colima</td>\n",
       "      <td>8486</td>\n",
       "      <td>124</td>\n",
       "    </tr>\n",
       "    <tr>\n",
       "      <th>2</th>\n",
       "      <td>201501</td>\n",
       "      <td>CME</td>\n",
       "      <td>Ciudad del Carmen</td>\n",
       "      <td>Campeche</td>\n",
       "      <td>56079</td>\n",
       "      <td>3126</td>\n",
       "    </tr>\n",
       "  </tbody>\n",
       "</table>\n",
       "</div>"
      ],
      "text/plain": [
       "   Anio mes Codigo IATA        Descripcion    Estado  Pasajeros nacionales  \\\n",
       "0    201501         CEN     Ciudad Obregon    Sonora                 17149   \n",
       "1    201501         CLQ             Colima    Colima                  8486   \n",
       "2    201501         CME  Ciudad del Carmen  Campeche                 56079   \n",
       "\n",
       "   Pasajeros internacionales  \n",
       "0                        721  \n",
       "1                        124  \n",
       "2                       3126  "
      ]
     },
     "execution_count": 4,
     "metadata": {},
     "output_type": "execute_result"
    }
   ],
   "source": [
    "pas.head(3)"
   ]
  },
  {
   "cell_type": "code",
   "execution_count": 5,
   "metadata": {
    "ExecuteTime": {
     "end_time": "2018-03-16T01:07:01.341131Z",
     "start_time": "2018-03-16T01:07:01.329993Z"
    }
   },
   "outputs": [
    {
     "data": {
      "text/html": [
       "<div>\n",
       "<style scoped>\n",
       "    .dataframe tbody tr th:only-of-type {\n",
       "        vertical-align: middle;\n",
       "    }\n",
       "\n",
       "    .dataframe tbody tr th {\n",
       "        vertical-align: top;\n",
       "    }\n",
       "\n",
       "    .dataframe thead th {\n",
       "        text-align: right;\n",
       "    }\n",
       "</style>\n",
       "<table border=\"1\" class=\"dataframe\">\n",
       "  <thead>\n",
       "    <tr style=\"text-align: right;\">\n",
       "      <th></th>\n",
       "      <th>Anio mes</th>\n",
       "      <th>Codigo IATA</th>\n",
       "      <th>Descripcion</th>\n",
       "      <th>Estado</th>\n",
       "      <th>Operaciones nacionales</th>\n",
       "      <th>Operaciones internacionales</th>\n",
       "    </tr>\n",
       "  </thead>\n",
       "  <tbody>\n",
       "    <tr>\n",
       "      <th>0</th>\n",
       "      <td>201501</td>\n",
       "      <td>CEN</td>\n",
       "      <td>Ciudad Obregon</td>\n",
       "      <td>Sonora</td>\n",
       "      <td>730</td>\n",
       "      <td>137</td>\n",
       "    </tr>\n",
       "    <tr>\n",
       "      <th>1</th>\n",
       "      <td>201501</td>\n",
       "      <td>CLQ</td>\n",
       "      <td>Colima</td>\n",
       "      <td>Colima</td>\n",
       "      <td>468</td>\n",
       "      <td>0</td>\n",
       "    </tr>\n",
       "    <tr>\n",
       "      <th>2</th>\n",
       "      <td>201501</td>\n",
       "      <td>CME</td>\n",
       "      <td>Ciudad del Carmen</td>\n",
       "      <td>Campeche</td>\n",
       "      <td>4750</td>\n",
       "      <td>83</td>\n",
       "    </tr>\n",
       "  </tbody>\n",
       "</table>\n",
       "</div>"
      ],
      "text/plain": [
       "   Anio mes Codigo IATA        Descripcion    Estado  Operaciones nacionales  \\\n",
       "0    201501         CEN     Ciudad Obregon    Sonora                     730   \n",
       "1    201501         CLQ             Colima    Colima                     468   \n",
       "2    201501         CME  Ciudad del Carmen  Campeche                    4750   \n",
       "\n",
       "   Operaciones internacionales  \n",
       "0                          137  \n",
       "1                            0  \n",
       "2                           83  "
      ]
     },
     "execution_count": 5,
     "metadata": {},
     "output_type": "execute_result"
    }
   ],
   "source": [
    "ops.head(3)"
   ]
  },
  {
   "cell_type": "code",
   "execution_count": 6,
   "metadata": {
    "ExecuteTime": {
     "end_time": "2018-03-16T01:07:41.334794Z",
     "start_time": "2018-03-16T01:07:41.210840Z"
    }
   },
   "outputs": [
    {
     "data": {
      "text/html": [
       "<div>\n",
       "<style scoped>\n",
       "    .dataframe tbody tr th:only-of-type {\n",
       "        vertical-align: middle;\n",
       "    }\n",
       "\n",
       "    .dataframe tbody tr th {\n",
       "        vertical-align: top;\n",
       "    }\n",
       "\n",
       "    .dataframe thead th {\n",
       "        text-align: right;\n",
       "    }\n",
       "</style>\n",
       "<table border=\"1\" class=\"dataframe\">\n",
       "  <thead>\n",
       "    <tr style=\"text-align: right;\">\n",
       "      <th></th>\n",
       "      <th>Anio mes</th>\n",
       "      <th>Codigo IATA</th>\n",
       "      <th>Descripcion</th>\n",
       "      <th>Estado</th>\n",
       "      <th>Pasajeros nacionales</th>\n",
       "      <th>Pasajeros internacionales</th>\n",
       "      <th>Operaciones nacionales</th>\n",
       "      <th>Operaciones internacionales</th>\n",
       "    </tr>\n",
       "  </thead>\n",
       "  <tbody>\n",
       "    <tr>\n",
       "      <th>0</th>\n",
       "      <td>201501</td>\n",
       "      <td>CEN</td>\n",
       "      <td>Ciudad Obregon</td>\n",
       "      <td>Sonora</td>\n",
       "      <td>17149</td>\n",
       "      <td>721</td>\n",
       "      <td>730</td>\n",
       "      <td>137</td>\n",
       "    </tr>\n",
       "    <tr>\n",
       "      <th>1</th>\n",
       "      <td>201501</td>\n",
       "      <td>CLQ</td>\n",
       "      <td>Colima</td>\n",
       "      <td>Colima</td>\n",
       "      <td>8486</td>\n",
       "      <td>124</td>\n",
       "      <td>468</td>\n",
       "      <td>0</td>\n",
       "    </tr>\n",
       "    <tr>\n",
       "      <th>2</th>\n",
       "      <td>201501</td>\n",
       "      <td>CME</td>\n",
       "      <td>Ciudad del Carmen</td>\n",
       "      <td>Campeche</td>\n",
       "      <td>56079</td>\n",
       "      <td>3126</td>\n",
       "      <td>4750</td>\n",
       "      <td>83</td>\n",
       "    </tr>\n",
       "    <tr>\n",
       "      <th>3</th>\n",
       "      <td>201501</td>\n",
       "      <td>CPE</td>\n",
       "      <td>Campeche</td>\n",
       "      <td>Campeche</td>\n",
       "      <td>13264</td>\n",
       "      <td>215</td>\n",
       "      <td>398</td>\n",
       "      <td>10</td>\n",
       "    </tr>\n",
       "    <tr>\n",
       "      <th>4</th>\n",
       "      <td>201501</td>\n",
       "      <td>CTM</td>\n",
       "      <td>Chetumal</td>\n",
       "      <td>Quintana Roo</td>\n",
       "      <td>13153</td>\n",
       "      <td>0</td>\n",
       "      <td>338</td>\n",
       "      <td>0</td>\n",
       "    </tr>\n",
       "  </tbody>\n",
       "</table>\n",
       "</div>"
      ],
      "text/plain": [
       "   Anio mes Codigo IATA        Descripcion        Estado  \\\n",
       "0    201501         CEN     Ciudad Obregon        Sonora   \n",
       "1    201501         CLQ             Colima        Colima   \n",
       "2    201501         CME  Ciudad del Carmen      Campeche   \n",
       "3    201501         CPE           Campeche      Campeche   \n",
       "4    201501         CTM           Chetumal  Quintana Roo   \n",
       "\n",
       "   Pasajeros nacionales  Pasajeros internacionales  Operaciones nacionales  \\\n",
       "0                 17149                        721                     730   \n",
       "1                  8486                        124                     468   \n",
       "2                 56079                       3126                    4750   \n",
       "3                 13264                        215                     398   \n",
       "4                 13153                          0                     338   \n",
       "\n",
       "   Operaciones internacionales  \n",
       "0                          137  \n",
       "1                            0  \n",
       "2                           83  \n",
       "3                           10  \n",
       "4                            0  "
      ]
     },
     "execution_count": 6,
     "metadata": {},
     "output_type": "execute_result"
    }
   ],
   "source": [
    "pas.merge(ops).head(5)"
   ]
  },
  {
   "cell_type": "markdown",
   "metadata": {},
   "source": [
    "Por default, se une por las columnas que tienen nombres comunes, pero podríamos especificar."
   ]
  },
  {
   "cell_type": "code",
   "execution_count": 7,
   "metadata": {
    "ExecuteTime": {
     "end_time": "2018-03-16T01:08:44.683340Z",
     "start_time": "2018-03-16T01:08:44.642448Z"
    }
   },
   "outputs": [
    {
     "data": {
      "text/html": [
       "<div>\n",
       "<style scoped>\n",
       "    .dataframe tbody tr th:only-of-type {\n",
       "        vertical-align: middle;\n",
       "    }\n",
       "\n",
       "    .dataframe tbody tr th {\n",
       "        vertical-align: top;\n",
       "    }\n",
       "\n",
       "    .dataframe thead th {\n",
       "        text-align: right;\n",
       "    }\n",
       "</style>\n",
       "<table border=\"1\" class=\"dataframe\">\n",
       "  <thead>\n",
       "    <tr style=\"text-align: right;\">\n",
       "      <th></th>\n",
       "      <th>Anio mes</th>\n",
       "      <th>Codigo IATA_x</th>\n",
       "      <th>Descripcion_x</th>\n",
       "      <th>Estado_x</th>\n",
       "      <th>Pasajeros nacionales</th>\n",
       "      <th>Pasajeros internacionales</th>\n",
       "      <th>Codigo IATA_y</th>\n",
       "      <th>Descripcion_y</th>\n",
       "      <th>Estado_y</th>\n",
       "      <th>Operaciones nacionales</th>\n",
       "      <th>Operaciones internacionales</th>\n",
       "    </tr>\n",
       "  </thead>\n",
       "  <tbody>\n",
       "    <tr>\n",
       "      <th>0</th>\n",
       "      <td>201501</td>\n",
       "      <td>CEN</td>\n",
       "      <td>Ciudad Obregon</td>\n",
       "      <td>Sonora</td>\n",
       "      <td>17149</td>\n",
       "      <td>721</td>\n",
       "      <td>CEN</td>\n",
       "      <td>Ciudad Obregon</td>\n",
       "      <td>Sonora</td>\n",
       "      <td>730</td>\n",
       "      <td>137</td>\n",
       "    </tr>\n",
       "    <tr>\n",
       "      <th>1</th>\n",
       "      <td>201501</td>\n",
       "      <td>CEN</td>\n",
       "      <td>Ciudad Obregon</td>\n",
       "      <td>Sonora</td>\n",
       "      <td>17149</td>\n",
       "      <td>721</td>\n",
       "      <td>CLQ</td>\n",
       "      <td>Colima</td>\n",
       "      <td>Colima</td>\n",
       "      <td>468</td>\n",
       "      <td>0</td>\n",
       "    </tr>\n",
       "    <tr>\n",
       "      <th>2</th>\n",
       "      <td>201501</td>\n",
       "      <td>CEN</td>\n",
       "      <td>Ciudad Obregon</td>\n",
       "      <td>Sonora</td>\n",
       "      <td>17149</td>\n",
       "      <td>721</td>\n",
       "      <td>CME</td>\n",
       "      <td>Ciudad del Carmen</td>\n",
       "      <td>Campeche</td>\n",
       "      <td>4750</td>\n",
       "      <td>83</td>\n",
       "    </tr>\n",
       "    <tr>\n",
       "      <th>3</th>\n",
       "      <td>201501</td>\n",
       "      <td>CEN</td>\n",
       "      <td>Ciudad Obregon</td>\n",
       "      <td>Sonora</td>\n",
       "      <td>17149</td>\n",
       "      <td>721</td>\n",
       "      <td>CPE</td>\n",
       "      <td>Campeche</td>\n",
       "      <td>Campeche</td>\n",
       "      <td>398</td>\n",
       "      <td>10</td>\n",
       "    </tr>\n",
       "    <tr>\n",
       "      <th>4</th>\n",
       "      <td>201501</td>\n",
       "      <td>CEN</td>\n",
       "      <td>Ciudad Obregon</td>\n",
       "      <td>Sonora</td>\n",
       "      <td>17149</td>\n",
       "      <td>721</td>\n",
       "      <td>CTM</td>\n",
       "      <td>Chetumal</td>\n",
       "      <td>Quintana Roo</td>\n",
       "      <td>338</td>\n",
       "      <td>0</td>\n",
       "    </tr>\n",
       "  </tbody>\n",
       "</table>\n",
       "</div>"
      ],
      "text/plain": [
       "   Anio mes Codigo IATA_x   Descripcion_x Estado_x  Pasajeros nacionales  \\\n",
       "0    201501           CEN  Ciudad Obregon   Sonora                 17149   \n",
       "1    201501           CEN  Ciudad Obregon   Sonora                 17149   \n",
       "2    201501           CEN  Ciudad Obregon   Sonora                 17149   \n",
       "3    201501           CEN  Ciudad Obregon   Sonora                 17149   \n",
       "4    201501           CEN  Ciudad Obregon   Sonora                 17149   \n",
       "\n",
       "   Pasajeros internacionales Codigo IATA_y      Descripcion_y      Estado_y  \\\n",
       "0                        721           CEN     Ciudad Obregon        Sonora   \n",
       "1                        721           CLQ             Colima        Colima   \n",
       "2                        721           CME  Ciudad del Carmen      Campeche   \n",
       "3                        721           CPE           Campeche      Campeche   \n",
       "4                        721           CTM           Chetumal  Quintana Roo   \n",
       "\n",
       "   Operaciones nacionales  Operaciones internacionales  \n",
       "0                     730                          137  \n",
       "1                     468                            0  \n",
       "2                    4750                           83  \n",
       "3                     398                           10  \n",
       "4                     338                            0  "
      ]
     },
     "execution_count": 7,
     "metadata": {},
     "output_type": "execute_result"
    }
   ],
   "source": [
    "pas.merge(ops, on='Anio mes').head(5)"
   ]
  },
  {
   "cell_type": "markdown",
   "metadata": {},
   "source": [
    "#### Tablas relacionales\n",
    "Se juntan por una o más llaves\n",
    "Tipos de join:\n",
    "* left\n",
    "* right\n",
    "* outer\n",
    "* inner\n",
    "\n",
    "Por default, pandas usa inner"
   ]
  },
  {
   "cell_type": "code",
   "execution_count": 26,
   "metadata": {
    "ExecuteTime": {
     "end_time": "2018-03-16T01:27:34.411299Z",
     "start_time": "2018-03-16T01:27:34.398244Z"
    }
   },
   "outputs": [
    {
     "data": {
      "text/html": [
       "<div>\n",
       "<style scoped>\n",
       "    .dataframe tbody tr th:only-of-type {\n",
       "        vertical-align: middle;\n",
       "    }\n",
       "\n",
       "    .dataframe tbody tr th {\n",
       "        vertical-align: top;\n",
       "    }\n",
       "\n",
       "    .dataframe thead th {\n",
       "        text-align: right;\n",
       "    }\n",
       "</style>\n",
       "<table border=\"1\" class=\"dataframe\">\n",
       "  <thead>\n",
       "    <tr style=\"text-align: right;\">\n",
       "      <th></th>\n",
       "      <th>llave1</th>\n",
       "      <th>var_a</th>\n",
       "    </tr>\n",
       "  </thead>\n",
       "  <tbody>\n",
       "    <tr>\n",
       "      <th>0</th>\n",
       "      <td>1</td>\n",
       "      <td>uno</td>\n",
       "    </tr>\n",
       "    <tr>\n",
       "      <th>1</th>\n",
       "      <td>2</td>\n",
       "      <td>dos</td>\n",
       "    </tr>\n",
       "    <tr>\n",
       "      <th>2</th>\n",
       "      <td>3</td>\n",
       "      <td>tres</td>\n",
       "    </tr>\n",
       "    <tr>\n",
       "      <th>3</th>\n",
       "      <td>2</td>\n",
       "      <td>dos</td>\n",
       "    </tr>\n",
       "    <tr>\n",
       "      <th>4</th>\n",
       "      <td>7</td>\n",
       "      <td>siete</td>\n",
       "    </tr>\n",
       "  </tbody>\n",
       "</table>\n",
       "</div>"
      ],
      "text/plain": [
       "   llave1  var_a\n",
       "0       1    uno\n",
       "1       2    dos\n",
       "2       3   tres\n",
       "3       2    dos\n",
       "4       7  siete"
      ]
     },
     "execution_count": 26,
     "metadata": {},
     "output_type": "execute_result"
    }
   ],
   "source": [
    "A = pd.DataFrame({'llave1': [1, 2, 3, 2, 7],\n",
    "                  'var_a': ['uno', 'dos', 'tres', 'dos', 'siete']})\n",
    "B = pd.DataFrame({'llave1': [1, 4, 10, 2, 3],\n",
    "                  'var_b': ['uno', 'cuatro', 'diez', 'dos', 'tres']})\n",
    "A"
   ]
  },
  {
   "cell_type": "code",
   "execution_count": 28,
   "metadata": {
    "ExecuteTime": {
     "end_time": "2018-03-16T01:27:36.106467Z",
     "start_time": "2018-03-16T01:27:36.100264Z"
    }
   },
   "outputs": [
    {
     "data": {
      "text/html": [
       "<div>\n",
       "<style scoped>\n",
       "    .dataframe tbody tr th:only-of-type {\n",
       "        vertical-align: middle;\n",
       "    }\n",
       "\n",
       "    .dataframe tbody tr th {\n",
       "        vertical-align: top;\n",
       "    }\n",
       "\n",
       "    .dataframe thead th {\n",
       "        text-align: right;\n",
       "    }\n",
       "</style>\n",
       "<table border=\"1\" class=\"dataframe\">\n",
       "  <thead>\n",
       "    <tr style=\"text-align: right;\">\n",
       "      <th></th>\n",
       "      <th>llave1</th>\n",
       "      <th>var_b</th>\n",
       "    </tr>\n",
       "  </thead>\n",
       "  <tbody>\n",
       "    <tr>\n",
       "      <th>0</th>\n",
       "      <td>1</td>\n",
       "      <td>uno</td>\n",
       "    </tr>\n",
       "    <tr>\n",
       "      <th>1</th>\n",
       "      <td>4</td>\n",
       "      <td>cuatro</td>\n",
       "    </tr>\n",
       "    <tr>\n",
       "      <th>2</th>\n",
       "      <td>10</td>\n",
       "      <td>diez</td>\n",
       "    </tr>\n",
       "    <tr>\n",
       "      <th>3</th>\n",
       "      <td>2</td>\n",
       "      <td>dos</td>\n",
       "    </tr>\n",
       "    <tr>\n",
       "      <th>4</th>\n",
       "      <td>3</td>\n",
       "      <td>tres</td>\n",
       "    </tr>\n",
       "  </tbody>\n",
       "</table>\n",
       "</div>"
      ],
      "text/plain": [
       "   llave1   var_b\n",
       "0       1     uno\n",
       "1       4  cuatro\n",
       "2      10    diez\n",
       "3       2     dos\n",
       "4       3    tres"
      ]
     },
     "execution_count": 28,
     "metadata": {},
     "output_type": "execute_result"
    }
   ],
   "source": [
    "B"
   ]
  },
  {
   "cell_type": "code",
   "execution_count": 29,
   "metadata": {
    "ExecuteTime": {
     "end_time": "2018-03-16T01:27:38.398490Z",
     "start_time": "2018-03-16T01:27:38.386548Z"
    }
   },
   "outputs": [
    {
     "data": {
      "text/html": [
       "<div>\n",
       "<style scoped>\n",
       "    .dataframe tbody tr th:only-of-type {\n",
       "        vertical-align: middle;\n",
       "    }\n",
       "\n",
       "    .dataframe tbody tr th {\n",
       "        vertical-align: top;\n",
       "    }\n",
       "\n",
       "    .dataframe thead th {\n",
       "        text-align: right;\n",
       "    }\n",
       "</style>\n",
       "<table border=\"1\" class=\"dataframe\">\n",
       "  <thead>\n",
       "    <tr style=\"text-align: right;\">\n",
       "      <th></th>\n",
       "      <th>llave1</th>\n",
       "      <th>var_a</th>\n",
       "      <th>var_b</th>\n",
       "    </tr>\n",
       "  </thead>\n",
       "  <tbody>\n",
       "    <tr>\n",
       "      <th>0</th>\n",
       "      <td>1</td>\n",
       "      <td>uno</td>\n",
       "      <td>uno</td>\n",
       "    </tr>\n",
       "    <tr>\n",
       "      <th>1</th>\n",
       "      <td>2</td>\n",
       "      <td>dos</td>\n",
       "      <td>dos</td>\n",
       "    </tr>\n",
       "    <tr>\n",
       "      <th>2</th>\n",
       "      <td>2</td>\n",
       "      <td>dos</td>\n",
       "      <td>dos</td>\n",
       "    </tr>\n",
       "    <tr>\n",
       "      <th>3</th>\n",
       "      <td>3</td>\n",
       "      <td>tres</td>\n",
       "      <td>tres</td>\n",
       "    </tr>\n",
       "  </tbody>\n",
       "</table>\n",
       "</div>"
      ],
      "text/plain": [
       "   llave1 var_a var_b\n",
       "0       1   uno   uno\n",
       "1       2   dos   dos\n",
       "2       2   dos   dos\n",
       "3       3  tres  tres"
      ]
     },
     "execution_count": 29,
     "metadata": {},
     "output_type": "execute_result"
    }
   ],
   "source": [
    "A.merge(B, how='inner')"
   ]
  },
  {
   "cell_type": "code",
   "execution_count": 30,
   "metadata": {
    "ExecuteTime": {
     "end_time": "2018-03-16T01:27:40.649904Z",
     "start_time": "2018-03-16T01:27:40.630765Z"
    }
   },
   "outputs": [
    {
     "data": {
      "text/html": [
       "<div>\n",
       "<style scoped>\n",
       "    .dataframe tbody tr th:only-of-type {\n",
       "        vertical-align: middle;\n",
       "    }\n",
       "\n",
       "    .dataframe tbody tr th {\n",
       "        vertical-align: top;\n",
       "    }\n",
       "\n",
       "    .dataframe thead th {\n",
       "        text-align: right;\n",
       "    }\n",
       "</style>\n",
       "<table border=\"1\" class=\"dataframe\">\n",
       "  <thead>\n",
       "    <tr style=\"text-align: right;\">\n",
       "      <th></th>\n",
       "      <th>llave1</th>\n",
       "      <th>var_a</th>\n",
       "      <th>var_b</th>\n",
       "    </tr>\n",
       "  </thead>\n",
       "  <tbody>\n",
       "    <tr>\n",
       "      <th>0</th>\n",
       "      <td>1</td>\n",
       "      <td>uno</td>\n",
       "      <td>uno</td>\n",
       "    </tr>\n",
       "    <tr>\n",
       "      <th>1</th>\n",
       "      <td>2</td>\n",
       "      <td>dos</td>\n",
       "      <td>dos</td>\n",
       "    </tr>\n",
       "    <tr>\n",
       "      <th>2</th>\n",
       "      <td>3</td>\n",
       "      <td>tres</td>\n",
       "      <td>tres</td>\n",
       "    </tr>\n",
       "    <tr>\n",
       "      <th>3</th>\n",
       "      <td>2</td>\n",
       "      <td>dos</td>\n",
       "      <td>dos</td>\n",
       "    </tr>\n",
       "    <tr>\n",
       "      <th>4</th>\n",
       "      <td>7</td>\n",
       "      <td>siete</td>\n",
       "      <td>NaN</td>\n",
       "    </tr>\n",
       "  </tbody>\n",
       "</table>\n",
       "</div>"
      ],
      "text/plain": [
       "   llave1  var_a var_b\n",
       "0       1    uno   uno\n",
       "1       2    dos   dos\n",
       "2       3   tres  tres\n",
       "3       2    dos   dos\n",
       "4       7  siete   NaN"
      ]
     },
     "execution_count": 30,
     "metadata": {},
     "output_type": "execute_result"
    }
   ],
   "source": [
    "A.merge(B, how='left')"
   ]
  },
  {
   "cell_type": "code",
   "execution_count": 31,
   "metadata": {
    "ExecuteTime": {
     "end_time": "2018-03-16T01:27:49.810267Z",
     "start_time": "2018-03-16T01:27:49.782181Z"
    }
   },
   "outputs": [
    {
     "data": {
      "text/html": [
       "<div>\n",
       "<style scoped>\n",
       "    .dataframe tbody tr th:only-of-type {\n",
       "        vertical-align: middle;\n",
       "    }\n",
       "\n",
       "    .dataframe tbody tr th {\n",
       "        vertical-align: top;\n",
       "    }\n",
       "\n",
       "    .dataframe thead th {\n",
       "        text-align: right;\n",
       "    }\n",
       "</style>\n",
       "<table border=\"1\" class=\"dataframe\">\n",
       "  <thead>\n",
       "    <tr style=\"text-align: right;\">\n",
       "      <th></th>\n",
       "      <th>llave1</th>\n",
       "      <th>var_a</th>\n",
       "      <th>var_b</th>\n",
       "    </tr>\n",
       "  </thead>\n",
       "  <tbody>\n",
       "    <tr>\n",
       "      <th>0</th>\n",
       "      <td>1</td>\n",
       "      <td>uno</td>\n",
       "      <td>uno</td>\n",
       "    </tr>\n",
       "    <tr>\n",
       "      <th>1</th>\n",
       "      <td>2</td>\n",
       "      <td>dos</td>\n",
       "      <td>dos</td>\n",
       "    </tr>\n",
       "    <tr>\n",
       "      <th>2</th>\n",
       "      <td>2</td>\n",
       "      <td>dos</td>\n",
       "      <td>dos</td>\n",
       "    </tr>\n",
       "    <tr>\n",
       "      <th>3</th>\n",
       "      <td>3</td>\n",
       "      <td>tres</td>\n",
       "      <td>tres</td>\n",
       "    </tr>\n",
       "    <tr>\n",
       "      <th>4</th>\n",
       "      <td>4</td>\n",
       "      <td>NaN</td>\n",
       "      <td>cuatro</td>\n",
       "    </tr>\n",
       "    <tr>\n",
       "      <th>5</th>\n",
       "      <td>10</td>\n",
       "      <td>NaN</td>\n",
       "      <td>diez</td>\n",
       "    </tr>\n",
       "  </tbody>\n",
       "</table>\n",
       "</div>"
      ],
      "text/plain": [
       "   llave1 var_a   var_b\n",
       "0       1   uno     uno\n",
       "1       2   dos     dos\n",
       "2       2   dos     dos\n",
       "3       3  tres    tres\n",
       "4       4   NaN  cuatro\n",
       "5      10   NaN    diez"
      ]
     },
     "execution_count": 31,
     "metadata": {},
     "output_type": "execute_result"
    }
   ],
   "source": [
    "A.merge(B, how='right')"
   ]
  },
  {
   "cell_type": "code",
   "execution_count": 32,
   "metadata": {
    "ExecuteTime": {
     "end_time": "2018-03-16T01:27:51.953583Z",
     "start_time": "2018-03-16T01:27:51.925265Z"
    }
   },
   "outputs": [
    {
     "data": {
      "text/html": [
       "<div>\n",
       "<style scoped>\n",
       "    .dataframe tbody tr th:only-of-type {\n",
       "        vertical-align: middle;\n",
       "    }\n",
       "\n",
       "    .dataframe tbody tr th {\n",
       "        vertical-align: top;\n",
       "    }\n",
       "\n",
       "    .dataframe thead th {\n",
       "        text-align: right;\n",
       "    }\n",
       "</style>\n",
       "<table border=\"1\" class=\"dataframe\">\n",
       "  <thead>\n",
       "    <tr style=\"text-align: right;\">\n",
       "      <th></th>\n",
       "      <th>llave1</th>\n",
       "      <th>var_a</th>\n",
       "      <th>var_b</th>\n",
       "    </tr>\n",
       "  </thead>\n",
       "  <tbody>\n",
       "    <tr>\n",
       "      <th>0</th>\n",
       "      <td>1</td>\n",
       "      <td>uno</td>\n",
       "      <td>uno</td>\n",
       "    </tr>\n",
       "    <tr>\n",
       "      <th>1</th>\n",
       "      <td>2</td>\n",
       "      <td>dos</td>\n",
       "      <td>dos</td>\n",
       "    </tr>\n",
       "    <tr>\n",
       "      <th>2</th>\n",
       "      <td>2</td>\n",
       "      <td>dos</td>\n",
       "      <td>dos</td>\n",
       "    </tr>\n",
       "    <tr>\n",
       "      <th>3</th>\n",
       "      <td>3</td>\n",
       "      <td>tres</td>\n",
       "      <td>tres</td>\n",
       "    </tr>\n",
       "    <tr>\n",
       "      <th>4</th>\n",
       "      <td>7</td>\n",
       "      <td>siete</td>\n",
       "      <td>NaN</td>\n",
       "    </tr>\n",
       "    <tr>\n",
       "      <th>5</th>\n",
       "      <td>4</td>\n",
       "      <td>NaN</td>\n",
       "      <td>cuatro</td>\n",
       "    </tr>\n",
       "    <tr>\n",
       "      <th>6</th>\n",
       "      <td>10</td>\n",
       "      <td>NaN</td>\n",
       "      <td>diez</td>\n",
       "    </tr>\n",
       "  </tbody>\n",
       "</table>\n",
       "</div>"
      ],
      "text/plain": [
       "   llave1  var_a   var_b\n",
       "0       1    uno     uno\n",
       "1       2    dos     dos\n",
       "2       2    dos     dos\n",
       "3       3   tres    tres\n",
       "4       7  siete     NaN\n",
       "5       4    NaN  cuatro\n",
       "6      10    NaN    diez"
      ]
     },
     "execution_count": 32,
     "metadata": {},
     "output_type": "execute_result"
    }
   ],
   "source": [
    "A.merge(B, how='outer')"
   ]
  },
  {
   "cell_type": "markdown",
   "metadata": {},
   "source": [
    "### Split-apply-combine"
   ]
  },
  {
   "cell_type": "markdown",
   "metadata": {},
   "source": [
    "**Ejercicio**: Encuentra las operaciones nacionales por mes de los 3 códigos IATA con mayor número de pasajeros internacionales."
   ]
  },
  {
   "cell_type": "code",
   "execution_count": 44,
   "metadata": {
    "ExecuteTime": {
     "end_time": "2018-03-16T01:34:28.089897Z",
     "start_time": "2018-03-16T01:34:28.064246Z"
    },
    "run_control": {
     "marked": false
    }
   },
   "outputs": [
    {
     "data": {
      "text/html": [
       "<div>\n",
       "<style scoped>\n",
       "    .dataframe tbody tr th:only-of-type {\n",
       "        vertical-align: middle;\n",
       "    }\n",
       "\n",
       "    .dataframe tbody tr th {\n",
       "        vertical-align: top;\n",
       "    }\n",
       "\n",
       "    .dataframe thead th {\n",
       "        text-align: right;\n",
       "    }\n",
       "</style>\n",
       "<table border=\"1\" class=\"dataframe\">\n",
       "  <thead>\n",
       "    <tr style=\"text-align: right;\">\n",
       "      <th></th>\n",
       "      <th>Anio mes</th>\n",
       "      <th>Codigo IATA</th>\n",
       "      <th>Operaciones nacionales</th>\n",
       "    </tr>\n",
       "  </thead>\n",
       "  <tbody>\n",
       "    <tr>\n",
       "      <th>0</th>\n",
       "      <td>201501</td>\n",
       "      <td>PBC</td>\n",
       "      <td>1577</td>\n",
       "    </tr>\n",
       "    <tr>\n",
       "      <th>1</th>\n",
       "      <td>201502</td>\n",
       "      <td>PBC</td>\n",
       "      <td>1445</td>\n",
       "    </tr>\n",
       "    <tr>\n",
       "      <th>2</th>\n",
       "      <td>201503</td>\n",
       "      <td>PBC</td>\n",
       "      <td>1654</td>\n",
       "    </tr>\n",
       "    <tr>\n",
       "      <th>3</th>\n",
       "      <td>201504</td>\n",
       "      <td>PBC</td>\n",
       "      <td>1178</td>\n",
       "    </tr>\n",
       "    <tr>\n",
       "      <th>4</th>\n",
       "      <td>201505</td>\n",
       "      <td>PBC</td>\n",
       "      <td>1320</td>\n",
       "    </tr>\n",
       "  </tbody>\n",
       "</table>\n",
       "</div>"
      ],
      "text/plain": [
       "   Anio mes Codigo IATA  Operaciones nacionales\n",
       "0    201501         PBC                    1577\n",
       "1    201502         PBC                    1445\n",
       "2    201503         PBC                    1654\n",
       "3    201504         PBC                    1178\n",
       "4    201505         PBC                    1320"
      ]
     },
     "execution_count": 44,
     "metadata": {},
     "output_type": "execute_result"
    }
   ],
   "source": [
    "(\n",
    "    pas\n",
    "    .groupby('Codigo IATA')['Pasajeros internacionales']\n",
    "    .sum()\n",
    "    .sort_values(ascending=False)\n",
    "    .head(3)\n",
    "    .reset_index()\n",
    "    .merge(ops)[['Anio mes', 'Codigo IATA', 'Operaciones nacionales']]\n",
    ").head(5)"
   ]
  },
  {
   "cell_type": "code",
   "execution_count": 45,
   "metadata": {
    "ExecuteTime": {
     "end_time": "2018-03-16T01:40:21.327838Z",
     "start_time": "2018-03-16T01:40:21.285346Z"
    },
    "collapsed": true
   },
   "outputs": [],
   "source": [
    "pas['anio'] = (pas['Anio mes']/100).astype(int)\n",
    "ops['anio'] = (ops['Anio mes']/100).astype(int)"
   ]
  },
  {
   "cell_type": "markdown",
   "metadata": {},
   "source": [
    "**Ejercicio**: Número de pasajeros internacionales por Año de los 3 códigos IATA que tuvieron el número máximo de operaciones nacionales en ese año."
   ]
  },
  {
   "cell_type": "code",
   "execution_count": 78,
   "metadata": {
    "ExecuteTime": {
     "end_time": "2018-03-16T01:51:43.529208Z",
     "start_time": "2018-03-16T01:51:43.486052Z"
    }
   },
   "outputs": [
    {
     "data": {
      "text/html": [
       "<div>\n",
       "<style scoped>\n",
       "    .dataframe tbody tr th:only-of-type {\n",
       "        vertical-align: middle;\n",
       "    }\n",
       "\n",
       "    .dataframe tbody tr th {\n",
       "        vertical-align: top;\n",
       "    }\n",
       "\n",
       "    .dataframe thead th {\n",
       "        text-align: right;\n",
       "    }\n",
       "</style>\n",
       "<table border=\"1\" class=\"dataframe\">\n",
       "  <thead>\n",
       "    <tr style=\"text-align: right;\">\n",
       "      <th></th>\n",
       "      <th>anio</th>\n",
       "      <th>Codigo IATA</th>\n",
       "      <th>Pasajeros internacionales</th>\n",
       "    </tr>\n",
       "  </thead>\n",
       "  <tbody>\n",
       "    <tr>\n",
       "      <th>0</th>\n",
       "      <td>2015</td>\n",
       "      <td>CEN</td>\n",
       "      <td>7083</td>\n",
       "    </tr>\n",
       "    <tr>\n",
       "      <th>1</th>\n",
       "      <td>2015</td>\n",
       "      <td>CME</td>\n",
       "      <td>32000</td>\n",
       "    </tr>\n",
       "    <tr>\n",
       "      <th>2</th>\n",
       "      <td>2015</td>\n",
       "      <td>PBC</td>\n",
       "      <td>63056</td>\n",
       "    </tr>\n",
       "    <tr>\n",
       "      <th>3</th>\n",
       "      <td>2016</td>\n",
       "      <td>CME</td>\n",
       "      <td>18027</td>\n",
       "    </tr>\n",
       "    <tr>\n",
       "      <th>4</th>\n",
       "      <td>2016</td>\n",
       "      <td>PBC</td>\n",
       "      <td>57530</td>\n",
       "    </tr>\n",
       "    <tr>\n",
       "      <th>5</th>\n",
       "      <td>2016</td>\n",
       "      <td>TPQ</td>\n",
       "      <td>0</td>\n",
       "    </tr>\n",
       "    <tr>\n",
       "      <th>6</th>\n",
       "      <td>2017</td>\n",
       "      <td>CME</td>\n",
       "      <td>4780</td>\n",
       "    </tr>\n",
       "    <tr>\n",
       "      <th>7</th>\n",
       "      <td>2017</td>\n",
       "      <td>PBC</td>\n",
       "      <td>32107</td>\n",
       "    </tr>\n",
       "    <tr>\n",
       "      <th>8</th>\n",
       "      <td>2017</td>\n",
       "      <td>PXM</td>\n",
       "      <td>2301</td>\n",
       "    </tr>\n",
       "  </tbody>\n",
       "</table>\n",
       "</div>"
      ],
      "text/plain": [
       "   anio Codigo IATA  Pasajeros internacionales\n",
       "0  2015         CEN                       7083\n",
       "1  2015         CME                      32000\n",
       "2  2015         PBC                      63056\n",
       "3  2016         CME                      18027\n",
       "4  2016         PBC                      57530\n",
       "5  2016         TPQ                          0\n",
       "6  2017         CME                       4780\n",
       "7  2017         PBC                      32107\n",
       "8  2017         PXM                       2301"
      ]
     },
     "execution_count": 78,
     "metadata": {},
     "output_type": "execute_result"
    }
   ],
   "source": [
    "(\n",
    "    ops\n",
    "    .groupby(['anio', 'Codigo IATA'])['Operaciones nacionales']\n",
    "    .max()\n",
    "    .sort_values(ascending=False)\n",
    "    .groupby('anio')\n",
    "    .head(3)\n",
    "    .reset_index()[['anio', 'Codigo IATA']]\n",
    "    .merge(pas)\n",
    "    .groupby(['anio', 'Codigo IATA'])['Pasajeros internacionales']\n",
    "    .sum()\n",
    "    .reset_index()\n",
    ")"
   ]
  },
  {
   "cell_type": "code",
   "execution_count": null,
   "metadata": {
    "ExecuteTime": {
     "end_time": "2018-03-14T00:01:56.407999Z",
     "start_time": "2018-03-14T00:01:56.297348Z"
    },
    "collapsed": true,
    "solution2": "hidden"
   },
   "outputs": [],
   "source": [
    "(\n",
    "    pas.\n",
    "    groupby('Codigo IATA')['Pasajeros internacionales'].\n",
    "    sum().\n",
    "    sort_values(ascending = False).\n",
    "    head(3).\n",
    "    reset_index().\n",
    "    merge(ops)[['Anio mes', 'Operaciones nacionales', 'Codigo IATA']]\n",
    ")"
   ]
  },
  {
   "cell_type": "markdown",
   "metadata": {},
   "source": [
    "### Pivot"
   ]
  },
  {
   "cell_type": "code",
   "execution_count": 79,
   "metadata": {
    "ExecuteTime": {
     "end_time": "2018-03-16T01:56:00.762700Z",
     "start_time": "2018-03-16T01:56:00.729640Z"
    }
   },
   "outputs": [
    {
     "data": {
      "text/html": [
       "<div>\n",
       "<style scoped>\n",
       "    .dataframe tbody tr th:only-of-type {\n",
       "        vertical-align: middle;\n",
       "    }\n",
       "\n",
       "    .dataframe tbody tr th {\n",
       "        vertical-align: top;\n",
       "    }\n",
       "\n",
       "    .dataframe thead th {\n",
       "        text-align: right;\n",
       "    }\n",
       "</style>\n",
       "<table border=\"1\" class=\"dataframe\">\n",
       "  <thead>\n",
       "    <tr style=\"text-align: right;\">\n",
       "      <th></th>\n",
       "      <th>Estado</th>\n",
       "      <th>Anio mes</th>\n",
       "      <th>Pasajeros nacionales</th>\n",
       "    </tr>\n",
       "  </thead>\n",
       "  <tbody>\n",
       "    <tr>\n",
       "      <th>0</th>\n",
       "      <td>Baja California  Sur</td>\n",
       "      <td>201501</td>\n",
       "      <td>1050</td>\n",
       "    </tr>\n",
       "    <tr>\n",
       "      <th>1</th>\n",
       "      <td>Baja California  Sur</td>\n",
       "      <td>201502</td>\n",
       "      <td>651</td>\n",
       "    </tr>\n",
       "    <tr>\n",
       "      <th>2</th>\n",
       "      <td>Baja California  Sur</td>\n",
       "      <td>201503</td>\n",
       "      <td>793</td>\n",
       "    </tr>\n",
       "    <tr>\n",
       "      <th>3</th>\n",
       "      <td>Baja California  Sur</td>\n",
       "      <td>201504</td>\n",
       "      <td>1708</td>\n",
       "    </tr>\n",
       "    <tr>\n",
       "      <th>4</th>\n",
       "      <td>Baja California  Sur</td>\n",
       "      <td>201505</td>\n",
       "      <td>884</td>\n",
       "    </tr>\n",
       "  </tbody>\n",
       "</table>\n",
       "</div>"
      ],
      "text/plain": [
       "                 Estado  Anio mes  Pasajeros nacionales\n",
       "0  Baja California  Sur    201501                  1050\n",
       "1  Baja California  Sur    201502                   651\n",
       "2  Baja California  Sur    201503                   793\n",
       "3  Baja California  Sur    201504                  1708\n",
       "4  Baja California  Sur    201505                   884"
      ]
     },
     "execution_count": 79,
     "metadata": {},
     "output_type": "execute_result"
    }
   ],
   "source": [
    "nac_estado = (\n",
    "    pas.\n",
    "    groupby(['Estado','Anio mes'])['Pasajeros nacionales'].\n",
    "    sum().\n",
    "    reset_index()\n",
    ")\n",
    "nac_estado.head(5)"
   ]
  },
  {
   "cell_type": "code",
   "execution_count": 81,
   "metadata": {
    "ExecuteTime": {
     "end_time": "2018-03-16T01:57:09.964572Z",
     "start_time": "2018-03-16T01:57:09.935739Z"
    }
   },
   "outputs": [
    {
     "data": {
      "text/html": [
       "<div>\n",
       "<style scoped>\n",
       "    .dataframe tbody tr th:only-of-type {\n",
       "        vertical-align: middle;\n",
       "    }\n",
       "\n",
       "    .dataframe tbody tr th {\n",
       "        vertical-align: top;\n",
       "    }\n",
       "\n",
       "    .dataframe thead th {\n",
       "        text-align: right;\n",
       "    }\n",
       "</style>\n",
       "<table border=\"1\" class=\"dataframe\">\n",
       "  <thead>\n",
       "    <tr style=\"text-align: right;\">\n",
       "      <th>Estado</th>\n",
       "      <th>Baja California  Sur</th>\n",
       "      <th>Campeche</th>\n",
       "      <th>Colima</th>\n",
       "      <th>Michoacan</th>\n",
       "      <th>Nayarit</th>\n",
       "      <th>Oaxaca</th>\n",
       "      <th>Puebla</th>\n",
       "      <th>Quintana Roo</th>\n",
       "      <th>San Luis Potosi</th>\n",
       "      <th>Sonora</th>\n",
       "      <th>Tamaulipas</th>\n",
       "      <th>Veracruz</th>\n",
       "    </tr>\n",
       "    <tr>\n",
       "      <th>Anio mes</th>\n",
       "      <th></th>\n",
       "      <th></th>\n",
       "      <th></th>\n",
       "      <th></th>\n",
       "      <th></th>\n",
       "      <th></th>\n",
       "      <th></th>\n",
       "      <th></th>\n",
       "      <th></th>\n",
       "      <th></th>\n",
       "      <th></th>\n",
       "      <th></th>\n",
       "    </tr>\n",
       "  </thead>\n",
       "  <tbody>\n",
       "    <tr>\n",
       "      <th>201501</th>\n",
       "      <td>1050</td>\n",
       "      <td>69343</td>\n",
       "      <td>8486</td>\n",
       "      <td>8227</td>\n",
       "      <td>8116</td>\n",
       "      <td>16754</td>\n",
       "      <td>20947</td>\n",
       "      <td>13153</td>\n",
       "      <td>108</td>\n",
       "      <td>18721</td>\n",
       "      <td>16988</td>\n",
       "      <td>4490</td>\n",
       "    </tr>\n",
       "    <tr>\n",
       "      <th>201502</th>\n",
       "      <td>651</td>\n",
       "      <td>61052</td>\n",
       "      <td>9207</td>\n",
       "      <td>5581</td>\n",
       "      <td>7062</td>\n",
       "      <td>11146</td>\n",
       "      <td>16566</td>\n",
       "      <td>11110</td>\n",
       "      <td>205</td>\n",
       "      <td>16634</td>\n",
       "      <td>16886</td>\n",
       "      <td>5368</td>\n",
       "    </tr>\n",
       "    <tr>\n",
       "      <th>201503</th>\n",
       "      <td>793</td>\n",
       "      <td>66196</td>\n",
       "      <td>8906</td>\n",
       "      <td>6588</td>\n",
       "      <td>8953</td>\n",
       "      <td>15527</td>\n",
       "      <td>21917</td>\n",
       "      <td>13651</td>\n",
       "      <td>172</td>\n",
       "      <td>21737</td>\n",
       "      <td>21451</td>\n",
       "      <td>5756</td>\n",
       "    </tr>\n",
       "    <tr>\n",
       "      <th>201504</th>\n",
       "      <td>1708</td>\n",
       "      <td>60923</td>\n",
       "      <td>8698</td>\n",
       "      <td>6993</td>\n",
       "      <td>8664</td>\n",
       "      <td>15547</td>\n",
       "      <td>22197</td>\n",
       "      <td>14271</td>\n",
       "      <td>89</td>\n",
       "      <td>21241</td>\n",
       "      <td>18773</td>\n",
       "      <td>5410</td>\n",
       "    </tr>\n",
       "    <tr>\n",
       "      <th>201505</th>\n",
       "      <td>884</td>\n",
       "      <td>64755</td>\n",
       "      <td>8827</td>\n",
       "      <td>7589</td>\n",
       "      <td>9437</td>\n",
       "      <td>11401</td>\n",
       "      <td>22381</td>\n",
       "      <td>13762</td>\n",
       "      <td>158</td>\n",
       "      <td>21419</td>\n",
       "      <td>19075</td>\n",
       "      <td>5130</td>\n",
       "    </tr>\n",
       "  </tbody>\n",
       "</table>\n",
       "</div>"
      ],
      "text/plain": [
       "Estado    Baja California  Sur  Campeche  Colima  Michoacan  Nayarit  Oaxaca  \\\n",
       "Anio mes                                                                       \n",
       "201501                    1050     69343    8486       8227     8116   16754   \n",
       "201502                     651     61052    9207       5581     7062   11146   \n",
       "201503                     793     66196    8906       6588     8953   15527   \n",
       "201504                    1708     60923    8698       6993     8664   15547   \n",
       "201505                     884     64755    8827       7589     9437   11401   \n",
       "\n",
       "Estado    Puebla  Quintana Roo  San Luis Potosi  Sonora  Tamaulipas  Veracruz  \n",
       "Anio mes                                                                       \n",
       "201501     20947         13153              108   18721       16988      4490  \n",
       "201502     16566         11110              205   16634       16886      5368  \n",
       "201503     21917         13651              172   21737       21451      5756  \n",
       "201504     22197         14271               89   21241       18773      5410  \n",
       "201505     22381         13762              158   21419       19075      5130  "
      ]
     },
     "execution_count": 81,
     "metadata": {},
     "output_type": "execute_result"
    }
   ],
   "source": [
    "tabla_estados = nac_estado.pivot(index='Anio mes', \n",
    "                                 columns='Estado', \n",
    "                                 values='Pasajeros nacionales')\n",
    "\n",
    "tabla_estados.head(5)"
   ]
  },
  {
   "cell_type": "code",
   "execution_count": 82,
   "metadata": {
    "ExecuteTime": {
     "end_time": "2018-03-16T01:59:17.554899Z",
     "start_time": "2018-03-16T01:59:17.508155Z"
    }
   },
   "outputs": [
    {
     "data": {
      "text/html": [
       "<div>\n",
       "<style scoped>\n",
       "    .dataframe tbody tr th:only-of-type {\n",
       "        vertical-align: middle;\n",
       "    }\n",
       "\n",
       "    .dataframe tbody tr th {\n",
       "        vertical-align: top;\n",
       "    }\n",
       "\n",
       "    .dataframe thead th {\n",
       "        text-align: right;\n",
       "    }\n",
       "</style>\n",
       "<table border=\"1\" class=\"dataframe\">\n",
       "  <thead>\n",
       "    <tr style=\"text-align: right;\">\n",
       "      <th>Codigo IATA</th>\n",
       "      <th>CEN</th>\n",
       "      <th>CLQ</th>\n",
       "      <th>CME</th>\n",
       "      <th>CPE</th>\n",
       "      <th>CTM</th>\n",
       "      <th>CVM</th>\n",
       "      <th>GYM</th>\n",
       "      <th>IZT</th>\n",
       "      <th>LTO</th>\n",
       "      <th>MAM</th>\n",
       "      <th>NLD</th>\n",
       "      <th>NOG</th>\n",
       "      <th>PAZ</th>\n",
       "      <th>PBC</th>\n",
       "      <th>PXM</th>\n",
       "      <th>TCN</th>\n",
       "      <th>TPQ</th>\n",
       "      <th>TSL</th>\n",
       "      <th>UPN</th>\n",
       "    </tr>\n",
       "    <tr>\n",
       "      <th>Anio mes</th>\n",
       "      <th></th>\n",
       "      <th></th>\n",
       "      <th></th>\n",
       "      <th></th>\n",
       "      <th></th>\n",
       "      <th></th>\n",
       "      <th></th>\n",
       "      <th></th>\n",
       "      <th></th>\n",
       "      <th></th>\n",
       "      <th></th>\n",
       "      <th></th>\n",
       "      <th></th>\n",
       "      <th></th>\n",
       "      <th></th>\n",
       "      <th></th>\n",
       "      <th></th>\n",
       "      <th></th>\n",
       "      <th></th>\n",
       "    </tr>\n",
       "  </thead>\n",
       "  <tbody>\n",
       "    <tr>\n",
       "      <th>201501</th>\n",
       "      <td>17149.0</td>\n",
       "      <td>8486.0</td>\n",
       "      <td>56079.0</td>\n",
       "      <td>13264.0</td>\n",
       "      <td>13153.0</td>\n",
       "      <td>4695.0</td>\n",
       "      <td>1315.0</td>\n",
       "      <td>NaN</td>\n",
       "      <td>1050.0</td>\n",
       "      <td>6684.0</td>\n",
       "      <td>5609.0</td>\n",
       "      <td>257.0</td>\n",
       "      <td>4490.0</td>\n",
       "      <td>20794.0</td>\n",
       "      <td>16754.0</td>\n",
       "      <td>153.0</td>\n",
       "      <td>8116.0</td>\n",
       "      <td>108.0</td>\n",
       "      <td>8227.0</td>\n",
       "    </tr>\n",
       "    <tr>\n",
       "      <th>201502</th>\n",
       "      <td>15430.0</td>\n",
       "      <td>9207.0</td>\n",
       "      <td>48255.0</td>\n",
       "      <td>12797.0</td>\n",
       "      <td>11110.0</td>\n",
       "      <td>4902.0</td>\n",
       "      <td>1000.0</td>\n",
       "      <td>NaN</td>\n",
       "      <td>651.0</td>\n",
       "      <td>6443.0</td>\n",
       "      <td>5541.0</td>\n",
       "      <td>204.0</td>\n",
       "      <td>5368.0</td>\n",
       "      <td>16316.0</td>\n",
       "      <td>11146.0</td>\n",
       "      <td>250.0</td>\n",
       "      <td>7062.0</td>\n",
       "      <td>205.0</td>\n",
       "      <td>5581.0</td>\n",
       "    </tr>\n",
       "    <tr>\n",
       "      <th>201503</th>\n",
       "      <td>20272.0</td>\n",
       "      <td>8906.0</td>\n",
       "      <td>50333.0</td>\n",
       "      <td>15863.0</td>\n",
       "      <td>13651.0</td>\n",
       "      <td>8116.0</td>\n",
       "      <td>1170.0</td>\n",
       "      <td>NaN</td>\n",
       "      <td>793.0</td>\n",
       "      <td>7219.0</td>\n",
       "      <td>6116.0</td>\n",
       "      <td>295.0</td>\n",
       "      <td>5756.0</td>\n",
       "      <td>21621.0</td>\n",
       "      <td>15527.0</td>\n",
       "      <td>296.0</td>\n",
       "      <td>8953.0</td>\n",
       "      <td>172.0</td>\n",
       "      <td>6588.0</td>\n",
       "    </tr>\n",
       "  </tbody>\n",
       "</table>\n",
       "</div>"
      ],
      "text/plain": [
       "Codigo IATA      CEN     CLQ      CME      CPE      CTM     CVM     GYM  IZT  \\\n",
       "Anio mes                                                                       \n",
       "201501       17149.0  8486.0  56079.0  13264.0  13153.0  4695.0  1315.0  NaN   \n",
       "201502       15430.0  9207.0  48255.0  12797.0  11110.0  4902.0  1000.0  NaN   \n",
       "201503       20272.0  8906.0  50333.0  15863.0  13651.0  8116.0  1170.0  NaN   \n",
       "\n",
       "Codigo IATA     LTO     MAM     NLD    NOG     PAZ      PBC      PXM    TCN  \\\n",
       "Anio mes                                                                      \n",
       "201501       1050.0  6684.0  5609.0  257.0  4490.0  20794.0  16754.0  153.0   \n",
       "201502        651.0  6443.0  5541.0  204.0  5368.0  16316.0  11146.0  250.0   \n",
       "201503        793.0  7219.0  6116.0  295.0  5756.0  21621.0  15527.0  296.0   \n",
       "\n",
       "Codigo IATA     TPQ    TSL     UPN  \n",
       "Anio mes                            \n",
       "201501       8116.0  108.0  8227.0  \n",
       "201502       7062.0  205.0  5581.0  \n",
       "201503       8953.0  172.0  6588.0  "
      ]
     },
     "execution_count": 82,
     "metadata": {},
     "output_type": "execute_result"
    }
   ],
   "source": [
    "(\n",
    "    pas.\n",
    "    groupby(['Codigo IATA', 'Anio mes'])['Pasajeros nacionales'].\n",
    "    sum().\n",
    "    reset_index().\n",
    "    pivot(\n",
    "        index='Anio mes',\n",
    "        columns='Codigo IATA',\n",
    "        values='Pasajeros nacionales'\n",
    "    )\n",
    ").head(3)"
   ]
  },
  {
   "cell_type": "code",
   "execution_count": 92,
   "metadata": {
    "ExecuteTime": {
     "end_time": "2018-03-16T02:10:46.586052Z",
     "start_time": "2018-03-16T02:10:46.570588Z"
    }
   },
   "outputs": [
    {
     "data": {
      "text/plain": [
       "Int64Index([ 1,  2,  3,  4,  5,  6,  7,  8,  9, 10, 11, 12,  1,  2,  3,  4,  5,\n",
       "             6,  7,  8,  9, 10, 11, 12,  1,  2,  3,  4,  5,  6,  7],\n",
       "           dtype='int64', name='Anio mes')"
      ]
     },
     "execution_count": 92,
     "metadata": {},
     "output_type": "execute_result"
    }
   ],
   "source": [
    "mes = tabla_estados.index - (tabla_estados.index/100).astype(int)*100\n",
    "mes"
   ]
  },
  {
   "cell_type": "code",
   "execution_count": 93,
   "metadata": {
    "ExecuteTime": {
     "end_time": "2018-03-16T02:14:21.550360Z",
     "start_time": "2018-03-16T02:14:21.336983Z"
    }
   },
   "outputs": [
    {
     "data": {
      "image/png": "[encoded data removed]",
      "text/plain": [
       "<matplotlib.figure.Figure at 0x7f484320cb38>"
      ]
     },
     "metadata": {},
     "output_type": "display_data"
    }
   ],
   "source": [
    "mes = tabla_estados.index - (tabla_estados.index/100).astype(int)*100\n",
    "anio = (tabla_estados.index/100).astype(int)\n",
    "for col in tabla_estados.columns:\n",
    "    plt.plot(anio + (mes - 1)/12, tabla_estados[col])\n",
    "\n",
    "plt.show()"
   ]
  },
  {
   "cell_type": "markdown",
   "metadata": {
    "solution2": "shown",
    "solution2_first": true
   },
   "source": [
    "**Ejercicio grupal**: ¿Cómo hacemos que esta gráfica se vea bien?"
   ]
  },
  {
   "cell_type": "code",
   "execution_count": 95,
   "metadata": {
    "ExecuteTime": {
     "end_time": "2018-03-16T02:19:57.893369Z",
     "start_time": "2018-03-16T02:19:57.653749Z"
    },
    "solution2": "shown"
   },
   "outputs": [
    {
     "data": {
      "image/png": "[encoded data removed]",
      "text/plain": [
       "<matplotlib.figure.Figure at 0x7f4846ba1358>"
      ]
     },
     "metadata": {},
     "output_type": "display_data"
    }
   ],
   "source": [
    "mes_ent = ((nac_estado['Anio mes']/100 - (nac_estado['Anio mes']/100).astype(int))*100 - 1)/12\n",
    "anio = (nac_estado['Anio mes']/100).astype(int)\n",
    "nac_estado['Anio_mes'] = anio + mes_ent\n",
    "\n",
    "tabla_estados_2 = nac_estado.pivot(index='Anio_mes', \n",
    "                                   columns='Estado', \n",
    "                                   values='Pasajeros nacionales')\n",
    "\n",
    "for col in tabla_estados_2.columns:\n",
    "    plt.plot(tabla_estados_2.index, tabla_estados[col])\n",
    "    \n",
    "plt.show()"
   ]
  },
  {
   "cell_type": "markdown",
   "metadata": {
    "solution2": "hidden",
    "solution2_first": true
   },
   "source": [
    "**Ejercicio**: Grafica la evolución de las operaciones totales de las 3 IATAs más importantes para pasajeros internacionales."
   ]
  },
  {
   "cell_type": "code",
   "execution_count": 100,
   "metadata": {
    "ExecuteTime": {
     "end_time": "2018-03-16T02:56:40.449487Z",
     "start_time": "2018-03-16T02:56:40.420946Z"
    }
   },
   "outputs": [
    {
     "data": {
      "text/html": [
       "<div>\n",
       "<style scoped>\n",
       "    .dataframe tbody tr th:only-of-type {\n",
       "        vertical-align: middle;\n",
       "    }\n",
       "\n",
       "    .dataframe tbody tr th {\n",
       "        vertical-align: top;\n",
       "    }\n",
       "\n",
       "    .dataframe thead th {\n",
       "        text-align: right;\n",
       "    }\n",
       "</style>\n",
       "<table border=\"1\" class=\"dataframe\">\n",
       "  <thead>\n",
       "    <tr style=\"text-align: right;\">\n",
       "      <th></th>\n",
       "      <th>Anio mes</th>\n",
       "      <th>Codigo IATA</th>\n",
       "      <th>Descripcion</th>\n",
       "      <th>Estado</th>\n",
       "      <th>Operaciones nacionales</th>\n",
       "      <th>Operaciones internacionales</th>\n",
       "      <th>anio</th>\n",
       "      <th>Operaciones totales</th>\n",
       "    </tr>\n",
       "  </thead>\n",
       "  <tbody>\n",
       "    <tr>\n",
       "      <th>0</th>\n",
       "      <td>201501</td>\n",
       "      <td>CEN</td>\n",
       "      <td>Ciudad Obregon</td>\n",
       "      <td>Sonora</td>\n",
       "      <td>730</td>\n",
       "      <td>137</td>\n",
       "      <td>2015</td>\n",
       "      <td>867</td>\n",
       "    </tr>\n",
       "    <tr>\n",
       "      <th>1</th>\n",
       "      <td>201501</td>\n",
       "      <td>CLQ</td>\n",
       "      <td>Colima</td>\n",
       "      <td>Colima</td>\n",
       "      <td>468</td>\n",
       "      <td>0</td>\n",
       "      <td>2015</td>\n",
       "      <td>468</td>\n",
       "    </tr>\n",
       "    <tr>\n",
       "      <th>2</th>\n",
       "      <td>201501</td>\n",
       "      <td>CME</td>\n",
       "      <td>Ciudad del Carmen</td>\n",
       "      <td>Campeche</td>\n",
       "      <td>4750</td>\n",
       "      <td>83</td>\n",
       "      <td>2015</td>\n",
       "      <td>4833</td>\n",
       "    </tr>\n",
       "  </tbody>\n",
       "</table>\n",
       "</div>"
      ],
      "text/plain": [
       "   Anio mes Codigo IATA        Descripcion    Estado  Operaciones nacionales  \\\n",
       "0    201501         CEN     Ciudad Obregon    Sonora                     730   \n",
       "1    201501         CLQ             Colima    Colima                     468   \n",
       "2    201501         CME  Ciudad del Carmen  Campeche                    4750   \n",
       "\n",
       "   Operaciones internacionales  anio  Operaciones totales  \n",
       "0                          137  2015                  867  \n",
       "1                            0  2015                  468  \n",
       "2                           83  2015                 4833  "
      ]
     },
     "execution_count": 100,
     "metadata": {},
     "output_type": "execute_result"
    }
   ],
   "source": [
    "ops['Operaciones totales'] = ops['Operaciones nacionales'] + ops['Operaciones internacionales']\n",
    "ops.head(3)"
   ]
  },
  {
   "cell_type": "code",
   "execution_count": 117,
   "metadata": {
    "ExecuteTime": {
     "end_time": "2018-03-16T03:03:45.986458Z",
     "start_time": "2018-03-16T03:03:45.786568Z"
    }
   },
   "outputs": [
    {
     "data": {
      "image/png": "[encoded data removed]",
      "text/plain": [
       "<matplotlib.figure.Figure at 0x7f484302ccc0>"
      ]
     },
     "metadata": {},
     "output_type": "display_data"
    }
   ],
   "source": [
    "ops_tot = (\n",
    "    pas\n",
    "    .groupby('Codigo IATA')['Pasajeros internacionales']\n",
    "    .sum()\n",
    "    .sort_values(ascending=False)\n",
    "    .head(3)\n",
    "    .reset_index()\n",
    "    .merge(ops)[['Anio mes', 'Codigo IATA', 'Operaciones totales']]\n",
    "    .pivot(index='Anio mes',\n",
    "          columns='Codigo IATA',\n",
    "          values='Operaciones totales')\n",
    ")\n",
    "\n",
    "ops_tot['anio_mes'] = (ops_tot.index/100).astype(int) + (((ops_tot.index)-(ops_tot.index/100).astype(int)*100)-1)/12\n",
    "ops_tot.index = ops_tot.anio_mes\n",
    "ops_tot = ops_tot.drop('anio_mes', axis = 1)\n",
    "\n",
    "for col in ops_tot.columns:\n",
    "    plt.plot(ops_tot.index, ops_tot[col], label=col)\n",
    "plt.legend()\n",
    "plt.show()"
   ]
  },
  {
   "cell_type": "code",
   "execution_count": null,
   "metadata": {
    "ExecuteTime": {
     "end_time": "2018-03-14T00:02:36.050141Z",
     "start_time": "2018-03-14T00:02:35.776392Z"
    },
    "collapsed": true,
    "solution2": "hidden"
   },
   "outputs": [],
   "source": [
    "mes_ent = ((ops['Anio mes']/100 - (ops['Anio mes']/100).astype(int))*100 - 1)/12\n",
    "anio = (ops['Anio mes']/100).astype(int)\n",
    "ops['Anio_mes'] = anio + mes_ent\n",
    "ops['Operaciones totales'] = ops['Operaciones nacionales'] + ops['Operaciones internacionales']\n",
    "\n",
    "ops_top_iata = (pas.\n",
    " groupby('Codigo IATA')['Pasajeros internacionales'].\n",
    " sum().\n",
    " sort_values(ascending=False).\n",
    " head(3).\n",
    " reset_index().\n",
    " merge(ops).\n",
    " pivot(index='Anio_mes',\n",
    "       columns='Codigo IATA',\n",
    "       values='Operaciones totales')\n",
    ")\n",
    "\n",
    "for col in ops_top_iata.columns:\n",
    "    plt.plot(ops_top_iata.index, ops_top_iata[col], label=col)\n",
    "    \n",
    "plt.legend()\n",
    "plt.show()"
   ]
  },
  {
   "cell_type": "code",
   "execution_count": null,
   "metadata": {
    "ExecuteTime": {
     "end_time": "2018-03-14T00:02:36.224798Z",
     "start_time": "2018-03-14T00:02:36.051710Z"
    },
    "collapsed": true,
    "solution2": "hidden"
   },
   "outputs": [],
   "source": [
    "ops_top_iata = (\n",
    "    pas.\n",
    "    groupby('Codigo IATA')['Pasajeros internacionales'].\n",
    "    sum().\n",
    "    sort_values(ascending=False).\n",
    "    head(3).\n",
    "    reset_index().\n",
    "    merge(ops)\n",
    ")\n",
    "\n",
    "ops_top_iata['anio'] = (ops_top_iata['Anio mes']/100).astype(int)\n",
    "ops_top_iata['mes'] = ops_top_iata['Anio mes'] - ops_top_iata['anio']*100\n",
    "ops_top_iata['anio_mes'] = ops_top_iata['anio'] + (ops_top_iata['mes'] - 1)/12\n",
    "\n",
    "ops_top_iata['op_tot'] = ops_top_iata['Operaciones nacionales'] + ops_top_iata['Operaciones internacionales']\n",
    "\n",
    "graf_iata = (\n",
    "    ops_top_iata[['anio_mes', 'op_tot', 'Codigo IATA']].\n",
    "    pivot(\n",
    "        index='anio_mes',\n",
    "        columns='Codigo IATA',\n",
    "        values='op_tot'\n",
    "    )\n",
    ")\n",
    "\n",
    "for col in graf_iata.columns:\n",
    "    plt.plot(graf_iata.index, graf_iata[col])\n",
    "\n",
    "plt.show()"
   ]
  },
  {
   "cell_type": "code",
   "execution_count": null,
   "metadata": {
    "ExecuteTime": {
     "end_time": "2018-03-14T00:02:35.070994Z",
     "start_time": "2018-03-14T00:02:35.057581Z"
    },
    "collapsed": true
   },
   "outputs": [],
   "source": [
    "tabla_estados.index"
   ]
  },
  {
   "cell_type": "code",
   "execution_count": null,
   "metadata": {
    "ExecuteTime": {
     "end_time": "2018-03-16T00:58:22.871125Z",
     "start_time": "2018-03-16T00:58:22.766783Z"
    },
    "collapsed": true
   },
   "outputs": [],
   "source": [
    "tabla_estados_aux = tabla_estados.reset_index()\n",
    "tabla_estados_aux['anio'] = (tabla_estados_aux['Anio mes']/100).astype(int)\n",
    "tabla_estados_aux['mes'] = tabla_estados_aux['Anio mes'] - tabla_estados_aux['anio']*100\n",
    "tabla_estados_aux['anio_mes'] = tabla_estados_aux['anio'] + (tabla_estados_aux['mes'] - 1)/12\n",
    "tabla_estados_aux.index = tabla_estados_aux['anio_mes']\n",
    "tabla_estados_aux = tabla_estados_aux.drop(['anio', 'mes', 'Anio mes', 'anio_mes'], axis=1)"
   ]
  },
  {
   "cell_type": "code",
   "execution_count": null,
   "metadata": {
    "ExecuteTime": {
     "end_time": "2018-03-16T00:58:27.710221Z",
     "start_time": "2018-03-16T00:58:27.522057Z"
    },
    "collapsed": true
   },
   "outputs": [],
   "source": [
    "for col in tabla_estados_aux.columns:\n",
    "    plt.plot(tabla_estados_aux.index, tabla_estados_aux[col])\n",
    "\n",
    "plt.show()"
   ]
  },
  {
   "cell_type": "code",
   "execution_count": null,
   "metadata": {
    "ExecuteTime": {
     "end_time": "2018-03-16T00:58:24.885768Z",
     "start_time": "2018-03-16T00:58:24.862511Z"
    },
    "collapsed": true
   },
   "outputs": [],
   "source": [
    "tabla_estados_aux.head(5)"
   ]
  },
  {
   "cell_type": "markdown",
   "metadata": {},
   "source": [
    "### Graficar con pandas\n",
    "Pandas tiene una interfaz sencilla con matplotlib."
   ]
  },
  {
   "cell_type": "code",
   "execution_count": 118,
   "metadata": {
    "ExecuteTime": {
     "end_time": "2018-03-16T03:15:43.469330Z",
     "start_time": "2018-03-16T03:15:43.248397Z"
    }
   },
   "outputs": [
    {
     "data": {
      "image/png": "[encoded data removed]",
      "text/plain": [
       "<matplotlib.figure.Figure at 0x7f48431d6e80>"
      ]
     },
     "metadata": {},
     "output_type": "display_data"
    }
   ],
   "source": [
    "pas['Pasajeros nacionales'].hist()\n",
    "plt.show()"
   ]
  },
  {
   "cell_type": "code",
   "execution_count": 119,
   "metadata": {
    "ExecuteTime": {
     "end_time": "2018-03-16T03:15:52.818870Z",
     "start_time": "2018-03-16T03:15:52.792956Z"
    }
   },
   "outputs": [
    {
     "data": {
      "text/html": [
       "<div>\n",
       "<style scoped>\n",
       "    .dataframe tbody tr th:only-of-type {\n",
       "        vertical-align: middle;\n",
       "    }\n",
       "\n",
       "    .dataframe tbody tr th {\n",
       "        vertical-align: top;\n",
       "    }\n",
       "\n",
       "    .dataframe thead th {\n",
       "        text-align: right;\n",
       "    }\n",
       "</style>\n",
       "<table border=\"1\" class=\"dataframe\">\n",
       "  <thead>\n",
       "    <tr style=\"text-align: right;\">\n",
       "      <th></th>\n",
       "      <th>Anio mes</th>\n",
       "      <th>Codigo IATA</th>\n",
       "      <th>Descripcion</th>\n",
       "      <th>Estado</th>\n",
       "      <th>Operaciones nacionales</th>\n",
       "      <th>Operaciones internacionales</th>\n",
       "      <th>anio</th>\n",
       "      <th>Operaciones totales</th>\n",
       "    </tr>\n",
       "  </thead>\n",
       "  <tbody>\n",
       "    <tr>\n",
       "      <th>0</th>\n",
       "      <td>201501</td>\n",
       "      <td>CEN</td>\n",
       "      <td>Ciudad Obregon</td>\n",
       "      <td>Sonora</td>\n",
       "      <td>730</td>\n",
       "      <td>137</td>\n",
       "      <td>2015</td>\n",
       "      <td>867</td>\n",
       "    </tr>\n",
       "    <tr>\n",
       "      <th>1</th>\n",
       "      <td>201501</td>\n",
       "      <td>CLQ</td>\n",
       "      <td>Colima</td>\n",
       "      <td>Colima</td>\n",
       "      <td>468</td>\n",
       "      <td>0</td>\n",
       "      <td>2015</td>\n",
       "      <td>468</td>\n",
       "    </tr>\n",
       "    <tr>\n",
       "      <th>2</th>\n",
       "      <td>201501</td>\n",
       "      <td>CME</td>\n",
       "      <td>Ciudad del Carmen</td>\n",
       "      <td>Campeche</td>\n",
       "      <td>4750</td>\n",
       "      <td>83</td>\n",
       "      <td>2015</td>\n",
       "      <td>4833</td>\n",
       "    </tr>\n",
       "    <tr>\n",
       "      <th>3</th>\n",
       "      <td>201501</td>\n",
       "      <td>CPE</td>\n",
       "      <td>Campeche</td>\n",
       "      <td>Campeche</td>\n",
       "      <td>398</td>\n",
       "      <td>10</td>\n",
       "      <td>2015</td>\n",
       "      <td>408</td>\n",
       "    </tr>\n",
       "    <tr>\n",
       "      <th>4</th>\n",
       "      <td>201501</td>\n",
       "      <td>CTM</td>\n",
       "      <td>Chetumal</td>\n",
       "      <td>Quintana Roo</td>\n",
       "      <td>338</td>\n",
       "      <td>0</td>\n",
       "      <td>2015</td>\n",
       "      <td>338</td>\n",
       "    </tr>\n",
       "  </tbody>\n",
       "</table>\n",
       "</div>"
      ],
      "text/plain": [
       "   Anio mes Codigo IATA        Descripcion        Estado  \\\n",
       "0    201501         CEN     Ciudad Obregon        Sonora   \n",
       "1    201501         CLQ             Colima        Colima   \n",
       "2    201501         CME  Ciudad del Carmen      Campeche   \n",
       "3    201501         CPE           Campeche      Campeche   \n",
       "4    201501         CTM           Chetumal  Quintana Roo   \n",
       "\n",
       "   Operaciones nacionales  Operaciones internacionales  anio  \\\n",
       "0                     730                          137  2015   \n",
       "1                     468                            0  2015   \n",
       "2                    4750                           83  2015   \n",
       "3                     398                           10  2015   \n",
       "4                     338                            0  2015   \n",
       "\n",
       "   Operaciones totales  \n",
       "0                  867  \n",
       "1                  468  \n",
       "2                 4833  \n",
       "3                  408  \n",
       "4                  338  "
      ]
     },
     "execution_count": 119,
     "metadata": {},
     "output_type": "execute_result"
    }
   ],
   "source": [
    "ops.head(5)"
   ]
  },
  {
   "cell_type": "code",
   "execution_count": 120,
   "metadata": {
    "ExecuteTime": {
     "end_time": "2018-03-16T03:16:33.075862Z",
     "start_time": "2018-03-16T03:16:32.802008Z"
    }
   },
   "outputs": [
    {
     "data": {
      "image/png": "[encoded data removed]",
      "text/plain": [
       "<matplotlib.figure.Figure at 0x7f4842e32160>"
      ]
     },
     "metadata": {},
     "output_type": "display_data"
    }
   ],
   "source": [
    "(\n",
    "    ops.\n",
    "    groupby('Anio mes')['Operaciones nacionales'].\n",
    "    sum().\n",
    "    reset_index().\n",
    "    plot(x='Anio mes', y='Operaciones nacionales')\n",
    ")\n",
    "plt.show()"
   ]
  },
  {
   "cell_type": "code",
   "execution_count": 121,
   "metadata": {
    "ExecuteTime": {
     "end_time": "2018-03-16T03:17:18.369728Z",
     "start_time": "2018-03-16T03:17:18.054277Z"
    }
   },
   "outputs": [
    {
     "data": {
      "image/png": "[encoded data removed]",
      "text/plain": [
       "<matplotlib.figure.Figure at 0x7f4842e71f98>"
      ]
     },
     "metadata": {},
     "output_type": "display_data"
    }
   ],
   "source": [
    "(\n",
    "    ops.\n",
    "    plot(x='Operaciones internacionales', \n",
    "         y='Operaciones nacionales', \n",
    "         kind='scatter',\n",
    "         c='Anio mes')\n",
    ")\n",
    "plt.show()"
   ]
  },
  {
   "cell_type": "markdown",
   "metadata": {},
   "source": [
    "Con esto no es necesario iterar sobre las columnas"
   ]
  },
  {
   "cell_type": "code",
   "execution_count": 123,
   "metadata": {
    "ExecuteTime": {
     "end_time": "2018-03-16T03:18:21.801386Z",
     "start_time": "2018-03-16T03:18:21.577138Z"
    }
   },
   "outputs": [
    {
     "data": {
      "image/png": "[encoded data removed]",
      "text/plain": [
       "<matplotlib.figure.Figure at 0x7f4846b06cf8>"
      ]
     },
     "metadata": {},
     "output_type": "display_data"
    }
   ],
   "source": [
    "ops_tot.plot()\n",
    "plt.show()"
   ]
  },
  {
   "cell_type": "markdown",
   "metadata": {},
   "source": [
    "### query\n",
    "\n",
    "Con query, podemos seleccionar (filtrar) dentro de un pipeline de pandas. Para eso tenemos que poner la condición dentro de un string."
   ]
  },
  {
   "cell_type": "code",
   "execution_count": 124,
   "metadata": {
    "ExecuteTime": {
     "end_time": "2018-03-16T03:19:31.076114Z",
     "start_time": "2018-03-16T03:19:31.063931Z"
    },
    "collapsed": true
   },
   "outputs": [],
   "source": [
    "ops['Anio_mes'] = ops['Anio mes']"
   ]
  },
  {
   "cell_type": "code",
   "execution_count": 127,
   "metadata": {
    "ExecuteTime": {
     "end_time": "2018-03-16T03:20:11.693359Z",
     "start_time": "2018-03-16T03:20:11.668303Z"
    }
   },
   "outputs": [
    {
     "data": {
      "text/html": [
       "<div>\n",
       "<style scoped>\n",
       "    .dataframe tbody tr th:only-of-type {\n",
       "        vertical-align: middle;\n",
       "    }\n",
       "\n",
       "    .dataframe tbody tr th {\n",
       "        vertical-align: top;\n",
       "    }\n",
       "\n",
       "    .dataframe thead th {\n",
       "        text-align: right;\n",
       "    }\n",
       "</style>\n",
       "<table border=\"1\" class=\"dataframe\">\n",
       "  <thead>\n",
       "    <tr style=\"text-align: right;\">\n",
       "      <th></th>\n",
       "      <th>Anio mes</th>\n",
       "      <th>Codigo IATA</th>\n",
       "      <th>Descripcion</th>\n",
       "      <th>Estado</th>\n",
       "      <th>Operaciones nacionales</th>\n",
       "      <th>Operaciones internacionales</th>\n",
       "      <th>anio</th>\n",
       "      <th>Operaciones totales</th>\n",
       "      <th>Anio_mes</th>\n",
       "    </tr>\n",
       "  </thead>\n",
       "  <tbody>\n",
       "    <tr>\n",
       "      <th>432</th>\n",
       "      <td>201701</td>\n",
       "      <td>CEN</td>\n",
       "      <td>Ciudad Obregon</td>\n",
       "      <td>Sonora</td>\n",
       "      <td>681</td>\n",
       "      <td>214</td>\n",
       "      <td>2017</td>\n",
       "      <td>895</td>\n",
       "      <td>201701</td>\n",
       "    </tr>\n",
       "    <tr>\n",
       "      <th>433</th>\n",
       "      <td>201701</td>\n",
       "      <td>CLQ</td>\n",
       "      <td>Colima</td>\n",
       "      <td>Colima</td>\n",
       "      <td>516</td>\n",
       "      <td>0</td>\n",
       "      <td>2017</td>\n",
       "      <td>516</td>\n",
       "      <td>201701</td>\n",
       "    </tr>\n",
       "    <tr>\n",
       "      <th>434</th>\n",
       "      <td>201701</td>\n",
       "      <td>CME</td>\n",
       "      <td>Ciudad del Carmen</td>\n",
       "      <td>Campeche</td>\n",
       "      <td>2395</td>\n",
       "      <td>49</td>\n",
       "      <td>2017</td>\n",
       "      <td>2444</td>\n",
       "      <td>201701</td>\n",
       "    </tr>\n",
       "    <tr>\n",
       "      <th>435</th>\n",
       "      <td>201701</td>\n",
       "      <td>CPE</td>\n",
       "      <td>Campeche</td>\n",
       "      <td>Campeche</td>\n",
       "      <td>380</td>\n",
       "      <td>2</td>\n",
       "      <td>2017</td>\n",
       "      <td>382</td>\n",
       "      <td>201701</td>\n",
       "    </tr>\n",
       "    <tr>\n",
       "      <th>436</th>\n",
       "      <td>201701</td>\n",
       "      <td>CTM</td>\n",
       "      <td>Chetumal</td>\n",
       "      <td>Quintana Roo</td>\n",
       "      <td>434</td>\n",
       "      <td>12</td>\n",
       "      <td>2017</td>\n",
       "      <td>446</td>\n",
       "      <td>201701</td>\n",
       "    </tr>\n",
       "  </tbody>\n",
       "</table>\n",
       "</div>"
      ],
      "text/plain": [
       "     Anio mes Codigo IATA        Descripcion        Estado  \\\n",
       "432    201701         CEN     Ciudad Obregon        Sonora   \n",
       "433    201701         CLQ             Colima        Colima   \n",
       "434    201701         CME  Ciudad del Carmen      Campeche   \n",
       "435    201701         CPE           Campeche      Campeche   \n",
       "436    201701         CTM           Chetumal  Quintana Roo   \n",
       "\n",
       "     Operaciones nacionales  Operaciones internacionales  anio  \\\n",
       "432                     681                          214  2017   \n",
       "433                     516                            0  2017   \n",
       "434                    2395                           49  2017   \n",
       "435                     380                            2  2017   \n",
       "436                     434                           12  2017   \n",
       "\n",
       "     Operaciones totales  Anio_mes  \n",
       "432                  895    201701  \n",
       "433                  516    201701  \n",
       "434                 2444    201701  \n",
       "435                  382    201701  \n",
       "436                  446    201701  "
      ]
     },
     "execution_count": 127,
     "metadata": {},
     "output_type": "execute_result"
    }
   ],
   "source": [
    "ops.query('Anio_mes >= 201700').head(5)"
   ]
  },
  {
   "cell_type": "code",
   "execution_count": 128,
   "metadata": {
    "ExecuteTime": {
     "end_time": "2018-03-16T03:20:41.562082Z",
     "start_time": "2018-03-16T03:20:41.541630Z"
    }
   },
   "outputs": [
    {
     "data": {
      "text/html": [
       "<div>\n",
       "<style scoped>\n",
       "    .dataframe tbody tr th:only-of-type {\n",
       "        vertical-align: middle;\n",
       "    }\n",
       "\n",
       "    .dataframe tbody tr th {\n",
       "        vertical-align: top;\n",
       "    }\n",
       "\n",
       "    .dataframe thead th {\n",
       "        text-align: right;\n",
       "    }\n",
       "</style>\n",
       "<table border=\"1\" class=\"dataframe\">\n",
       "  <thead>\n",
       "    <tr style=\"text-align: right;\">\n",
       "      <th></th>\n",
       "      <th>Anio mes</th>\n",
       "      <th>Codigo IATA</th>\n",
       "      <th>Descripcion</th>\n",
       "      <th>Estado</th>\n",
       "      <th>Operaciones nacionales</th>\n",
       "      <th>Operaciones internacionales</th>\n",
       "      <th>anio</th>\n",
       "      <th>Operaciones totales</th>\n",
       "      <th>Anio_mes</th>\n",
       "    </tr>\n",
       "  </thead>\n",
       "  <tbody>\n",
       "    <tr>\n",
       "      <th>447</th>\n",
       "      <td>201701</td>\n",
       "      <td>TPQ</td>\n",
       "      <td>Tepic</td>\n",
       "      <td>Nayarit</td>\n",
       "      <td>603</td>\n",
       "      <td>0</td>\n",
       "      <td>2017</td>\n",
       "      <td>603</td>\n",
       "      <td>201701</td>\n",
       "    </tr>\n",
       "    <tr>\n",
       "      <th>465</th>\n",
       "      <td>201702</td>\n",
       "      <td>TPQ</td>\n",
       "      <td>Tepic</td>\n",
       "      <td>Nayarit</td>\n",
       "      <td>667</td>\n",
       "      <td>0</td>\n",
       "      <td>2017</td>\n",
       "      <td>667</td>\n",
       "      <td>201702</td>\n",
       "    </tr>\n",
       "    <tr>\n",
       "      <th>483</th>\n",
       "      <td>201703</td>\n",
       "      <td>TPQ</td>\n",
       "      <td>Tepic</td>\n",
       "      <td>Nayarit</td>\n",
       "      <td>764</td>\n",
       "      <td>0</td>\n",
       "      <td>2017</td>\n",
       "      <td>764</td>\n",
       "      <td>201703</td>\n",
       "    </tr>\n",
       "    <tr>\n",
       "      <th>502</th>\n",
       "      <td>201704</td>\n",
       "      <td>TPQ</td>\n",
       "      <td>Tepic</td>\n",
       "      <td>Nayarit</td>\n",
       "      <td>653</td>\n",
       "      <td>0</td>\n",
       "      <td>2017</td>\n",
       "      <td>653</td>\n",
       "      <td>201704</td>\n",
       "    </tr>\n",
       "    <tr>\n",
       "      <th>521</th>\n",
       "      <td>201705</td>\n",
       "      <td>TPQ</td>\n",
       "      <td>Tepic</td>\n",
       "      <td>Nayarit</td>\n",
       "      <td>765</td>\n",
       "      <td>0</td>\n",
       "      <td>2017</td>\n",
       "      <td>765</td>\n",
       "      <td>201705</td>\n",
       "    </tr>\n",
       "    <tr>\n",
       "      <th>540</th>\n",
       "      <td>201706</td>\n",
       "      <td>TPQ</td>\n",
       "      <td>Tepic</td>\n",
       "      <td>Nayarit</td>\n",
       "      <td>658</td>\n",
       "      <td>0</td>\n",
       "      <td>2017</td>\n",
       "      <td>658</td>\n",
       "      <td>201706</td>\n",
       "    </tr>\n",
       "    <tr>\n",
       "      <th>559</th>\n",
       "      <td>201707</td>\n",
       "      <td>TPQ</td>\n",
       "      <td>Tepic</td>\n",
       "      <td>Nayarit</td>\n",
       "      <td>456</td>\n",
       "      <td>0</td>\n",
       "      <td>2017</td>\n",
       "      <td>456</td>\n",
       "      <td>201707</td>\n",
       "    </tr>\n",
       "  </tbody>\n",
       "</table>\n",
       "</div>"
      ],
      "text/plain": [
       "     Anio mes Codigo IATA Descripcion   Estado  Operaciones nacionales  \\\n",
       "447    201701         TPQ       Tepic  Nayarit                     603   \n",
       "465    201702         TPQ       Tepic  Nayarit                     667   \n",
       "483    201703         TPQ       Tepic  Nayarit                     764   \n",
       "502    201704         TPQ       Tepic  Nayarit                     653   \n",
       "521    201705         TPQ       Tepic  Nayarit                     765   \n",
       "540    201706         TPQ       Tepic  Nayarit                     658   \n",
       "559    201707         TPQ       Tepic  Nayarit                     456   \n",
       "\n",
       "     Operaciones internacionales  anio  Operaciones totales  Anio_mes  \n",
       "447                            0  2017                  603    201701  \n",
       "465                            0  2017                  667    201702  \n",
       "483                            0  2017                  764    201703  \n",
       "502                            0  2017                  653    201704  \n",
       "521                            0  2017                  765    201705  \n",
       "540                            0  2017                  658    201706  \n",
       "559                            0  2017                  456    201707  "
      ]
     },
     "execution_count": 128,
     "metadata": {},
     "output_type": "execute_result"
    }
   ],
   "source": [
    "ops.query('Anio_mes > 201700 & Estado == \"Nayarit\"')"
   ]
  },
  {
   "cell_type": "markdown",
   "metadata": {},
   "source": [
    "Por ahora no se puede si las columnas contienen espacios."
   ]
  },
  {
   "cell_type": "code",
   "execution_count": 161,
   "metadata": {
    "ExecuteTime": {
     "end_time": "2018-03-16T03:37:36.530285Z",
     "start_time": "2018-03-16T03:37:36.511104Z"
    }
   },
   "outputs": [
    {
     "ename": "SyntaxError",
     "evalue": "invalid syntax (<unknown>, line 1)",
     "output_type": "error",
     "traceback": [
      "\u001b[0;36m  File \u001b[0;32m\"<unknown>\"\u001b[0;36m, line \u001b[0;32m1\u001b[0m\n\u001b[0;31m    Anio_mes >2017 and Codigo IATA ==\"UPN\"\u001b[0m\n\u001b[0m                                 ^\u001b[0m\n\u001b[0;31mSyntaxError\u001b[0m\u001b[0;31m:\u001b[0m invalid syntax\n"
     ]
    }
   ],
   "source": [
    "ops.query('Anio_mes > 2017 & Codigo IATA == \"UPN\"')"
   ]
  },
  {
   "cell_type": "markdown",
   "metadata": {},
   "source": [
    "Podemos cambiar los nombres de todas las columnas de `ops` para que en vez de espacios tengan _."
   ]
  },
  {
   "cell_type": "code",
   "execution_count": 130,
   "metadata": {
    "ExecuteTime": {
     "end_time": "2018-03-16T03:22:11.206515Z",
     "start_time": "2018-03-16T03:22:11.196655Z"
    },
    "collapsed": true
   },
   "outputs": [],
   "source": [
    "ops.columns = [x.replace(' ', '_') for x in ops.columns]"
   ]
  },
  {
   "cell_type": "code",
   "execution_count": 131,
   "metadata": {
    "ExecuteTime": {
     "end_time": "2018-03-16T03:22:12.564693Z",
     "start_time": "2018-03-16T03:22:12.548360Z"
    }
   },
   "outputs": [
    {
     "data": {
      "text/plain": [
       "Index(['Anio_mes', 'Codigo_IATA', 'Descripcion', 'Estado',\n",
       "       'Operaciones_nacionales', 'Operaciones_internacionales', 'anio',\n",
       "       'Operaciones_totales', 'Anio_mes'],\n",
       "      dtype='object')"
      ]
     },
     "execution_count": 131,
     "metadata": {},
     "output_type": "execute_result"
    }
   ],
   "source": [
    "ops.columns"
   ]
  },
  {
   "cell_type": "markdown",
   "metadata": {},
   "source": [
    "### Assign\n",
    "\n",
    "Con el método `assign` podemos crear/modificar columnas sin necesidad de \"salirnos\" del pipeline."
   ]
  },
  {
   "cell_type": "code",
   "execution_count": 132,
   "metadata": {
    "ExecuteTime": {
     "end_time": "2018-03-16T03:22:48.321442Z",
     "start_time": "2018-03-16T03:22:48.307708Z"
    }
   },
   "outputs": [
    {
     "data": {
      "text/html": [
       "<div>\n",
       "<style scoped>\n",
       "    .dataframe tbody tr th:only-of-type {\n",
       "        vertical-align: middle;\n",
       "    }\n",
       "\n",
       "    .dataframe tbody tr th {\n",
       "        vertical-align: top;\n",
       "    }\n",
       "\n",
       "    .dataframe thead th {\n",
       "        text-align: right;\n",
       "    }\n",
       "</style>\n",
       "<table border=\"1\" class=\"dataframe\">\n",
       "  <thead>\n",
       "    <tr style=\"text-align: right;\">\n",
       "      <th></th>\n",
       "      <th>Anio_mes</th>\n",
       "      <th>Codigo_IATA</th>\n",
       "      <th>Descripcion</th>\n",
       "      <th>Estado</th>\n",
       "      <th>Operaciones_nacionales</th>\n",
       "      <th>Operaciones_internacionales</th>\n",
       "      <th>anio</th>\n",
       "      <th>Operaciones_totales</th>\n",
       "      <th>Anio_mes</th>\n",
       "      <th>nueva_variable</th>\n",
       "    </tr>\n",
       "  </thead>\n",
       "  <tbody>\n",
       "    <tr>\n",
       "      <th>0</th>\n",
       "      <td>201501</td>\n",
       "      <td>CEN</td>\n",
       "      <td>Ciudad Obregon</td>\n",
       "      <td>Sonora</td>\n",
       "      <td>730</td>\n",
       "      <td>137</td>\n",
       "      <td>2015</td>\n",
       "      <td>867</td>\n",
       "      <td>201501</td>\n",
       "      <td>1</td>\n",
       "    </tr>\n",
       "    <tr>\n",
       "      <th>1</th>\n",
       "      <td>201501</td>\n",
       "      <td>CLQ</td>\n",
       "      <td>Colima</td>\n",
       "      <td>Colima</td>\n",
       "      <td>468</td>\n",
       "      <td>0</td>\n",
       "      <td>2015</td>\n",
       "      <td>468</td>\n",
       "      <td>201501</td>\n",
       "      <td>1</td>\n",
       "    </tr>\n",
       "    <tr>\n",
       "      <th>2</th>\n",
       "      <td>201501</td>\n",
       "      <td>CME</td>\n",
       "      <td>Ciudad del Carmen</td>\n",
       "      <td>Campeche</td>\n",
       "      <td>4750</td>\n",
       "      <td>83</td>\n",
       "      <td>2015</td>\n",
       "      <td>4833</td>\n",
       "      <td>201501</td>\n",
       "      <td>1</td>\n",
       "    </tr>\n",
       "  </tbody>\n",
       "</table>\n",
       "</div>"
      ],
      "text/plain": [
       "   Anio_mes Codigo_IATA        Descripcion    Estado  Operaciones_nacionales  \\\n",
       "0    201501         CEN     Ciudad Obregon    Sonora                     730   \n",
       "1    201501         CLQ             Colima    Colima                     468   \n",
       "2    201501         CME  Ciudad del Carmen  Campeche                    4750   \n",
       "\n",
       "   Operaciones_internacionales  anio  Operaciones_totales  Anio_mes  \\\n",
       "0                          137  2015                  867    201501   \n",
       "1                            0  2015                  468    201501   \n",
       "2                           83  2015                 4833    201501   \n",
       "\n",
       "   nueva_variable  \n",
       "0               1  \n",
       "1               1  \n",
       "2               1  "
      ]
     },
     "execution_count": 132,
     "metadata": {},
     "output_type": "execute_result"
    }
   ],
   "source": [
    "ops.assign(nueva_variable = 1).head(3)"
   ]
  },
  {
   "cell_type": "code",
   "execution_count": 133,
   "metadata": {
    "ExecuteTime": {
     "end_time": "2018-03-16T03:23:06.182798Z",
     "start_time": "2018-03-16T03:23:06.153404Z"
    }
   },
   "outputs": [
    {
     "data": {
      "text/html": [
       "<div>\n",
       "<style scoped>\n",
       "    .dataframe tbody tr th:only-of-type {\n",
       "        vertical-align: middle;\n",
       "    }\n",
       "\n",
       "    .dataframe tbody tr th {\n",
       "        vertical-align: top;\n",
       "    }\n",
       "\n",
       "    .dataframe thead th {\n",
       "        text-align: right;\n",
       "    }\n",
       "</style>\n",
       "<table border=\"1\" class=\"dataframe\">\n",
       "  <thead>\n",
       "    <tr style=\"text-align: right;\">\n",
       "      <th></th>\n",
       "      <th>Anio_mes</th>\n",
       "      <th>Codigo_IATA</th>\n",
       "      <th>Descripcion</th>\n",
       "      <th>Estado</th>\n",
       "      <th>Operaciones_nacionales</th>\n",
       "      <th>Operaciones_internacionales</th>\n",
       "      <th>anio</th>\n",
       "      <th>Operaciones_totales</th>\n",
       "      <th>Anio_mes</th>\n",
       "    </tr>\n",
       "  </thead>\n",
       "  <tbody>\n",
       "    <tr>\n",
       "      <th>0</th>\n",
       "      <td>201501</td>\n",
       "      <td>CEN</td>\n",
       "      <td>Ciudad Obregon</td>\n",
       "      <td>Sonora</td>\n",
       "      <td>730</td>\n",
       "      <td>137</td>\n",
       "      <td>2015</td>\n",
       "      <td>867</td>\n",
       "      <td>201501</td>\n",
       "    </tr>\n",
       "    <tr>\n",
       "      <th>1</th>\n",
       "      <td>201501</td>\n",
       "      <td>CLQ</td>\n",
       "      <td>Colima</td>\n",
       "      <td>Colima</td>\n",
       "      <td>468</td>\n",
       "      <td>0</td>\n",
       "      <td>2015</td>\n",
       "      <td>468</td>\n",
       "      <td>201501</td>\n",
       "    </tr>\n",
       "    <tr>\n",
       "      <th>2</th>\n",
       "      <td>201501</td>\n",
       "      <td>CME</td>\n",
       "      <td>Ciudad del Carmen</td>\n",
       "      <td>Campeche</td>\n",
       "      <td>4750</td>\n",
       "      <td>83</td>\n",
       "      <td>2015</td>\n",
       "      <td>4833</td>\n",
       "      <td>201501</td>\n",
       "    </tr>\n",
       "  </tbody>\n",
       "</table>\n",
       "</div>"
      ],
      "text/plain": [
       "   Anio_mes Codigo_IATA        Descripcion    Estado  Operaciones_nacionales  \\\n",
       "0    201501         CEN     Ciudad Obregon    Sonora                     730   \n",
       "1    201501         CLQ             Colima    Colima                     468   \n",
       "2    201501         CME  Ciudad del Carmen  Campeche                    4750   \n",
       "\n",
       "   Operaciones_internacionales  anio  Operaciones_totales  Anio_mes  \n",
       "0                          137  2015                  867    201501  \n",
       "1                            0  2015                  468    201501  \n",
       "2                           83  2015                 4833    201501  "
      ]
     },
     "execution_count": 133,
     "metadata": {},
     "output_type": "execute_result"
    }
   ],
   "source": [
    "ops.head(3)"
   ]
  },
  {
   "cell_type": "code",
   "execution_count": null,
   "metadata": {
    "ExecuteTime": {
     "end_time": "2018-03-14T00:02:58.338189Z",
     "start_time": "2018-03-14T00:02:58.233301Z"
    },
    "collapsed": true
   },
   "outputs": [],
   "source": [
    "ops.assign(Anio_mes = 1).head(3)"
   ]
  },
  {
   "cell_type": "markdown",
   "metadata": {},
   "source": [
    "También podemos computar usando las mismas columnas de dataframe a travén de una función"
   ]
  },
  {
   "cell_type": "code",
   "execution_count": 134,
   "metadata": {
    "ExecuteTime": {
     "end_time": "2018-03-16T03:24:25.289283Z",
     "start_time": "2018-03-16T03:24:25.274491Z"
    }
   },
   "outputs": [
    {
     "data": {
      "text/html": [
       "<div>\n",
       "<style scoped>\n",
       "    .dataframe tbody tr th:only-of-type {\n",
       "        vertical-align: middle;\n",
       "    }\n",
       "\n",
       "    .dataframe tbody tr th {\n",
       "        vertical-align: top;\n",
       "    }\n",
       "\n",
       "    .dataframe thead th {\n",
       "        text-align: right;\n",
       "    }\n",
       "</style>\n",
       "<table border=\"1\" class=\"dataframe\">\n",
       "  <thead>\n",
       "    <tr style=\"text-align: right;\">\n",
       "      <th></th>\n",
       "      <th>Anio_mes</th>\n",
       "      <th>Codigo_IATA</th>\n",
       "      <th>Descripcion</th>\n",
       "      <th>Estado</th>\n",
       "      <th>Operaciones_nacionales</th>\n",
       "      <th>Operaciones_internacionales</th>\n",
       "      <th>anio</th>\n",
       "      <th>Operaciones_totales</th>\n",
       "      <th>Anio_mes</th>\n",
       "      <th>op_tot</th>\n",
       "    </tr>\n",
       "  </thead>\n",
       "  <tbody>\n",
       "    <tr>\n",
       "      <th>0</th>\n",
       "      <td>201501</td>\n",
       "      <td>CEN</td>\n",
       "      <td>Ciudad Obregon</td>\n",
       "      <td>Sonora</td>\n",
       "      <td>730</td>\n",
       "      <td>137</td>\n",
       "      <td>2015</td>\n",
       "      <td>867</td>\n",
       "      <td>201501</td>\n",
       "      <td>867</td>\n",
       "    </tr>\n",
       "    <tr>\n",
       "      <th>1</th>\n",
       "      <td>201501</td>\n",
       "      <td>CLQ</td>\n",
       "      <td>Colima</td>\n",
       "      <td>Colima</td>\n",
       "      <td>468</td>\n",
       "      <td>0</td>\n",
       "      <td>2015</td>\n",
       "      <td>468</td>\n",
       "      <td>201501</td>\n",
       "      <td>468</td>\n",
       "    </tr>\n",
       "    <tr>\n",
       "      <th>2</th>\n",
       "      <td>201501</td>\n",
       "      <td>CME</td>\n",
       "      <td>Ciudad del Carmen</td>\n",
       "      <td>Campeche</td>\n",
       "      <td>4750</td>\n",
       "      <td>83</td>\n",
       "      <td>2015</td>\n",
       "      <td>4833</td>\n",
       "      <td>201501</td>\n",
       "      <td>4833</td>\n",
       "    </tr>\n",
       "  </tbody>\n",
       "</table>\n",
       "</div>"
      ],
      "text/plain": [
       "   Anio_mes Codigo_IATA        Descripcion    Estado  Operaciones_nacionales  \\\n",
       "0    201501         CEN     Ciudad Obregon    Sonora                     730   \n",
       "1    201501         CLQ             Colima    Colima                     468   \n",
       "2    201501         CME  Ciudad del Carmen  Campeche                    4750   \n",
       "\n",
       "   Operaciones_internacionales  anio  Operaciones_totales  Anio_mes  op_tot  \n",
       "0                          137  2015                  867    201501     867  \n",
       "1                            0  2015                  468    201501     468  \n",
       "2                           83  2015                 4833    201501    4833  "
      ]
     },
     "execution_count": 134,
     "metadata": {},
     "output_type": "execute_result"
    }
   ],
   "source": [
    "ops.assign(\n",
    "    op_tot = lambda x: x['Operaciones_internacionales'] + x['Operaciones_nacionales']).head(3)"
   ]
  },
  {
   "cell_type": "markdown",
   "metadata": {},
   "source": [
    "## Iterar sobre dataframe"
   ]
  },
  {
   "cell_type": "code",
   "execution_count": 148,
   "metadata": {
    "ExecuteTime": {
     "end_time": "2018-03-16T03:29:27.060063Z",
     "start_time": "2018-03-16T03:29:27.035276Z"
    }
   },
   "outputs": [
    {
     "data": {
      "text/html": [
       "<div>\n",
       "<style scoped>\n",
       "    .dataframe tbody tr th:only-of-type {\n",
       "        vertical-align: middle;\n",
       "    }\n",
       "\n",
       "    .dataframe tbody tr th {\n",
       "        vertical-align: top;\n",
       "    }\n",
       "\n",
       "    .dataframe thead th {\n",
       "        text-align: right;\n",
       "    }\n",
       "</style>\n",
       "<table border=\"1\" class=\"dataframe\">\n",
       "  <thead>\n",
       "    <tr style=\"text-align: right;\">\n",
       "      <th></th>\n",
       "      <th>Anio_mes</th>\n",
       "      <th>Codigo_IATA</th>\n",
       "      <th>Descripcion</th>\n",
       "      <th>Estado</th>\n",
       "      <th>Operaciones_nacionales</th>\n",
       "      <th>Operaciones_internacionales</th>\n",
       "      <th>anio</th>\n",
       "      <th>Operaciones_totales</th>\n",
       "      <th>Anio_mes</th>\n",
       "    </tr>\n",
       "  </thead>\n",
       "  <tbody>\n",
       "    <tr>\n",
       "      <th>0</th>\n",
       "      <td>201501</td>\n",
       "      <td>CEN</td>\n",
       "      <td>Ciudad Obregon</td>\n",
       "      <td>Sonora</td>\n",
       "      <td>730</td>\n",
       "      <td>137</td>\n",
       "      <td>2015</td>\n",
       "      <td>867</td>\n",
       "      <td>201501</td>\n",
       "    </tr>\n",
       "  </tbody>\n",
       "</table>\n",
       "</div>"
      ],
      "text/plain": [
       "   Anio_mes Codigo_IATA     Descripcion  Estado  Operaciones_nacionales  \\\n",
       "0    201501         CEN  Ciudad Obregon  Sonora                     730   \n",
       "\n",
       "   Operaciones_internacionales  anio  Operaciones_totales  Anio_mes  \n",
       "0                          137  2015                  867    201501  "
      ]
     },
     "execution_count": 148,
     "metadata": {},
     "output_type": "execute_result"
    }
   ],
   "source": [
    "mini_ops = ops.head(1)\n",
    "mini_ops"
   ]
  },
  {
   "cell_type": "code",
   "execution_count": 149,
   "metadata": {
    "ExecuteTime": {
     "end_time": "2018-03-16T03:29:28.480897Z",
     "start_time": "2018-03-16T03:29:28.476170Z"
    }
   },
   "outputs": [
    {
     "name": "stdout",
     "output_type": "stream",
     "text": [
      "0\n",
      "Anio_mes                               201501\n",
      "Codigo_IATA                               CEN\n",
      "Descripcion                    Ciudad Obregon\n",
      "Estado                                 Sonora\n",
      "Operaciones_nacionales                    730\n",
      "Operaciones_internacionales               137\n",
      "anio                                     2015\n",
      "Operaciones_totales                       867\n",
      "Anio_mes                               201501\n",
      "Name: 0, dtype: object\n",
      "Sonora\n"
     ]
    }
   ],
   "source": [
    "for i, row in mini_ops.iterrows():\n",
    "    print(i)\n",
    "    print(row)\n",
    "    print(row['Estado'])"
   ]
  },
  {
   "cell_type": "markdown",
   "metadata": {
    "solution2": "hidden",
    "solution2_first": true
   },
   "source": [
    "**Ejercicio**: Crea un diccionario de la forma {'Código IATA': Total de pasajeros nacionales en 2017, ...} para todas las IATAS."
   ]
  },
  {
   "cell_type": "code",
   "execution_count": null,
   "metadata": {
    "ExecuteTime": {
     "end_time": "2018-03-14T00:02:58.703421Z",
     "start_time": "2018-03-14T00:02:58.593047Z"
    },
    "collapsed": true,
    "solution2": "hidden"
   },
   "outputs": [],
   "source": [
    "df_iata = (pas.\n",
    "           rename(columns={'Pasajeros nacionales': 'pas_nac',\n",
    "                           'Anio mes': 'anio_mes'}).\n",
    "           query('anio_mes >= 201701').\n",
    "           groupby('Codigo IATA')['pas_nac'].\n",
    "           sum().\n",
    "           reset_index())\n",
    "\n",
    "dicc_iata = {}\n",
    "for i, row in df_iata.iterrows():\n",
    "    dicc_iata[row['Codigo IATA']] = row['pas_nac']\n",
    "    \n",
    "print(dicc_iata)"
   ]
  },
  {
   "cell_type": "code",
   "execution_count": null,
   "metadata": {
    "ExecuteTime": {
     "end_time": "2018-03-14T00:02:58.797230Z",
     "start_time": "2018-03-14T00:02:58.704651Z"
    },
    "collapsed": true
   },
   "outputs": [],
   "source": [
    "pas.columns = [x.replace(' ', '_') for x in pas.columns]\n",
    "df_dicc = (\n",
    "    pas.\n",
    "    query('Anio_mes >= 201700').\n",
    "    groupby('Codigo_IATA')['Pasajeros_nacionales'].\n",
    "    sum().\n",
    "    reset_index()\n",
    ")\n",
    "\n",
    "dicc_IATA = {}\n",
    "for i, row in df_dicc.iterrows():\n",
    "    dicc_IATA[row['Codigo_IATA']] = row['Pasajeros_nacionales']\n",
    "    \n",
    "dicc_IATA"
   ]
  },
  {
   "cell_type": "code",
   "execution_count": 171,
   "metadata": {
    "ExecuteTime": {
     "end_time": "2018-03-16T03:53:27.726912Z",
     "start_time": "2018-03-16T03:53:27.698416Z"
    }
   },
   "outputs": [
    {
     "data": {
      "text/plain": [
       "{'CEN': 5769,\n",
       " 'CLQ': 138,\n",
       " 'CME': 4780,\n",
       " 'CPE': 1507,\n",
       " 'CTM': 254,\n",
       " 'CVM': 915,\n",
       " 'GYM': 1876,\n",
       " 'IZT': 0,\n",
       " 'LTO': 42657,\n",
       " 'MAM': 35,\n",
       " 'NLD': 150,\n",
       " 'NOG': 166,\n",
       " 'PAZ': 0,\n",
       " 'PBC': 32107,\n",
       " 'PXM': 2301,\n",
       " 'TCN': 0,\n",
       " 'TPQ': 0,\n",
       " 'TSL': 0,\n",
       " 'UPN': 7523}"
      ]
     },
     "execution_count": 171,
     "metadata": {},
     "output_type": "execute_result"
    }
   ],
   "source": [
    "pas_2017 = (\n",
    "    pas\n",
    "    .query('anio == 2017')\n",
    "    .groupby('Codigo IATA')['Pasajeros internacionales']\n",
    "    .sum()\n",
    "    .reset_index()\n",
    ")\n",
    "\n",
    "dict_iata = {}\n",
    "for i, row in pas_2017.iterrows():\n",
    "    dict_iata[row['Codigo IATA']] = row['Pasajeros internacionales']\n",
    "    \n",
    "dict_iata"
   ]
  },
  {
   "cell_type": "code",
   "execution_count": 165,
   "metadata": {
    "ExecuteTime": {
     "end_time": "2018-03-16T03:50:46.164790Z",
     "start_time": "2018-03-16T03:50:46.153197Z"
    }
   },
   "outputs": [
    {
     "data": {
      "text/html": [
       "<div>\n",
       "<style scoped>\n",
       "    .dataframe tbody tr th:only-of-type {\n",
       "        vertical-align: middle;\n",
       "    }\n",
       "\n",
       "    .dataframe tbody tr th {\n",
       "        vertical-align: top;\n",
       "    }\n",
       "\n",
       "    .dataframe thead th {\n",
       "        text-align: right;\n",
       "    }\n",
       "</style>\n",
       "<table border=\"1\" class=\"dataframe\">\n",
       "  <thead>\n",
       "    <tr style=\"text-align: right;\">\n",
       "      <th></th>\n",
       "      <th>Anio mes</th>\n",
       "      <th>Codigo IATA</th>\n",
       "      <th>Descripcion</th>\n",
       "      <th>Estado</th>\n",
       "      <th>Pasajeros nacionales</th>\n",
       "      <th>Pasajeros internacionales</th>\n",
       "      <th>anio</th>\n",
       "    </tr>\n",
       "  </thead>\n",
       "  <tbody>\n",
       "    <tr>\n",
       "      <th>0</th>\n",
       "      <td>201501</td>\n",
       "      <td>CEN</td>\n",
       "      <td>Ciudad Obregon</td>\n",
       "      <td>Sonora</td>\n",
       "      <td>17149</td>\n",
       "      <td>721</td>\n",
       "      <td>2015</td>\n",
       "    </tr>\n",
       "    <tr>\n",
       "      <th>1</th>\n",
       "      <td>201501</td>\n",
       "      <td>CLQ</td>\n",
       "      <td>Colima</td>\n",
       "      <td>Colima</td>\n",
       "      <td>8486</td>\n",
       "      <td>124</td>\n",
       "      <td>2015</td>\n",
       "    </tr>\n",
       "    <tr>\n",
       "      <th>2</th>\n",
       "      <td>201501</td>\n",
       "      <td>CME</td>\n",
       "      <td>Ciudad del Carmen</td>\n",
       "      <td>Campeche</td>\n",
       "      <td>56079</td>\n",
       "      <td>3126</td>\n",
       "      <td>2015</td>\n",
       "    </tr>\n",
       "  </tbody>\n",
       "</table>\n",
       "</div>"
      ],
      "text/plain": [
       "   Anio mes Codigo IATA        Descripcion    Estado  Pasajeros nacionales  \\\n",
       "0    201501         CEN     Ciudad Obregon    Sonora                 17149   \n",
       "1    201501         CLQ             Colima    Colima                  8486   \n",
       "2    201501         CME  Ciudad del Carmen  Campeche                 56079   \n",
       "\n",
       "   Pasajeros internacionales  anio  \n",
       "0                        721  2015  \n",
       "1                        124  2015  \n",
       "2                       3126  2015  "
      ]
     },
     "execution_count": 165,
     "metadata": {},
     "output_type": "execute_result"
    }
   ],
   "source": [
    "pas.head(3)"
   ]
  },
  {
   "cell_type": "markdown",
   "metadata": {},
   "source": [
    "### Apply\n",
    "\n",
    "El método apply nos ayuda a aplicar funciones a un Series."
   ]
  },
  {
   "cell_type": "code",
   "execution_count": 152,
   "metadata": {
    "ExecuteTime": {
     "end_time": "2018-03-16T03:32:51.388026Z",
     "start_time": "2018-03-16T03:32:51.368586Z"
    }
   },
   "outputs": [
    {
     "data": {
      "text/plain": [
       "0              inf\n",
       "1    1.777532e+203\n",
       "2              inf\n",
       "3    7.066491e+172\n",
       "4    6.187780e+146\n",
       "Name: Operaciones_nacionales, dtype: float64"
      ]
     },
     "execution_count": 152,
     "metadata": {},
     "output_type": "execute_result"
    }
   ],
   "source": [
    "ops['Operaciones_nacionales'].apply(np.exp).head(5)"
   ]
  },
  {
   "cell_type": "markdown",
   "metadata": {},
   "source": [
    "Esto es útil cuando tenemos funciones propias que queremos usar."
   ]
  },
  {
   "cell_type": "code",
   "execution_count": 153,
   "metadata": {
    "ExecuteTime": {
     "end_time": "2018-03-16T03:33:18.088623Z",
     "start_time": "2018-03-16T03:33:18.073431Z"
    },
    "collapsed": true
   },
   "outputs": [],
   "source": [
    "def corte(numero):\n",
    "    # Si numero es mayor a 100 entonces regresa verdadero, si no Falso\n",
    "    if numero > 100:\n",
    "        return True\n",
    "    else:\n",
    "        return False"
   ]
  },
  {
   "cell_type": "code",
   "execution_count": 158,
   "metadata": {
    "ExecuteTime": {
     "end_time": "2018-03-16T03:34:12.157120Z",
     "start_time": "2018-03-16T03:34:12.141285Z"
    }
   },
   "outputs": [
    {
     "data": {
      "text/plain": [
       "0     True\n",
       "1    False\n",
       "2    False\n",
       "Name: Operaciones_internacionales, dtype: bool"
      ]
     },
     "execution_count": 158,
     "metadata": {},
     "output_type": "execute_result"
    }
   ],
   "source": [
    "ops['Operaciones_internacionales'].apply(corte).head(3)"
   ]
  },
  {
   "cell_type": "markdown",
   "metadata": {},
   "source": [
    "Usando el parámetro  `axis` también podemos aplicar a las columnas, equivalente a la función `agg`."
   ]
  },
  {
   "cell_type": "code",
   "execution_count": 159,
   "metadata": {
    "ExecuteTime": {
     "end_time": "2018-03-16T03:34:22.236319Z",
     "start_time": "2018-03-16T03:34:22.206029Z"
    }
   },
   "outputs": [
    {
     "data": {
      "text/html": [
       "<div>\n",
       "<style scoped>\n",
       "    .dataframe tbody tr th:only-of-type {\n",
       "        vertical-align: middle;\n",
       "    }\n",
       "\n",
       "    .dataframe tbody tr th {\n",
       "        vertical-align: top;\n",
       "    }\n",
       "\n",
       "    .dataframe thead th {\n",
       "        text-align: right;\n",
       "    }\n",
       "</style>\n",
       "<table border=\"1\" class=\"dataframe\">\n",
       "  <thead>\n",
       "    <tr style=\"text-align: right;\">\n",
       "      <th></th>\n",
       "      <th>Operaciones_nacionales</th>\n",
       "      <th>Operaciones_internacionales</th>\n",
       "    </tr>\n",
       "  </thead>\n",
       "  <tbody>\n",
       "    <tr>\n",
       "      <th>sum</th>\n",
       "      <td>339917.00000</td>\n",
       "      <td>27080.000000</td>\n",
       "    </tr>\n",
       "    <tr>\n",
       "      <th>mean</th>\n",
       "      <td>604.83452</td>\n",
       "      <td>48.185053</td>\n",
       "    </tr>\n",
       "  </tbody>\n",
       "</table>\n",
       "</div>"
      ],
      "text/plain": [
       "      Operaciones_nacionales  Operaciones_internacionales\n",
       "sum             339917.00000                 27080.000000\n",
       "mean               604.83452                    48.185053"
      ]
     },
     "execution_count": 159,
     "metadata": {},
     "output_type": "execute_result"
    }
   ],
   "source": [
    "ops[['Operaciones_nacionales', 'Operaciones_internacionales']].apply([np.sum, np.mean], axis=0)"
   ]
  },
  {
   "cell_type": "markdown",
   "metadata": {},
   "source": [
    "## Wrap-up"
   ]
  },
  {
   "cell_type": "code",
   "execution_count": null,
   "metadata": {
    "ExecuteTime": {
     "end_time": "2018-03-14T00:02:59.888239Z",
     "start_time": "2018-03-14T00:02:59.289921Z"
    },
    "collapsed": true
   },
   "outputs": [],
   "source": [
    "pas = (pd.DataFrame.\n",
    "       from_csv(\n",
    "           'http://www.asa.gob.mx/work/models/ASA/Resource/2008/1/images/ASA_estadisticasPasajeros(22).csv'\n",
    "       )).reset_index()\n",
    "\n",
    "ops = (pd.DataFrame.\n",
    "       from_csv(\n",
    "           'http://www.asa.gob.mx/work/models/ASA/Resource/2008/1/images/ASA_estadisticasOperaciones(22).csv'\n",
    "       )).reset_index()"
   ]
  },
  {
   "cell_type": "code",
   "execution_count": null,
   "metadata": {
    "ExecuteTime": {
     "end_time": "2018-03-14T00:02:59.894665Z",
     "start_time": "2018-03-14T00:02:59.890107Z"
    },
    "collapsed": true
   },
   "outputs": [],
   "source": [
    "ops.columns"
   ]
  },
  {
   "cell_type": "markdown",
   "metadata": {
    "solution2": "hidden",
    "solution2_first": true
   },
   "source": [
    "**Ejercicio**: Encuentra el promedio y desviación estándar anual de operaciones nacionales e internacionales de los dos estados con mayor número de pasajeros internacionales de 2017."
   ]
  },
  {
   "cell_type": "code",
   "execution_count": null,
   "metadata": {
    "ExecuteTime": {
     "end_time": "2018-03-14T00:03:00.245514Z",
     "start_time": "2018-03-14T00:03:00.119337Z"
    },
    "collapsed": true,
    "solution2": "hidden"
   },
   "outputs": [],
   "source": [
    "(\n",
    "    pas[pas['Anio mes'] >= 201700].\n",
    "    groupby('Estado')['Pasajeros internacionales'].\n",
    "    sum().\n",
    "    sort_values(ascending=False).\n",
    "    reset_index().\n",
    "    head(2).\n",
    "    merge(ops).\n",
    "    assign(anio = lambda x: (x['Anio mes']/100).astype(int)).\n",
    "    groupby(['Estado', 'anio'])['Operaciones nacionales', 'Operaciones internacionales'].\n",
    "    agg([np.mean, np.std])\n",
    ")"
   ]
  }
 ],
 "metadata": {
  "kernelspec": {
   "display_name": "Python 3",
   "language": "python",
   "name": "python3"
  },
  "language_info": {
   "codemirror_mode": {
    "name": "ipython",
    "version": 3
   },
   "file_extension": ".py",
   "mimetype": "text/x-python",
   "name": "python",
   "nbconvert_exporter": "python",
   "pygments_lexer": "ipython3",
   "version": "3.6.1"
  },
  "toc": {
   "colors": {
    "hover_highlight": "#DAA520",
    "running_highlight": "#FF0000",
    "selected_highlight": "#FFD700"
   },
   "moveMenuLeft": true,
   "nav_menu": {
    "height": "282px",
    "width": "252px"
   },
   "navigate_menu": true,
   "number_sections": true,
   "sideBar": true,
   "threshold": 4,
   "toc_cell": true,
   "toc_section_display": "block",
   "toc_window_display": true,
   "widenNotebook": false
  }
 },
 "nbformat": 4,
 "nbformat_minor": 2
}
